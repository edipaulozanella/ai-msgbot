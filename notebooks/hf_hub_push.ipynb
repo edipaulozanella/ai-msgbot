{
 "cells": [
  {
   "cell_type": "markdown",
   "metadata": {},
   "source": [
    "# Push your Model to the Hub\n",
    "\n",
    "> Have a trained model that you want to push to the Hub? Here's your ticket.\n",
    "\n",
    "**Prerequisites: you need to sign up for a Huggingface account [on their site](https://huggingface.co/)**\n",
    "\n",
    "This notebook covers how to use the `hf_hub_push` function to push your model to the Hub. This notebook is based on the documentation provided by HuggingFace in their course, specifically [this chapter](https://huggingface.co/course/chapter4/3?fw=pt).\n",
    "\n",
    "Documentation on the **Huggingface Hub** can be found [here](https://huggingface.co/docs/hub/main)."
   ]
  },
  {
   "cell_type": "markdown",
   "metadata": {},
   "source": [
    "## getting started\n",
    "\n",
    "> Note: **before doing anything further on this notebook**, you need to have a HuggingFace account and a model saved to your local machine. Download generated models saved to your google drive from the training notebook, or you can practice with demo models downloaded with the `download_models.py` script in the root of this repository.\n",
    "\n"
   ]
  },
  {
   "cell_type": "code",
   "execution_count": 1,
   "metadata": {},
   "outputs": [],
   "source": [
    "from huggingface_hub import (\n",
    "    # User management\n",
    "    login,\n",
    "    logout,\n",
    "    notebook_login,\n",
    "    whoami,\n",
    "    # Repository creation and management\n",
    "    create_repo,\n",
    "    delete_repo,\n",
    "    update_repo_visibility,\n",
    "    # And some methods to retrieve/change information about the content\n",
    "    list_models,\n",
    "    list_datasets,\n",
    "    list_metrics,\n",
    "    list_repo_files,\n",
    "    upload_file,\n",
    "    delete_file,\n",
    ")"
   ]
  },
  {
   "cell_type": "markdown",
   "metadata": {},
   "source": [
    "login to your huggingface account below."
   ]
  },
  {
   "cell_type": "code",
   "execution_count": 2,
   "metadata": {},
   "outputs": [
    {
     "data": {
      "application/vnd.jupyter.widget-view+json": {
       "model_id": "3b9ab00dd7184fbdad7be5d99e860a83",
       "version_major": 2,
       "version_minor": 0
      },
      "text/plain": [
       "VBox(children=(HTML(value='<center>\\n<img src=https://huggingface.co/front/assets/huggingface_logo-noborder.sv…"
      ]
     },
     "metadata": {},
     "output_type": "display_data"
    }
   ],
   "source": [
    "notebook_login()"
   ]
  },
  {
   "cell_type": "markdown",
   "metadata": {},
   "source": [
    "the below confirms whether you are logged in to the Hub, and will also display your organization and account information.\n",
    "\n",
    "(you get the org API token from here for use below)"
   ]
  },
  {
   "cell_type": "code",
   "execution_count": 3,
   "metadata": {},
   "outputs": [],
   "source": [
    "from IPython.display import clear_output\n",
    "import time\n",
    "import pprint as pp\n",
    "\n",
    "pp.pprint(whoami())  # print the user's name and other info\n",
    "time.sleep(20)  # clear_output after 20 seconds\n",
    "clear_output(wait=False)"
   ]
  },
  {
   "cell_type": "markdown",
   "metadata": {},
   "source": [
    "---"
   ]
  },
  {
   "cell_type": "markdown",
   "metadata": {},
   "source": [
    "## Setup your repo"
   ]
  },
  {
   "cell_type": "markdown",
   "metadata": {},
   "source": [
    "enter the repo name in the generated widget below. this will be used as the repository _and the model name_ in the Hub."
   ]
  },
  {
   "cell_type": "code",
   "execution_count": 4,
   "metadata": {},
   "outputs": [
    {
     "data": {
      "application/vnd.jupyter.widget-view+json": {
       "model_id": "7ebec409d87a4de5bab2c874cc0f854d",
       "version_major": 2,
       "version_minor": 0
      },
      "text/plain": [
       "Text(value='My Hello World Repo', description='Enter the name of the repository: ', placeholder='put repo name…"
      ]
     },
     "metadata": {},
     "output_type": "display_data"
    }
   ],
   "source": [
    "from pathlib import Path\n",
    "from huggingface_hub import list_repo_files, Repository\n",
    "from ipywidgets import widgets\n",
    "\n",
    "my_repo = widgets.Text(\n",
    "    value=\"My Hello World Repo\",\n",
    "    placeholder=\"put repo name here\",\n",
    "    description=\"Enter the name of the repository: \",\n",
    "    disabled=False,\n",
    ")\n",
    "\n",
    "\n",
    "my_repo"
   ]
  },
  {
   "cell_type": "code",
   "execution_count": 5,
   "metadata": {},
   "outputs": [
    {
     "name": "stdout",
     "output_type": "stream",
     "text": [
      "your repository testing-aimsgbot-upload will be created\n"
     ]
    }
   ],
   "source": [
    "print(f\"your repository {my_repo.value} will be created\")"
   ]
  },
  {
   "cell_type": "markdown",
   "metadata": {},
   "source": [
    "Enter the filepath of the folder of the `aitextgen` model to upload. aitextgen's\n",
    "Because we are using aitextgen, this is the folder containing the model's `config.json` and `pytorch_model.bin` files.\n",
    "\n",
    "_Note: if you already have an aitextgen model fully exported, that's fine too_"
   ]
  },
  {
   "cell_type": "code",
   "execution_count": 6,
   "metadata": {},
   "outputs": [
    {
     "data": {
      "application/vnd.jupyter.widget-view+json": {
       "model_id": "106ebdb8efa84afa9bf5db96ae8d7eb9",
       "version_major": 2,
       "version_minor": 0
      },
      "text/plain": [
       "Text(value='', description='Filepath: ', placeholder='Enter the path of the folder to upload')"
      ]
     },
     "metadata": {},
     "output_type": "display_data"
    }
   ],
   "source": [
    "local_path = widgets.Text(\n",
    "    placeholder=\"Enter the path of the folder to upload\",\n",
    "    description=\"Filepath: \",\n",
    "    disabled=False,\n",
    ")\n",
    "local_path"
   ]
  },
  {
   "cell_type": "code",
   "execution_count": 7,
   "metadata": {},
   "outputs": [
    {
     "name": "stdout",
     "output_type": "stream",
     "text": [
      "your local path \n",
      " C:\\Users\\peter\\code-dev-22\\chatbot-conversation\\GPT2_trivNatQAdailydia_774M_175Ksteps \n",
      " will be uploaded\n"
     ]
    }
   ],
   "source": [
    "print(f\"your local path \\n {local_path.value} \\n will be uploaded\")"
   ]
  },
  {
   "cell_type": "markdown",
   "metadata": {},
   "source": [
    "Enter the org API token if you wish to upload to an organization profile vs. your profile. If you do not enter an API token, you will be uploading to your profile.\n",
    "\n",
    "- it is worth noting that the owner of the model can be changed later (in both directions) via web interface."
   ]
  },
  {
   "cell_type": "code",
   "execution_count": 8,
   "metadata": {},
   "outputs": [
    {
     "name": "stdout",
     "output_type": "stream",
     "text": [
      "enter your org token below to publish to your org. otherwise, leave blank.\n",
      "\n"
     ]
    },
    {
     "data": {
      "application/vnd.jupyter.widget-view+json": {
       "model_id": "748467e2797a4523aff772d5907b0383",
       "version_major": 2,
       "version_minor": 0
      },
      "text/plain": [
       "Password(description='Org Token:', placeholder='Enter your org token')"
      ]
     },
     "metadata": {},
     "output_type": "display_data"
    }
   ],
   "source": [
    "org_token = widgets.Password(\n",
    "    placeholder=\"Enter your org token\", description=\"Org Token:\", disabled=False\n",
    ")\n",
    "print(\"enter your org token below to publish to your org. otherwise, leave blank.\\n\")\n",
    "org_token"
   ]
  },
  {
   "cell_type": "markdown",
   "metadata": {},
   "source": [
    "the below cell will confirm whether you were successful in adding your org API token to the notebook."
   ]
  },
  {
   "cell_type": "code",
   "execution_count": 9,
   "metadata": {},
   "outputs": [
    {
     "name": "stdout",
     "output_type": "stream",
     "text": [
      "If relevant, enter your org name below.\n",
      "\n",
      "Have a stored org token with length: 42 chars.\n",
      "therefore this notebook will be published to your org.\n"
     ]
    },
    {
     "data": {
      "application/vnd.jupyter.widget-view+json": {
       "model_id": "bc0e5370d6544d319cd5ffed934c6e16",
       "version_major": 2,
       "version_minor": 0
      },
      "text/plain": [
       "Text(value='', description='Name of org on hf.co: ', placeholder='Enter your org name')"
      ]
     },
     "metadata": {},
     "output_type": "display_data"
    }
   ],
   "source": [
    "use_org = True if org_token.value else False\n",
    "org_box = widgets.Text(\n",
    "    placeholder=\"Enter your org name\",\n",
    "    description=\"Name of org on hf.co: \",\n",
    "    disabled=False,\n",
    ")\n",
    "print(\"If relevant, enter your org name below.\\n\")\n",
    "print(f\"Have a stored org token with length: {len(org_token.value)} chars.\")\n",
    "conf_word = \"will\" if use_org else \"will not\"\n",
    "print(f\"therefore this notebook {conf_word} be published to your org.\")\n",
    "org_box if use_org else \"\""
   ]
  },
  {
   "cell_type": "markdown",
   "metadata": {},
   "source": [
    "---"
   ]
  },
  {
   "cell_type": "markdown",
   "metadata": {},
   "source": [
    "## create repo on hub, clone to local\n",
    "\n",
    "This section basically uses the `huggingface_hub` function to create a repository on the online Hub, and then clones that repository to your local machine.\n",
    "No action needs to be completed here outside of running the cells, but you will need to confirm that the repo was created and cloned successfully."
   ]
  },
  {
   "cell_type": "code",
   "execution_count": 12,
   "metadata": {},
   "outputs": [
    {
     "name": "stderr",
     "output_type": "stream",
     "text": [
      "Cloning https://huggingface.co/ethzanalytics/testing-aimsgbot-upload into local empty directory.\n"
     ]
    }
   ],
   "source": [
    "nb_dir = (\n",
    "    Path().cwd()\n",
    ")  # note that if the notebook is moved, this will not work and you will need to update this\n",
    "root = nb_dir.parent\n",
    "\n",
    "repo_name = str(my_repo.value)\n",
    "repo_path = root / repo_name  # clone to local working directory\n",
    "repo_url = (\n",
    "    create_repo(name=repo_name, exist_ok=True)\n",
    "    if not use_org\n",
    "    else create_repo(\n",
    "        repo_type=None,\n",
    "        name=repo_name,\n",
    "        organization=org_box.value,\n",
    "        exist_ok=True,\n",
    "    )\n",
    ")\n",
    "\n",
    "repo = Repository(\n",
    "    local_dir=str(repo_path.resolve()),\n",
    "    clone_from=repo_url,\n",
    "    use_auth_token=True,\n",
    ")"
   ]
  },
  {
   "cell_type": "markdown",
   "metadata": {},
   "source": [
    "## export aitextgen model to repo folder\n",
    "\n",
    "- based on the directory specified previously, run the `prep_huggingface.py` script to convert the (_likely aitextgen_) model to the format required by the Hub\n",
    "- Ultimately, it will save the relevant model files to the location created in the cell above, for example: `https://huggingface.co/pszemraj/Ballpark-Trivia-M`"
   ]
  },
  {
   "cell_type": "code",
   "execution_count": 13,
   "metadata": {},
   "outputs": [
    {
     "data": {
      "text/plain": [
       "CompletedProcess(args=['python', 'deploy-as-bot/prep_huggingface.py', '--model-dir', 'C:\\\\Users\\\\peter\\\\code-dev-22\\\\chatbot-conversation\\\\GPT2_trivNatQAdailydia_774M_175Ksteps', '--hf-name', 'testing-aimsgbot-upload'], returncode=0)"
      ]
     },
     "execution_count": 13,
     "metadata": {},
     "output_type": "execute_result"
    }
   ],
   "source": [
    "import subprocess\n",
    "\n",
    "# if new to subprocess, see https://docs.python.org/3/library/subprocess.html - basically just a wrapper around os.system to run shell commands\n",
    "# run deploy-as-bot\\prep_huggingface.py with the repo name as an argument\n",
    "subprocess.run(\n",
    "    [\n",
    "        \"python\",\n",
    "        \"deploy-as-bot/prep_huggingface.py\",\n",
    "        \"--model-dir\",\n",
    "        local_path.value,\n",
    "        \"--hf-name\",\n",
    "        repo_name,\n",
    "    ],\n",
    "    cwd=root.resolve(),\n",
    ")"
   ]
  },
  {
   "cell_type": "markdown",
   "metadata": {},
   "source": [
    "## push to hub - upload like it's hot"
   ]
  },
  {
   "cell_type": "code",
   "execution_count": 14,
   "metadata": {},
   "outputs": [
    {
     "data": {
      "application/vnd.jupyter.widget-view+json": {
       "model_id": "27687f21217e44059e3b3ea720185ae2",
       "version_major": 2,
       "version_minor": 0
      },
      "text/plain": [
       "Text(value='', description='Commit message: ', placeholder='DEINE GIT KOMMIT')"
      ]
     },
     "metadata": {},
     "output_type": "display_data"
    }
   ],
   "source": [
    "commit_msg = widgets.Text(\n",
    "    placeholder=\"DEINE GIT KOMMIT\", description=\"Commit message: \", disabled=False\n",
    ")\n",
    "commit_msg  # enter the commit message here"
   ]
  },
  {
   "cell_type": "code",
   "execution_count": null,
   "metadata": {},
   "outputs": [],
   "source": [
    "repo.push_to_hub(str(commit_msg.value))"
   ]
  },
  {
   "cell_type": "markdown",
   "metadata": {},
   "source": [
    "---"
   ]
  }
 ],
 "metadata": {
  "interpreter": {
   "hash": "e9af98ad8cd08d642e30f44bc6c9d0f1b72bbb0d1b17cb8665ead07147c19eea"
  },
  "kernelspec": {
   "display_name": "Python 3.9.7 64-bit ('gpt2_chatbot': conda)",
   "language": "python",
   "name": "python3"
  },
  "language_info": {
   "codemirror_mode": {
    "name": "ipython",
    "version": 3
   },
   "file_extension": ".py",
   "mimetype": "text/x-python",
   "name": "python",
   "nbconvert_exporter": "python",
   "pygments_lexer": "ipython3",
   "version": "3.9.7"
  },
  "orig_nbformat": 4
 },
 "nbformat": 4,
 "nbformat_minor": 2
}
