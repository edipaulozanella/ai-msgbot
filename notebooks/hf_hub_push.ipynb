{
 "cells": [
  {
   "cell_type": "markdown",
   "metadata": {},
   "source": [
    "# Push your Model to the Hub\n",
    "\n",
    "> Have a trained model that you want to push to the Hub? Here's your ticket.\n",
    "\n",
    "**Prerequisites: you need to sign up for a Huggingface account [on their site](https://huggingface.co/)**\n",
    "\n",
    "This notebook covers how to use the `hf_hub_push` function to push your model to the Hub. This notebook is based on the documentation provided by HuggingFace in their course, specifically [this chapter](https://huggingface.co/course/chapter4/3?fw=pt).\n",
    "\n",
    "Documentation on the **Huggingface Hub** can be found [here](https://huggingface.co/docs/hub/main)."
   ]
  },
  {
   "cell_type": "markdown",
   "metadata": {},
   "source": [
    "## getting started"
   ]
  },
  {
   "cell_type": "code",
   "execution_count": 1,
   "metadata": {},
   "outputs": [],
   "source": [
    "from huggingface_hub import (\n",
    "    # User management\n",
    "    login,\n",
    "    logout,\n",
    "    notebook_login,\n",
    "    whoami,\n",
    "    # Repository creation and management\n",
    "    create_repo,\n",
    "    delete_repo,\n",
    "    update_repo_visibility,\n",
    "    # And some methods to retrieve/change information about the content\n",
    "    list_models,\n",
    "    list_datasets,\n",
    "    list_metrics,\n",
    "    list_repo_files,\n",
    "    upload_file,\n",
    "    delete_file,\n",
    ")"
   ]
  },
  {
   "cell_type": "code",
   "execution_count": 2,
   "metadata": {},
   "outputs": [
    {
     "data": {
      "application/vnd.jupyter.widget-view+json": {
       "model_id": "2640af7f4cdb4c57b253bd391654b068",
       "version_major": 2,
       "version_minor": 0
      },
      "text/plain": [
       "VBox(children=(HTML(value=\"<center>\\n<img src=https://huggingface.co/front/assets/huggingface_logo-noborder.sv…"
      ]
     },
     "metadata": {},
     "output_type": "display_data"
    }
   ],
   "source": [
    "notebook_login()"
   ]
  },
  {
   "cell_type": "code",
   "execution_count": 10,
   "metadata": {},
   "outputs": [],
   "source": [
    "from IPython.display import clear_output\n",
    "import time\n",
    "import pprint as pp\n",
    "\n",
    "pp.pprint(whoami()) # print the user's name and other info\n",
    "time.sleep(20)  # clear_output after 20 seconds\n",
    "clear_output(wait=False)"
   ]
  },
  {
   "cell_type": "markdown",
   "metadata": {},
   "source": [
    "## Setup your repo"
   ]
  },
  {
   "cell_type": "code",
   "execution_count": 4,
   "metadata": {},
   "outputs": [
    {
     "data": {
      "application/vnd.jupyter.widget-view+json": {
       "model_id": "4ef0f26982234e09b03609e7053c7bec",
       "version_major": 2,
       "version_minor": 0
      },
      "text/plain": [
       "Text(value='My Hello World Repo', description='Enter the name of the repository: ', placeholder='put repo name…"
      ]
     },
     "metadata": {},
     "output_type": "display_data"
    }
   ],
   "source": [
    "from pathlib import Path\n",
    "from huggingface_hub import list_repo_files, Repository\n",
    "from ipywidgets import widgets\n",
    "\n",
    "my_repo = widgets.Text(\n",
    "    value=\"My Hello World Repo\",\n",
    "    placeholder=\"put repo name here\",\n",
    "    description=\"Enter the name of the repository: \",\n",
    "    disabled=False,\n",
    ")\n",
    "\n",
    "\n",
    "my_repo"
   ]
  },
  {
   "cell_type": "code",
   "execution_count": 5,
   "metadata": {},
   "outputs": [
    {
     "name": "stdout",
     "output_type": "stream",
     "text": [
      "your repository ai-msgbot-gpt2-XL will be created\n"
     ]
    }
   ],
   "source": [
    "print(f\"your repository {my_repo.value} will be created\")"
   ]
  },
  {
   "cell_type": "code",
   "execution_count": 6,
   "metadata": {},
   "outputs": [
    {
     "data": {
      "application/vnd.jupyter.widget-view+json": {
       "model_id": "b3e6e2d569ce4cbf8b28eb490e154f65",
       "version_major": 2,
       "version_minor": 0
      },
      "text/plain": [
       "Text(value='c:\\\\Users\\\\peter\\\\source\\\\ai-msgbot\\\\notebooks', description='Filepath: ', placeholder='Enter the …"
      ]
     },
     "metadata": {},
     "output_type": "display_data"
    }
   ],
   "source": [
    "local_path = widgets.Text(\n",
    "    value=str(Path.cwd()),\n",
    "    placeholder=\"Enter the path of the folder to upload\",\n",
    "    description=\"Filepath: \",\n",
    "    disabled=False,\n",
    ")\n",
    "local_path"
   ]
  },
  {
   "cell_type": "code",
   "execution_count": 7,
   "metadata": {},
   "outputs": [
    {
     "name": "stdout",
     "output_type": "stream",
     "text": [
      "your local path \n",
      " C:\\Users\\peter\\source\\ai-msgbot\\GPT2-Conv-XL-WoW-40k \n",
      " will be uploaded\n"
     ]
    }
   ],
   "source": [
    "print(f\"your local path \\n {local_path.value} \\n will be uploaded\")"
   ]
  },
  {
   "cell_type": "code",
   "execution_count": 8,
   "metadata": {},
   "outputs": [
    {
     "name": "stdout",
     "output_type": "stream",
     "text": [
      "enter your org token below to publish to your org. otherwise, leave blank.\n",
      "\n"
     ]
    },
    {
     "data": {
      "application/vnd.jupyter.widget-view+json": {
       "model_id": "e8d7224e32f24e3d8ecafb95e867c65e",
       "version_major": 2,
       "version_minor": 0
      },
      "text/plain": [
       "Password(description='Org Token:', placeholder='Enter your org token')"
      ]
     },
     "metadata": {},
     "output_type": "display_data"
    }
   ],
   "source": [
    "org_token = widgets.Password(\n",
    "    placeholder=\"Enter your org token\", description=\"Org Token:\", disabled=False\n",
    ")\n",
    "print(\"enter your org token below to publish to your org. otherwise, leave blank.\\n\")\n",
    "org_token"
   ]
  },
  {
   "cell_type": "code",
   "execution_count": 11,
   "metadata": {},
   "outputs": [
    {
     "name": "stdout",
     "output_type": "stream",
     "text": [
      "use org? True, stored org token with length: 42 chars\n"
     ]
    }
   ],
   "source": [
    "use_org = True if org_token.value else False\n",
    "print(f\"use org? {use_org}, stored org token with length: {len(org_token.value)} chars\")"
   ]
  },
  {
   "cell_type": "markdown",
   "metadata": {},
   "source": [
    "---"
   ]
  },
  {
   "cell_type": "markdown",
   "metadata": {},
   "source": [
    "## create repo on hub, clone to local"
   ]
  },
  {
   "cell_type": "code",
   "execution_count": 12,
   "metadata": {},
   "outputs": [
    {
     "name": "stderr",
     "output_type": "stream",
     "text": [
      "Cloning https://huggingface.co/ethzanalytics/ai-msgbot-gpt2-XL into local empty directory.\n"
     ]
    }
   ],
   "source": [
    "nb_dir = Path().cwd() # note that if the notebook is moved, this will not work and you will need to update this\n",
    "root = nb_dir.parent\n",
    "\n",
    "repo_name = str(my_repo.value)\n",
    "repo_path = root / repo_name  # clone to local working directory\n",
    "repo_url = (\n",
    "    create_repo(name=repo_name)\n",
    "    if not use_org\n",
    "    else create_repo(\n",
    "        repo_type=None, name=repo_name, organization=\"ethzanalytics\", exist_ok=True\n",
    "    )\n",
    ")\n",
    "repo = Repository(local_dir=str(repo_path.resolve()), clone_from=repo_url)"
   ]
  },
  {
   "cell_type": "markdown",
   "metadata": {},
   "source": [
    "## export aitextgen model to repo folder\n",
    "\n",
    "- based on the directory specified previously, run the prep_huggingface.py script to convert the model to the format required by the hub\n",
    "- it will save the relevant model files to the location created in the cell above"
   ]
  },
  {
   "cell_type": "code",
   "execution_count": 13,
   "metadata": {},
   "outputs": [
    {
     "data": {
      "text/plain": [
       "CompletedProcess(args=['python', 'deploy-as-bot/prep_huggingface.py', '--model-dir', 'C:\\\\Users\\\\peter\\\\source\\\\ai-msgbot\\\\GPT2-Conv-XL-WoW-40k', '--hf-name', 'ai-msgbot-gpt2-XL'], returncode=0)"
      ]
     },
     "execution_count": 13,
     "metadata": {},
     "output_type": "execute_result"
    }
   ],
   "source": [
    "import subprocess\n",
    "\n",
    "# run deploy-as-bot\\prep_huggingface.py with the repo name as an argument\n",
    "subprocess.run(\n",
    "    [\n",
    "        \"python\",\n",
    "        \"deploy-as-bot/prep_huggingface.py\",\n",
    "        \"--model-dir\",\n",
    "        local_path.value,\n",
    "        \"--hf-name\",\n",
    "        repo_name,\n",
    "    ],\n",
    "    cwd=root.resolve(),\n",
    ")"
   ]
  },
  {
   "cell_type": "markdown",
   "metadata": {},
   "source": [
    "## push to hub - upload like it's hot"
   ]
  },
  {
   "cell_type": "code",
   "execution_count": null,
   "metadata": {},
   "outputs": [],
   "source": [
    "commit_msg = widgets.Text(\n",
    "    placeholder=\"Your commit message\", description=\"Commit message: \", disabled=False\n",
    ")\n",
    "commit_msg"
   ]
  },
  {
   "cell_type": "code",
   "execution_count": null,
   "metadata": {},
   "outputs": [],
   "source": [
    "repo.push_to_hub(str(commit_msg.value))"
   ]
  },
  {
   "cell_type": "markdown",
   "metadata": {},
   "source": [
    "---"
   ]
  }
 ],
 "metadata": {
  "interpreter": {
   "hash": "e9af98ad8cd08d642e30f44bc6c9d0f1b72bbb0d1b17cb8665ead07147c19eea"
  },
  "kernelspec": {
   "display_name": "Python 3.9.7 64-bit ('gpt2_chatbot': conda)",
   "language": "python",
   "name": "python3"
  },
  "language_info": {
   "codemirror_mode": {
    "name": "ipython",
    "version": 3
   },
   "file_extension": ".py",
   "mimetype": "text/x-python",
   "name": "python",
   "nbconvert_exporter": "python",
   "pygments_lexer": "ipython3",
   "version": "3.9.7"
  },
  "orig_nbformat": 4
 },
 "nbformat": 4,
 "nbformat_minor": 2
}
