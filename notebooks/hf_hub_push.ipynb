{
 "cells": [
  {
   "cell_type": "markdown",
   "metadata": {},
   "source": [
    "# Push your Model to the Hub\n",
    "\n",
    "This notebook covers how to use the `hf_hub_push` function to push your model to the Hub. This notebook is based on the documentation provided by HuggingFace in their course, specifically [this chapter](https://huggingface.co/course/chapter4/3?fw=pt).\n",
    "\n",
    "Documentation on the **Huggingface Hub** can be found [here](https://huggingface.co/docs/hub/main).\n",
    "\n",
    "_Note: before using this notebook you may want to export your model with the aitextgen function, a helper script is provided in `deploy-as-bot\\prep_huggingface.py`_\n"
   ]
  },
  {
   "cell_type": "markdown",
   "metadata": {},
   "source": [
    "## getting started"
   ]
  },
  {
   "cell_type": "code",
   "execution_count": 1,
   "metadata": {},
   "outputs": [],
   "source": [
    "from huggingface_hub import (\n",
    "    # User management\n",
    "    login,\n",
    "    logout,\n",
    "    notebook_login,\n",
    "    whoami,\n",
    "\n",
    "    # Repository creation and management\n",
    "    create_repo,\n",
    "    delete_repo,\n",
    "    update_repo_visibility,\n",
    "\n",
    "    # And some methods to retrieve/change information about the content\n",
    "    list_models,\n",
    "    list_datasets,\n",
    "    list_metrics,\n",
    "    list_repo_files,\n",
    "    upload_file,\n",
    "    delete_file,\n",
    ")\n"
   ]
  },
  {
   "cell_type": "code",
   "execution_count": 2,
   "metadata": {},
   "outputs": [
    {
     "data": {
      "application/vnd.jupyter.widget-view+json": {
       "model_id": "3403ade05fba4b4d8ad79a8d9b093e7b",
       "version_major": 2,
       "version_minor": 0
      },
      "text/plain": [
       "VBox(children=(HTML(value=\"<center>\\n<img src=https://huggingface.co/front/assets/huggingface_logo-noborder.sv…"
      ]
     },
     "metadata": {},
     "output_type": "display_data"
    }
   ],
   "source": [
    "notebook_login()\n"
   ]
  },
  {
   "cell_type": "code",
   "execution_count": 3,
   "metadata": {},
   "outputs": [
    {
     "name": "stdout",
     "output_type": "stream",
     "text": [
      "{'avatarUrl': 'https://aeiljuispo.cloudimg.io/v7/https://s3.amazonaws.com/moonup/production/uploads/1622986287260-noauth.jpeg?w=200&h=200&f=face',\n",
      " 'email': 'peterszemraj@gmail.com',\n",
      " 'emailVerified': True,\n",
      " 'fullname': 'Peter Szemraj',\n",
      " 'name': 'pszemraj',\n",
      " 'orgs': [{'apiToken': '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',\n",
      "           'avatarUrl': 'https://aeiljuispo.cloudimg.io/v7/https://s3.amazonaws.com/moonup/production/uploads/1639063857544-60bccec062080d33f875cd0c.png?w=200&h=200&f=face',\n",
      "           'email': None,\n",
      "           'fullname': 'ETHZ Analytics Club',\n",
      "           'name': 'ethzanalytics',\n",
      "           'periodEnd': None,\n",
      "           'plan': 'NO_PLAN',\n",
      "           'roleInOrg': 'admin',\n",
      "           'type': 'org'}],\n",
      " 'periodEnd': None,\n",
      " 'plan': 'NO_PLAN',\n",
      " 'type': 'user'}\n"
     ]
    }
   ],
   "source": [
    "from IPython.display import clear_output\n",
    "import time\n",
    "import pprint as pp\n",
    "pp.pprint(whoami())\n",
    "time.sleep(30) # clear_output after 30 seconds\n",
    "clear_output(wait=False)"
   ]
  },
  {
   "cell_type": "markdown",
   "metadata": {},
   "source": [
    "## Setup your repo"
   ]
  },
  {
   "cell_type": "code",
   "execution_count": null,
   "metadata": {},
   "outputs": [],
   "source": [
    "from pathlib import Path\n",
    "from huggingface_hub import list_repo_files, Repository\n",
    "from ipywidgets import interact, interactive, fixed, interact_manual, widgets\n",
    "\n",
    "my_repo = widgets.Text(\n",
    "    value='My Hello World Repo',\n",
    "    placeholder='put repo name here',\n",
    "    description='Enter the name of the repository: ',\n",
    "    disabled=False\n",
    ")\n",
    "\n",
    "\n",
    "my_repo\n"
   ]
  },
  {
   "cell_type": "code",
   "execution_count": null,
   "metadata": {},
   "outputs": [],
   "source": [
    "print(f\"your repository {my_repo.value} will be created\")"
   ]
  },
  {
   "cell_type": "code",
   "execution_count": null,
   "metadata": {},
   "outputs": [],
   "source": [
    "local_path = widgets.Text(\n",
    "    value=str(Path.cwd()),\n",
    "    placeholder='Enter the path of the folder to upload',\n",
    "    description='Filepath: ',\n",
    "    disabled=False\n",
    ")\n",
    "local_path\n"
   ]
  },
  {
   "cell_type": "code",
   "execution_count": null,
   "metadata": {},
   "outputs": [],
   "source": [
    "print(f\"your local path \\n {local_path.value} \\n will be uploaded\")"
   ]
  },
  {
   "cell_type": "code",
   "execution_count": null,
   "metadata": {},
   "outputs": [],
   "source": [
    "org_token = widgets.Password(\n",
    "    placeholder='Enter your org token',\n",
    "    description='Org Token:',\n",
    "    disabled=False\n",
    ")\n",
    "print('enter your org token below to publish to your org. otherwise, leave blank.\\n')\n",
    "org_token\n"
   ]
  },
  {
   "cell_type": "code",
   "execution_count": null,
   "metadata": {},
   "outputs": [],
   "source": [
    "use_org = True if org_token.value else False\n",
    "print(f'use org? {use_org}, stored org token with length: {len(org_token.value)} chars')"
   ]
  },
  {
   "cell_type": "markdown",
   "metadata": {},
   "source": [
    "---"
   ]
  },
  {
   "cell_type": "markdown",
   "metadata": {},
   "source": [
    "## create repo on hub, clone to local"
   ]
  },
  {
   "cell_type": "code",
   "execution_count": null,
   "metadata": {},
   "outputs": [],
   "source": [
    "repo_path = Path.cwd() # clone to local working directory\n",
    "repo_name = str(my_repo.value)\n",
    "repo_url = create_repo(name=repo_name) if not use_org else create_repo(repo_type=None, name=repo_name, organization='ethzanalytics', exist_ok=True)\n",
    "repo = Repository(local_dir=str(repo_path.resolve()), clone_from=repo_url)\n"
   ]
  },
  {
   "cell_type": "markdown",
   "metadata": {},
   "source": [
    "## export aitextgen model to repo folder"
   ]
  },
  {
   "cell_type": "code",
   "execution_count": null,
   "metadata": {},
   "outputs": [],
   "source": [
    "import subprocess\n",
    "nb_dir = Path().cwd()\n",
    "root = nb_dir.parent\n",
    "# run deploy-as-bot\\prep_huggingface.py with the repo name as an argument\n",
    "subprocess.run(['python', 'deploy-as-bot/prep_huggingface.py',\n",
    "                \"--model-dir\", local_path,\n",
    "                '--hf-name', repo_name], cwd=root.resolve())"
   ]
  },
  {
   "cell_type": "markdown",
   "metadata": {},
   "source": [
    "## push to hub - upload like it's hot"
   ]
  },
  {
   "cell_type": "code",
   "execution_count": null,
   "metadata": {},
   "outputs": [],
   "source": [
    "commit_msg = widgets.Text(\n",
    "    placeholder='Your commit message',\n",
    "    description='Commit message: ',\n",
    "    disabled=False\n",
    ")\n",
    "commit_msg\n"
   ]
  },
  {
   "cell_type": "code",
   "execution_count": null,
   "metadata": {},
   "outputs": [],
   "source": [
    "repo.push_to_hub(str(commit_msg.value))"
   ]
  },
  {
   "cell_type": "code",
   "execution_count": null,
   "metadata": {},
   "outputs": [],
   "source": []
  }
 ],
 "metadata": {
  "interpreter": {
   "hash": "e9af98ad8cd08d642e30f44bc6c9d0f1b72bbb0d1b17cb8665ead07147c19eea"
  },
  "kernelspec": {
   "display_name": "Python 3.9.7 64-bit ('gpt2_chatbot': conda)",
   "language": "python",
   "name": "python3"
  },
  "language_info": {
   "codemirror_mode": {
    "name": "ipython",
    "version": 3
   },
   "file_extension": ".py",
   "mimetype": "text/x-python",
   "name": "python",
   "nbconvert_exporter": "python",
   "pygments_lexer": "ipython3",
   "version": "3.9.7"
  },
  "orig_nbformat": 4
 },
 "nbformat": 4,
 "nbformat_minor": 2
}
