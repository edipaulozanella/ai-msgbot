{
 "cells": [
  {
   "cell_type": "markdown",
   "metadata": {},
   "source": [
    "# Push your Model to the Hub\n",
    "\n",
    "This notebook covers how to use the `hf_hub_push` function to push your model to the Hub. This notebook is based on the documentation provided by HuggingFace in their course, specifically [this chapter](https://huggingface.co/course/chapter4/3?fw=pt).\n",
    "\n",
    "Documentation on the **Huggingface Hub** can be found [here](https://huggingface.co/docs/hub/main).\n",
    "\n",
    "_Note: before using this notebook you may want to export your model with the aitextgen function, a helper script is provided in `deploy-as-bot\\prep_huggingface.py`_\n"
   ]
  },
  {
   "cell_type": "code",
   "execution_count": null,
   "metadata": {},
   "outputs": [],
   "source": []
  },
  {
   "cell_type": "code",
   "execution_count": null,
   "metadata": {},
   "outputs": [],
   "source": []
  },
  {
   "cell_type": "markdown",
   "metadata": {},
   "source": [
    "## getting started"
   ]
  },
  {
   "cell_type": "code",
   "execution_count": 1,
   "metadata": {},
   "outputs": [],
   "source": [
    "from huggingface_hub import (\n",
    "    # User management\n",
    "    login,\n",
    "    logout,\n",
    "    notebook_login,\n",
    "    whoami,\n",
    "    # Repository creation and management\n",
    "    create_repo,\n",
    "    delete_repo,\n",
    "    update_repo_visibility,\n",
    "    # And some methods to retrieve/change information about the content\n",
    "    list_models,\n",
    "    list_datasets,\n",
    "    list_metrics,\n",
    "    list_repo_files,\n",
    "    upload_file,\n",
    "    delete_file,\n",
    ")"
   ]
  },
  {
   "cell_type": "code",
   "execution_count": 2,
   "metadata": {},
   "outputs": [
    {
     "data": {
      "application/vnd.jupyter.widget-view+json": {
       "model_id": "3403ade05fba4b4d8ad79a8d9b093e7b",
       "version_major": 2,
       "version_minor": 0
      },
      "text/plain": [
       "VBox(children=(HTML(value=\"<center>\\n<img src=https://huggingface.co/front/assets/huggingface_logo-noborder.sv…"
      ]
     },
     "metadata": {},
     "output_type": "display_data"
    }
   ],
   "source": [
    "notebook_login()"
   ]
  },
  {
   "cell_type": "code",
   "execution_count": 3,
   "metadata": {},
   "outputs": [
    {
     "name": "stdout",
     "output_type": "stream",
     "text": [
      "{'avatarUrl': 'https://aeiljuispo.cloudimg.io/v7/https://s3.amazonaws.com/moonup/production/uploads/1622986287260-noauth.jpeg?w=200&h=200&f=face',\n",
      " 'email': 'peterszemraj@gmail.com',\n",
      " 'emailVerified': True,\n",
      " 'fullname': 'Peter Szemraj',\n",
      " 'name': 'pszemraj',\n",
      " 'orgs': [{'apiToken': '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',\n",
      "           'avatarUrl': 'https://aeiljuispo.cloudimg.io/v7/https://s3.amazonaws.com/moonup/production/uploads/1639063857544-60bccec062080d33f875cd0c.png?w=200&h=200&f=face',\n",
      "           'email': None,\n",
      "           'fullname': 'ETHZ Analytics Club',\n",
      "           'name': 'ethzanalytics',\n",
      "           'periodEnd': None,\n",
      "           'plan': 'NO_PLAN',\n",
      "           'roleInOrg': 'admin',\n",
      "           'type': 'org'}],\n",
      " 'periodEnd': None,\n",
      " 'plan': 'NO_PLAN',\n",
      " 'type': 'user'}\n"
     ]
    },
    {
     "ename": "KeyboardInterrupt",
     "evalue": "",
     "output_type": "error",
     "traceback": [
      "\u001b[1;31m---------------------------------------------------------------------------\u001b[0m",
      "\u001b[1;31mKeyboardInterrupt\u001b[0m                         Traceback (most recent call last)",
      "\u001b[1;32m~\\AppData\\Local\\Temp/ipykernel_879004/3253945958.py\u001b[0m in \u001b[0;36m<module>\u001b[1;34m\u001b[0m\n\u001b[0;32m      3\u001b[0m \u001b[1;32mimport\u001b[0m \u001b[0mpprint\u001b[0m \u001b[1;32mas\u001b[0m \u001b[0mpp\u001b[0m\u001b[1;33m\u001b[0m\u001b[1;33m\u001b[0m\u001b[0m\n\u001b[0;32m      4\u001b[0m \u001b[0mpp\u001b[0m\u001b[1;33m.\u001b[0m\u001b[0mpprint\u001b[0m\u001b[1;33m(\u001b[0m\u001b[0mwhoami\u001b[0m\u001b[1;33m(\u001b[0m\u001b[1;33m)\u001b[0m\u001b[1;33m)\u001b[0m\u001b[1;33m\u001b[0m\u001b[1;33m\u001b[0m\u001b[0m\n\u001b[1;32m----> 5\u001b[1;33m \u001b[0mtime\u001b[0m\u001b[1;33m.\u001b[0m\u001b[0msleep\u001b[0m\u001b[1;33m(\u001b[0m\u001b[1;36m60\u001b[0m\u001b[1;33m)\u001b[0m \u001b[1;31m# clear_output after 60 seconds\u001b[0m\u001b[1;33m\u001b[0m\u001b[1;33m\u001b[0m\u001b[0m\n\u001b[0m\u001b[0;32m      6\u001b[0m \u001b[0mclear_output\u001b[0m\u001b[1;33m(\u001b[0m\u001b[0mwait\u001b[0m\u001b[1;33m=\u001b[0m\u001b[1;32mFalse\u001b[0m\u001b[1;33m)\u001b[0m\u001b[1;33m\u001b[0m\u001b[1;33m\u001b[0m\u001b[0m\n",
      "\u001b[1;31mKeyboardInterrupt\u001b[0m: "
     ]
    }
   ],
   "source": [
    "from IPython.display import clear_output\n",
    "import time\n",
    "import pprint as pp\n",
    "\n",
    "pp.pprint(whoami())\n",
    "time.sleep(30)  # clear_output after 30 seconds\n",
    "clear_output(wait=False)"
   ]
  },
  {
   "cell_type": "markdown",
   "metadata": {},
   "source": [
    "## Setup your repo"
   ]
  },
  {
   "cell_type": "code",
   "execution_count": null,
   "metadata": {},
   "outputs": [],
   "source": [
    "from pathlib import Path\n",
    "from huggingface_hub import list_repo_files, Repository\n",
    "from ipywidgets import interact, interactive, fixed, interact_manual, widgets\n",
    "\n",
    "my_repo = widgets.Text(\n",
    "    value=\"My Hello World Repo\",\n",
    "    placeholder=\"put repo name here\",\n",
    "    description=\"Enter the name of the repository: \",\n",
    "    disabled=False,\n",
    ")\n",
    "\n",
    "\n",
    "my_repo"
   ]
  },
  {
   "cell_type": "code",
   "execution_count": null,
   "metadata": {},
   "outputs": [],
   "source": [
    "print(f\"your repository {my_repo.value} will be created\")"
   ]
  },
  {
   "cell_type": "code",
   "execution_count": null,
   "metadata": {},
   "outputs": [],
   "source": [
    "local_path = widgets.Text(\n",
    "    value=str(Path.cwd()),\n",
    "    placeholder=\"Enter the path of the folder to upload\",\n",
    "    description=\"Filepath: \",\n",
    "    disabled=False,\n",
    ")\n",
    "local_path"
   ]
  },
  {
   "cell_type": "code",
   "execution_count": null,
   "metadata": {},
   "outputs": [],
   "source": [
    "print(f\"your local path \\n {local_path.value} \\n will be uploaded\")"
   ]
  },
  {
   "cell_type": "code",
   "execution_count": null,
   "metadata": {},
   "outputs": [],
   "source": [
    "org_token = widgets.Password(\n",
    "    placeholder=\"Enter your org token\", description=\"Org Token:\", disabled=False\n",
    ")\n",
    "print(\"enter your org token below to publish to your org. otherwise, leave blank.\\n\")\n",
    "org_token"
   ]
  },
  {
   "cell_type": "code",
   "execution_count": null,
   "metadata": {},
   "outputs": [],
   "source": [
    "use_org = True if org_token.value else False\n",
    "print(f\"use org? {use_org}, stored org token with length: {len(org_token.value)} chars\")"
   ]
  },
  {
   "cell_type": "markdown",
   "metadata": {},
   "source": [
    "---"
   ]
  },
  {
   "cell_type": "markdown",
   "metadata": {},
   "source": [
    "## create repo on hub, clone to local"
   ]
  },
  {
   "cell_type": "code",
   "execution_count": null,
   "metadata": {},
   "outputs": [],
   "source": [
    "repo_path = Path.cwd()  # clone to local working directory\n",
    "repo_name = str(my_repo.value)\n",
    "repo_url = (\n",
    "    create_repo(name=repo_name)\n",
    "    if not use_org\n",
    "    else create_repo(\n",
    "        repo_type=None, name=repo_name, organization=\"ethzanalytics\", exist_ok=True\n",
    "    )\n",
    ")\n",
    "repo = Repository(local_dir=str(repo_path.resolve()), clone_from=repo_url)"
   ]
  },
  {
   "cell_type": "markdown",
   "metadata": {},
   "source": [
    "## export aitextgen model to repo folder"
   ]
  },
  {
   "cell_type": "code",
   "execution_count": null,
   "metadata": {},
   "outputs": [],
   "source": [
    "import subprocess\n",
    "\n",
    "nb_dir = Path().cwd()\n",
    "root = nb_dir.parent\n",
    "# run deploy-as-bot\\prep_huggingface.py with the repo name as an argument\n",
    "subprocess.run(\n",
    "    [\n",
    "        \"python\",\n",
    "        \"deploy-as-bot/prep_huggingface.py\",\n",
    "        \"--model-dir\",\n",
    "        local_path,\n",
    "        \"--hf-name\",\n",
    "        repo_name,\n",
    "    ],\n",
    "    cwd=root.resolve(),\n",
    ")"
   ]
  },
  {
   "cell_type": "markdown",
   "metadata": {},
   "source": [
    "## push to hub - upload like it's hot"
   ]
  },
  {
   "cell_type": "code",
   "execution_count": null,
   "metadata": {},
   "outputs": [],
   "source": [
    "commit_msg = widgets.Text(\n",
    "    placeholder=\"Your commit message\", description=\"Commit message: \", disabled=False\n",
    ")\n",
    "commit_msg"
   ]
  },
  {
   "cell_type": "code",
   "execution_count": null,
   "metadata": {},
   "outputs": [],
   "source": [
    "repo.push_to_hub(str(commit_msg.value))"
   ]
  },
  {
   "cell_type": "code",
   "execution_count": null,
   "metadata": {},
   "outputs": [],
   "source": []
  }
 ],
 "metadata": {
  "interpreter": {
   "hash": "e9af98ad8cd08d642e30f44bc6c9d0f1b72bbb0d1b17cb8665ead07147c19eea"
  },
  "kernelspec": {
   "display_name": "Python 3.9.7 64-bit ('gpt2_chatbot': conda)",
   "language": "python",
   "name": "python3"
  },
  "language_info": {
   "codemirror_mode": {
    "name": "ipython",
    "version": 3
   },
   "file_extension": ".py",
   "mimetype": "text/x-python",
   "name": "python",
   "nbconvert_exporter": "python",
   "pygments_lexer": "ipython3",
   "version": "3.9.7"
  },
  "orig_nbformat": 4
 },
 "nbformat": 4,
 "nbformat_minor": 2
}
