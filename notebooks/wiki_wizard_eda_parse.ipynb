{
 "cells": [
  {
   "cell_type": "markdown",
   "metadata": {},
   "source": [
    "# Explore Wizard of Wikipedia Dataset\n",
    "\n",
    "- what does it take to parse?"
   ]
  },
  {
   "cell_type": "code",
   "execution_count": 1,
   "metadata": {},
   "outputs": [
    {
     "name": "stdout",
     "output_type": "stream",
     "text": [
      "<class 'pandas.core.frame.DataFrame'>\n",
      "RangeIndex: 63734 entries, 0 to 63733\n",
      "Data columns (total 3 columns):\n",
      " #   Column  Non-Null Count  Dtype \n",
      "---  ------  --------------  ----- \n",
      " 0   id      63734 non-null  string\n",
      " 1   input   63734 non-null  string\n",
      " 2   output  63734 non-null  object\n",
      "dtypes: object(1), string(2)\n",
      "memory usage: 1.5+ MB\n"
     ]
    }
   ],
   "source": [
    "import pandas as pd\n",
    "\n",
    "wow_path = r\"C:\\Users\\peter\\PycharmProjects\\gpt2_chatbot\\conversation-data\\wizard-of-wikipedia\\wow-train-kilt.jsonl\"\n",
    "df = pd.read_json(wow_path, orient=\"records\", lines=True).convert_dtypes()\n",
    "\n",
    "df.info()"
   ]
  },
  {
   "cell_type": "code",
   "execution_count": 2,
   "metadata": {},
   "outputs": [
    {
     "name": "stdout",
     "output_type": "stream",
     "text": [
      "The prompt is:\n",
      " I like to watch ice hockey on TV. My favorite team is the Chicago Blackhawks.\n",
      "\n",
      "\n"
     ]
    },
    {
     "data": {
      "text/plain": [
       "{'answer': \"The Blackhawks are one of my favorite teams, they've won 6 Stanley Cup Championships since they started in 1926\",\n",
       " 'provenance': [{'wikipedia_id': '73126',\n",
       "   'title': 'Chicago Blackhawks',\n",
       "   'start_paragraph_id': 1,\n",
       "   'start_character': 260,\n",
       "   'end_paragraph_id': 1,\n",
       "   'end_character': 333,\n",
       "   'bleu_score': 1.0,\n",
       "   'section': 'Section::::Abstract.'}]}"
      ]
     },
     "execution_count": 2,
     "metadata": {},
     "output_type": "execute_result"
    }
   ],
   "source": [
    "print(\"The prompt is:\\n {}\\n\\n\".format(df.loc[0, \"input\"]))\n",
    "df.loc[0, \"output\"][0]"
   ]
  },
  {
   "cell_type": "code",
   "execution_count": 3,
   "metadata": {},
   "outputs": [
    {
     "data": {
      "text/plain": [
       "count    63734.0\n",
       "mean         1.0\n",
       "std          0.0\n",
       "min          1.0\n",
       "25%          1.0\n",
       "50%          1.0\n",
       "75%          1.0\n",
       "max          1.0\n",
       "Name: out_lengths, dtype: float64"
      ]
     },
     "execution_count": 3,
     "metadata": {},
     "output_type": "execute_result"
    }
   ],
   "source": [
    "df[\"out_lengths\"] = df[\"output\"].apply(len)\n",
    "\n",
    "df[\"out_lengths\"].describe()"
   ]
  },
  {
   "cell_type": "code",
   "execution_count": 4,
   "metadata": {},
   "outputs": [
    {
     "data": {
      "text/html": [
       "<div>\n",
       "<style scoped>\n",
       "    .dataframe tbody tr th:only-of-type {\n",
       "        vertical-align: middle;\n",
       "    }\n",
       "\n",
       "    .dataframe tbody tr th {\n",
       "        vertical-align: top;\n",
       "    }\n",
       "\n",
       "    .dataframe thead th {\n",
       "        text-align: right;\n",
       "    }\n",
       "</style>\n",
       "<table border=\"1\" class=\"dataframe\">\n",
       "  <thead>\n",
       "    <tr style=\"text-align: right;\">\n",
       "      <th></th>\n",
       "      <th>id</th>\n",
       "      <th>input</th>\n",
       "      <th>output</th>\n",
       "      <th>out_lengths</th>\n",
       "      <th>out_answer</th>\n",
       "    </tr>\n",
       "  </thead>\n",
       "  <tbody>\n",
       "    <tr>\n",
       "      <th>0</th>\n",
       "      <td>6bc20426-99d6-11ea-8a20-773209e30a7b_0</td>\n",
       "      <td>I like to watch ice hockey on TV. My favorite ...</td>\n",
       "      <td>[{'answer': 'The Blackhawks are one of my favo...</td>\n",
       "      <td>1</td>\n",
       "      <td>The Blackhawks are one of my favorite teams, t...</td>\n",
       "    </tr>\n",
       "    <tr>\n",
       "      <th>1</th>\n",
       "      <td>54ade12e-99d6-11ea-8a20-773209e30a7b_2</td>\n",
       "      <td>The Viking are sea pirates!\n",
       "I see! Didn't they...</td>\n",
       "      <td>[{'answer': 'They raided and trader across wid...</td>\n",
       "      <td>1</td>\n",
       "      <td>They raided and trader across wide areas of Eu...</td>\n",
       "    </tr>\n",
       "    <tr>\n",
       "      <th>2</th>\n",
       "      <td>5673e5da-99d6-11ea-8a20-773209e30a7b_1</td>\n",
       "      <td>I love the band The Chainsmokers made up of Al...</td>\n",
       "      <td>[{'answer': 'They're an EDM-pop duo from New Y...</td>\n",
       "      <td>1</td>\n",
       "      <td>They're an EDM-pop duo from New York.  Their f...</td>\n",
       "    </tr>\n",
       "    <tr>\n",
       "      <th>3</th>\n",
       "      <td>5592954e-99d6-11ea-8a20-773209e30a7b_0</td>\n",
       "      <td>I would love to be a surgeon when I grow up.</td>\n",
       "      <td>[{'answer': 'Me too. Performing surgical opera...</td>\n",
       "      <td>1</td>\n",
       "      <td>Me too. Performing surgical operations on peop...</td>\n",
       "    </tr>\n",
       "    <tr>\n",
       "      <th>4</th>\n",
       "      <td>536ab85a-99d6-11ea-8a20-773209e30a7b_2</td>\n",
       "      <td>what on earth is equestrianism?\n",
       "it refers to t...</td>\n",
       "      <td>[{'answer': 'Pretty much including competitive...</td>\n",
       "      <td>1</td>\n",
       "      <td>Pretty much including competitive riding</td>\n",
       "    </tr>\n",
       "  </tbody>\n",
       "</table>\n",
       "</div>"
      ],
      "text/plain": [
       "                                       id  \\\n",
       "0  6bc20426-99d6-11ea-8a20-773209e30a7b_0   \n",
       "1  54ade12e-99d6-11ea-8a20-773209e30a7b_2   \n",
       "2  5673e5da-99d6-11ea-8a20-773209e30a7b_1   \n",
       "3  5592954e-99d6-11ea-8a20-773209e30a7b_0   \n",
       "4  536ab85a-99d6-11ea-8a20-773209e30a7b_2   \n",
       "\n",
       "                                               input  \\\n",
       "0  I like to watch ice hockey on TV. My favorite ...   \n",
       "1  The Viking are sea pirates!\n",
       "I see! Didn't they...   \n",
       "2  I love the band The Chainsmokers made up of Al...   \n",
       "3       I would love to be a surgeon when I grow up.   \n",
       "4  what on earth is equestrianism?\n",
       "it refers to t...   \n",
       "\n",
       "                                              output  out_lengths  \\\n",
       "0  [{'answer': 'The Blackhawks are one of my favo...            1   \n",
       "1  [{'answer': 'They raided and trader across wid...            1   \n",
       "2  [{'answer': 'They're an EDM-pop duo from New Y...            1   \n",
       "3  [{'answer': 'Me too. Performing surgical opera...            1   \n",
       "4  [{'answer': 'Pretty much including competitive...            1   \n",
       "\n",
       "                                          out_answer  \n",
       "0  The Blackhawks are one of my favorite teams, t...  \n",
       "1  They raided and trader across wide areas of Eu...  \n",
       "2  They're an EDM-pop duo from New York.  Their f...  \n",
       "3  Me too. Performing surgical operations on peop...  \n",
       "4           Pretty much including competitive riding  "
      ]
     },
     "execution_count": 4,
     "metadata": {},
     "output_type": "execute_result"
    }
   ],
   "source": [
    "def extract_answer(outcol_obj):\n",
    "\n",
    "    out_dict = outcol_obj[0]\n",
    "\n",
    "    return out_dict[\"answer\"]\n",
    "\n",
    "\n",
    "df[\"out_answer\"] = df[\"output\"].apply(extract_answer)\n",
    "\n",
    "\n",
    "df.head()"
   ]
  },
  {
   "cell_type": "code",
   "execution_count": 9,
   "metadata": {},
   "outputs": [
    {
     "name": "stdout",
     "output_type": "stream",
     "text": [
      "'They raided and trader across wide areas of Europe.'\n"
     ]
    }
   ],
   "source": [
    "# print out a single answer to try and figure out multi-line structure\n",
    "pp.pprint(df.loc[1, \"out_answer\"])"
   ]
  },
  {
   "cell_type": "code",
   "execution_count": 11,
   "metadata": {},
   "outputs": [
    {
     "name": "stdout",
     "output_type": "stream",
     "text": [
      "['I like to watch ice hockey on TV. My favorite team is the Chicago '\n",
      " 'Blackhawks.']\n"
     ]
    }
   ],
   "source": [
    "input = df.loc[0, \"input\"]\n",
    "\n",
    "split_input = input.split(\"\\n\")\n",
    "pp.pprint(split_input)"
   ]
  },
  {
   "cell_type": "markdown",
   "metadata": {},
   "source": [
    "### clean text\n",
    "\n",
    "the default arguments are:\n",
    "\n",
    "`(text, fix_unicode=True, to_ascii=True, lower=True, normalize_whitespace=True, no_line_breaks=False, strip_lines=True, keep_two_line_breaks=False, no_urls=False, no_emails=False, no_phone_numbers=False, no_numbers=False, no_digits=False, no_currency_symbols=False, no_punct=False, no_emoji=False, replace_with_url=\"<URL>\", replace_with_email=\"<EMAIL>\", replace_with_phone_number=\"<PHONE>\", replace_with_number=\"<NUMBER>\", replace_with_digit=\"0\", replace_with_currency_symbol=\"<CUR>\", replace_with_punct=\"\", lang=\"en\") -> Any`"
   ]
  },
  {
   "cell_type": "code",
   "execution_count": 5,
   "metadata": {},
   "outputs": [],
   "source": [
    "from cleantext import clean\n",
    "\n",
    "\n",
    "def clean_resp(ugly_text: str):\n",
    "\n",
    "    clntext = clean(\n",
    "        ugly_text,\n",
    "        no_line_breaks=True,\n",
    "        no_urls=True,\n",
    "        normalize_whitespace=True,\n",
    "        no_emails=True,\n",
    "        lang=\"en\",\n",
    "    )\n",
    "\n",
    "    return clntext"
   ]
  },
  {
   "cell_type": "code",
   "execution_count": 13,
   "metadata": {},
   "outputs": [
    {
     "name": "stderr",
     "output_type": "stream",
     "text": [
      "parsing data: 100%|██████████| 63734/63734 [05:52<00:00, 180.92it/s]\n"
     ]
    },
    {
     "name": "stdout",
     "output_type": "stream",
     "text": [
      "['person alpha:\\n',\n",
      " 'i like to watch ice hockey on tv. my favorite team is the chicago '\n",
      " 'blackhawks.\\n',\n",
      " '\\n',\n",
      " 'person beta:\\n',\n",
      " \"the blackhawks are one of my favorite teams, they've won 6 stanley cup \"\n",
      " 'championships since they started in 1926\\n',\n",
      " '\\n',\n",
      " 'person alpha:\\n',\n",
      " 'the viking are sea pirates!\\n',\n",
      " '\\n',\n",
      " 'person beta:\\n',\n",
      " \"i see! didn't they speak the norse language?\\n\",\n",
      " '\\n',\n",
      " 'person alpha:\\n',\n",
      " \"what's the norse language? what country speaks such?\\n\",\n",
      " '\\n',\n",
      " 'person beta:\\n',\n",
      " 'the north germans!\\n',\n",
      " '\\n',\n",
      " 'person alpha:\\n',\n",
      " 'so what do the vikings do ?are they a cult group?\\n',\n",
      " '\\n',\n",
      " 'person beta:\\n',\n",
      " 'they raided and trader across wide areas of europe.\\n',\n",
      " '\\n',\n",
      " 'person alpha:\\n']\n"
     ]
    }
   ],
   "source": [
    "from tqdm.auto import tqdm\n",
    "import pprint as pp\n",
    "\n",
    "conv_words = []\n",
    "for index, row in tqdm(df.iterrows(), total=len(df), desc=\"parsing data\"):\n",
    "\n",
    "    # prompt\n",
    "\n",
    "    the_prompt = row[\"input\"]\n",
    "    prompt_lines = the_prompt.split(\"\\n\")\n",
    "    if len(prompt_lines) == 1:\n",
    "        conv_words.append(\"person alpha:\" + \"\\n\")\n",
    "        conv_words.append(clean_resp(str(prompt_lines[0])) + \"\\n\")\n",
    "        conv_words.append(\"\\n\")\n",
    "\n",
    "    else:\n",
    "        # multi-line answer case\n",
    "        set_beta = False\n",
    "        for resp in prompt_lines:\n",
    "            if set_beta:\n",
    "                conv_words.append(\"person beta:\" + \"\\n\")\n",
    "                conv_words.append(clean_resp(str(resp)) + \"\\n\")\n",
    "                conv_words.append(\"\\n\")\n",
    "                set_beta = False\n",
    "            else:\n",
    "                conv_words.append(\"person alpha:\" + \"\\n\")\n",
    "                conv_words.append(clean_resp(str(resp)) + \"\\n\")\n",
    "                conv_words.append(\"\\n\")\n",
    "                set_beta = True\n",
    "\n",
    "    # response\n",
    "\n",
    "    # split into lines:\n",
    "    the_answer = row[\"out_answer\"]\n",
    "    answer_lines = the_answer.split(\"\\n\")\n",
    "    if len(answer_lines) == 1:\n",
    "        conv_words.append(\"person beta:\" + \"\\n\")\n",
    "        conv_words.append(clean_resp(str(answer_lines[0])) + \"\\n\")\n",
    "        conv_words.append(\"\\n\")\n",
    "\n",
    "    else:\n",
    "        # multi-line answer case\n",
    "        set_beta = True\n",
    "        for resp in answer_lines:\n",
    "            if set_beta:\n",
    "                conv_words.append(\"person beta:\" + \"\\n\")\n",
    "                conv_words.append(clean_resp(str(resp)) + \"\\n\")\n",
    "                conv_words.append(\"\\n\")\n",
    "                set_beta = False\n",
    "            else:\n",
    "                conv_words.append(\"person alpha:\" + \"\\n\")\n",
    "                conv_words.append(clean_resp(str(resp)) + \"\\n\")\n",
    "                conv_words.append(\"\\n\")\n",
    "                set_beta = True\n",
    "\n",
    "\n",
    "pp.pprint(conv_words[:25])"
   ]
  },
  {
   "cell_type": "markdown",
   "metadata": {},
   "source": [
    "## save & export "
   ]
  },
  {
   "cell_type": "code",
   "execution_count": 14,
   "metadata": {},
   "outputs": [
    {
     "name": "stdout",
     "output_type": "stream",
     "text": [
      "finished saving parsed text file to: \n",
      " C:\\Users\\peter\\PycharmProjects\\gpt2_chatbot\\conversation-data\\wizard-of-wikipedia\\ScriptParse-wow-train-kilt.txt \n",
      "\n"
     ]
    }
   ],
   "source": [
    "from os.path import basename, dirname, join\n",
    "from pathlib import Path\n",
    "\n",
    "outname = \"ScriptParse-\" + basename(wow_path).split(\".\")[0] + \".txt\"\n",
    "\n",
    "script_path = join(dirname(wow_path), outname)\n",
    "\n",
    "scratch_folder = Path.cwd()  # for testing purposes\n",
    "script_path_scratch = join(str(scratch_folder.resolve()), outname)\n",
    "\n",
    "with open(script_path, \"w\", encoding=\"utf-8\", errors=\"ignore\") as fo:\n",
    "    fo.writelines(conv_words)\n",
    "\n",
    "\n",
    "print(f\"finished saving parsed text file to: \\n {script_path} \\n\")"
   ]
  },
  {
   "cell_type": "code",
   "execution_count": null,
   "metadata": {},
   "outputs": [],
   "source": []
  }
 ],
 "metadata": {
  "interpreter": {
   "hash": "e9af98ad8cd08d642e30f44bc6c9d0f1b72bbb0d1b17cb8665ead07147c19eea"
  },
  "kernelspec": {
   "display_name": "Python 3.9.7 64-bit ('gpt2_chatbot': conda)",
   "language": "python",
   "name": "python3"
  },
  "language_info": {
   "codemirror_mode": {
    "name": "ipython",
    "version": 3
   },
   "file_extension": ".py",
   "mimetype": "text/x-python",
   "name": "python",
   "nbconvert_exporter": "python",
   "pygments_lexer": "ipython3",
   "version": "3.9.7"
  },
  "orig_nbformat": 4
 },
 "nbformat": 4,
 "nbformat_minor": 2
}
