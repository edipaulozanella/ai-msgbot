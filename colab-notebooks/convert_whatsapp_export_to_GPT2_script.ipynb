{
 "nbformat": 4,
 "nbformat_minor": 0,
 "metadata": {
  "colab": {
   "name": "convert whatsapp export to GPT2 script",
   "provenance": []
  },
  "kernelspec": {
   "display_name": "Python 3",
   "name": "python3"
  }
 },
 "cells": [
  {
   "cell_type": "code",
   "metadata": {
    "id": "sRe_OcyXBTr2"
   },
   "source": [
    "import os\n",
    "\n",
    "vm_wd = os.getcwd()"
   ],
   "execution_count": null,
   "outputs": []
  },
  {
   "cell_type": "code",
   "metadata": {
    "cellView": "form",
    "id": "06iNiZ7fBn8f"
   },
   "source": [
    "dl_link = (\n",
    "    \"https://www.dropbox.com/s/f2ys8h7sdq66b0i/_chat.txt?dl=1\"  # @param {type:\"string\"}\n",
    ")"
   ],
   "execution_count": null,
   "outputs": []
  },
  {
   "cell_type": "code",
   "metadata": {
    "colab": {
     "base_uri": "https://localhost:8080/"
    },
    "id": "lIYdn1woOS1n",
    "outputId": "d7b1e9c7-3ec2-46ab-d92a-86df3f86ebb1"
   },
   "source": [
    "# download test image\n",
    "from urllib import request\n",
    "from os.path import join\n",
    "\n",
    "local_name = join(vm_wd, \"test-text-file.txt\")\n",
    "request.urlretrieve(dl_link, local_name)"
   ],
   "execution_count": null,
   "outputs": [
    {
     "output_type": "execute_result",
     "data": {
      "text/plain": [
       "('/content/test-text-file.txt', <http.client.HTTPMessage at 0x7f1f6410a390>)"
      ]
     },
     "metadata": {},
     "execution_count": 3
    }
   ]
  },
  {
   "cell_type": "code",
   "metadata": {
    "id": "5z0h2pCABuQ-",
    "colab": {
     "base_uri": "https://localhost:8080/"
    },
    "outputId": "a5aff3e4-834e-49f1-fc9c-c97dbdb56ef7"
   },
   "source": [
    "with open(local_name, \"r\", encoding=\"utf-8\", errors=\"ignore\") as f:\n",
    "    textlines = f.readlines()\n",
    "\n",
    "print(len(textlines), type(textlines))"
   ],
   "execution_count": null,
   "outputs": [
    {
     "output_type": "stream",
     "name": "stdout",
     "text": [
      "1886 <class 'list'>\n"
     ]
    }
   ]
  },
  {
   "cell_type": "markdown",
   "metadata": {
    "id": "Dh7xHtWfCShN"
   },
   "source": [
    "clean the text"
   ]
  },
  {
   "cell_type": "code",
   "metadata": {
    "id": "jrnvT0DDCTxl"
   },
   "source": [
    "%%capture\n",
    "!pip install -U clean-text\n",
    "from cleantext import clean"
   ],
   "execution_count": null,
   "outputs": []
  },
  {
   "cell_type": "code",
   "metadata": {
    "id": "07rS0sYdCaD8"
   },
   "source": [
    "textlines = [clean(line) for line in textlines]"
   ],
   "execution_count": null,
   "outputs": []
  },
  {
   "cell_type": "code",
   "metadata": {
    "id": "B6lQIr5DB8kY",
    "colab": {
     "base_uri": "https://localhost:8080/"
    },
    "outputId": "fc4ec4e3-ece5-4286-fbc2-6a1e5290504e"
   },
   "source": [
    "import pprint as pp\n",
    "\n",
    "pp.pprint(textlines[:10])"
   ],
   "execution_count": null,
   "outputs": [
    {
     "output_type": "stream",
     "name": "stdout",
     "text": [
      "['[18.09.20, 15:00:57] david \"pumpen\" wissel: messages and calls are '\n",
      " 'end-to-end encrypted. no one outside of this chat, not even whatsapp, can '\n",
      " 'read or listen to them.',\n",
      " \"[18.09.20, 15:00:57] peter szemraj: hey! i'm peter, a first year msc. i'm \"\n",
      " 'likely down to join for bouldering, i brought my shoes and pack with me on '\n",
      " 'the plane lol. i just moved in to my apartment today and unless i start to '\n",
      " \"feel exhausted in the next 3h i'd like to join\",\n",
      " '[18.09.20, 15:45:28] david \"pumpen\" wissel: hey peter, nice to meet you! '\n",
      " 'sounds good, were aiming at being at the bouldering spot on hongg around 6. '\n",
      " \"have you been before? it's a bit in the back to the left of the asvz there \"\n",
      " \"but otherwise i'm also reachable here. see you later!\",\n",
      " '[18.09.20, 16:53:08] peter szemraj: sounds good! i got out of my mandatory '\n",
      " 'quarantine this morning (travelled from the us) so i have literally been '\n",
      " 'nowhere except zurich youth hostel haha. i think i have the google maps '\n",
      " \"location so i will plan on heading there, i will reach out if i can't find \"\n",
      " 'you',\n",
      " '[18.09.20, 16:54:32] peter szemraj: cg46+x7 zurich, switzerland is what '\n",
      " \"google maps says. i'll have an orange backpack and look obviously american\",\n",
      " '[18.09.20, 16:55:03] david \"pumpen\" wissel: yup, exactly - cool, see you in '\n",
      " 'an hour-ish then!',\n",
      " \"[18.09.20, 16:55:45] peter szemraj: perfect! i'll probably be a little after \"\n",
      " '6 as i am grabbing some groceries but not too late',\n",
      " '[18.09.20, 16:56:08] david \"pumpen\" wissel: sure no worries, we\\'ll be until '\n",
      " \"at least 7:30 anyway i'd say\",\n",
      " \"[18.09.20, 18:14:37] peter szemraj: awesome, looks like i'll be there \"\n",
      " \"630ish, i didn't get the transport pass yet and wow uber takes forever here\",\n",
      " '[18.09.20, 18:25:30] david \"pumpen\" wissel: sounds good']\n"
     ]
    }
   ]
  },
  {
   "cell_type": "code",
   "metadata": {
    "id": "u4BX2cSiEpDa",
    "colab": {
     "base_uri": "https://localhost:8080/"
    },
    "outputId": "3f98f02f-72ed-4dcf-eac6-1866fc1b8884"
   },
   "source": [
    "import re\n",
    "\n",
    "re_string = \"\\[([0-9]+(\\.[0-9]+)+), ([0-9]+(:[0-9]+)+)\\] \"\n",
    "\n",
    "# re.sub(pattern, repl, string, count=0, flags=0)\n",
    "\n",
    "sub_textlines = [re.sub(re_string, \"\", line) for line in textlines]\n",
    "\n",
    "\n",
    "pp.pprint(sub_textlines[:10])"
   ],
   "execution_count": null,
   "outputs": [
    {
     "output_type": "stream",
     "name": "stdout",
     "text": [
      "['david \"pumpen\" wissel: messages and calls are end-to-end encrypted. no one '\n",
      " 'outside of this chat, not even whatsapp, can read or listen to them.',\n",
      " \"peter szemraj: hey! i'm peter, a first year msc. i'm likely down to join for \"\n",
      " 'bouldering, i brought my shoes and pack with me on the plane lol. i just '\n",
      " 'moved in to my apartment today and unless i start to feel exhausted in the '\n",
      " \"next 3h i'd like to join\",\n",
      " 'david \"pumpen\" wissel: hey peter, nice to meet you! sounds good, were aiming '\n",
      " 'at being at the bouldering spot on hongg around 6. have you been before? '\n",
      " \"it's a bit in the back to the left of the asvz there but otherwise i'm also \"\n",
      " 'reachable here. see you later!',\n",
      " 'peter szemraj: sounds good! i got out of my mandatory quarantine this '\n",
      " 'morning (travelled from the us) so i have literally been nowhere except '\n",
      " 'zurich youth hostel haha. i think i have the google maps location so i will '\n",
      " \"plan on heading there, i will reach out if i can't find you\",\n",
      " \"peter szemraj: cg46+x7 zurich, switzerland is what google maps says. i'll \"\n",
      " 'have an orange backpack and look obviously american',\n",
      " 'david \"pumpen\" wissel: yup, exactly - cool, see you in an hour-ish then!',\n",
      " \"peter szemraj: perfect! i'll probably be a little after 6 as i am grabbing \"\n",
      " 'some groceries but not too late',\n",
      " 'david \"pumpen\" wissel: sure no worries, we\\'ll be until at least 7:30 anyway '\n",
      " \"i'd say\",\n",
      " \"peter szemraj: awesome, looks like i'll be there 630ish, i didn't get the \"\n",
      " 'transport pass yet and wow uber takes forever here',\n",
      " 'david \"pumpen\" wissel: sounds good']\n"
     ]
    }
   ]
  },
  {
   "cell_type": "code",
   "metadata": {
    "id": "xNCTigvvGc0p",
    "colab": {
     "base_uri": "https://localhost:8080/"
    },
    "outputId": "8e984609-adfe-4fd4-971b-447a657fd9ec"
   },
   "source": [
    "fin_text = []\n",
    "\n",
    "for line in sub_textlines:\n",
    "    line = str(line)\n",
    "    parts = line.split(\": \")\n",
    "    if len(parts) == 2 and isinstance(parts, list):\n",
    "        fin_text.append(parts[0] + \":\\n\")\n",
    "        fin_text.append(parts[1] + \"\\n\")\n",
    "        fin_text.append(\"\\n\")\n",
    "    elif len(parts) > 2:\n",
    "        fin_text.append(parts[0] + \":\\n\")\n",
    "        fin_text.append(\" \".join(parts[1:]) + \"\\n\")\n",
    "        fin_text.append(\"\\n\")\n",
    "    else:\n",
    "        continue\n",
    "\n",
    "\n",
    "pp.pprint(fin_text[:20])"
   ],
   "execution_count": null,
   "outputs": [
    {
     "output_type": "stream",
     "name": "stdout",
     "text": [
      "['david \"pumpen\" wissel:\\n',\n",
      " 'messages and calls are end-to-end encrypted. no one outside of this chat, '\n",
      " 'not even whatsapp, can read or listen to them.\\n',\n",
      " '\\n',\n",
      " 'peter szemraj:\\n',\n",
      " \"hey! i'm peter, a first year msc. i'm likely down to join for bouldering, i \"\n",
      " 'brought my shoes and pack with me on the plane lol. i just moved in to my '\n",
      " \"apartment today and unless i start to feel exhausted in the next 3h i'd like \"\n",
      " 'to join\\n',\n",
      " '\\n',\n",
      " 'david \"pumpen\" wissel:\\n',\n",
      " 'hey peter, nice to meet you! sounds good, were aiming at being at the '\n",
      " \"bouldering spot on hongg around 6. have you been before? it's a bit in the \"\n",
      " \"back to the left of the asvz there but otherwise i'm also reachable here. \"\n",
      " 'see you later!\\n',\n",
      " '\\n',\n",
      " 'peter szemraj:\\n',\n",
      " 'sounds good! i got out of my mandatory quarantine this morning (travelled '\n",
      " 'from the us) so i have literally been nowhere except zurich youth hostel '\n",
      " 'haha. i think i have the google maps location so i will plan on heading '\n",
      " \"there, i will reach out if i can't find you\\n\",\n",
      " '\\n',\n",
      " 'peter szemraj:\\n',\n",
      " \"cg46+x7 zurich, switzerland is what google maps says. i'll have an orange \"\n",
      " 'backpack and look obviously american\\n',\n",
      " '\\n',\n",
      " 'david \"pumpen\" wissel:\\n',\n",
      " 'yup, exactly - cool, see you in an hour-ish then!\\n',\n",
      " '\\n',\n",
      " 'peter szemraj:\\n',\n",
      " \"perfect! i'll probably be a little after 6 as i am grabbing some groceries \"\n",
      " 'but not too late\\n']\n"
     ]
    }
   ]
  },
  {
   "cell_type": "markdown",
   "metadata": {
    "id": "UiaxKXigIOmY"
   },
   "source": [
    "# save\n"
   ]
  },
  {
   "cell_type": "code",
   "metadata": {
    "id": "oZyYvlSJIPyN",
    "colab": {
     "base_uri": "https://localhost:8080/",
     "height": 17
    },
    "outputId": "70b79edb-41d6-4a89-91ee-378d7a4bca36"
   },
   "source": [
    "outname = \"reformatted_text.txt\"\n",
    "with open(outname, \"w\", encoding=\"utf-8\", errors=\"ignore\") as fo:\n",
    "\n",
    "    fo.writelines(fin_text)\n",
    "\n",
    "from google.colab import files\n",
    "\n",
    "files.download(outname)"
   ],
   "execution_count": null,
   "outputs": [
    {
     "output_type": "display_data",
     "data": {
      "application/javascript": [
       "\n",
       "    async function download(id, filename, size) {\n",
       "      if (!google.colab.kernel.accessAllowed) {\n",
       "        return;\n",
       "      }\n",
       "      const div = document.createElement('div');\n",
       "      const label = document.createElement('label');\n",
       "      label.textContent = `Downloading \"${filename}\": `;\n",
       "      div.appendChild(label);\n",
       "      const progress = document.createElement('progress');\n",
       "      progress.max = size;\n",
       "      div.appendChild(progress);\n",
       "      document.body.appendChild(div);\n",
       "\n",
       "      const buffers = [];\n",
       "      let downloaded = 0;\n",
       "\n",
       "      const channel = await google.colab.kernel.comms.open(id);\n",
       "      // Send a message to notify the kernel that we're ready.\n",
       "      channel.send({})\n",
       "\n",
       "      for await (const message of channel.messages) {\n",
       "        // Send a message to notify the kernel that we're ready.\n",
       "        channel.send({})\n",
       "        if (message.buffers) {\n",
       "          for (const buffer of message.buffers) {\n",
       "            buffers.push(buffer);\n",
       "            downloaded += buffer.byteLength;\n",
       "            progress.value = downloaded;\n",
       "          }\n",
       "        }\n",
       "      }\n",
       "      const blob = new Blob(buffers, {type: 'application/binary'});\n",
       "      const a = document.createElement('a');\n",
       "      a.href = window.URL.createObjectURL(blob);\n",
       "      a.download = filename;\n",
       "      div.appendChild(a);\n",
       "      a.click();\n",
       "      div.remove();\n",
       "    }\n",
       "  "
      ],
      "text/plain": [
       "<IPython.core.display.Javascript object>"
      ]
     },
     "metadata": {}
    },
    {
     "output_type": "display_data",
     "data": {
      "application/javascript": [
       "download(\"download_9e61f8e9-c3c3-413a-84c8-55f11bb5dd4d\", \"reformatted_text.txt\", 124777)"
      ],
      "text/plain": [
       "<IPython.core.display.Javascript object>"
      ]
     },
     "metadata": {}
    }
   ]
  }
 ]
}