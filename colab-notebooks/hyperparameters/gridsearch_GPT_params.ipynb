{
 "nbformat": 4,
 "nbformat_minor": 0,
 "metadata": {
  "colab": {
   "name": "gridsearch_GPT_params.ipynb",
   "provenance": [],
   "collapsed_sections": [],
   "toc_visible": true,
   "machine_shape": "hm",
   "authorship_tag": "ABX9TyNg/mZFm1wgVaeI3tUTD84s",
   "include_colab_link": true
  },
  "kernelspec": {
   "display_name": "Python 3",
   "name": "python3"
  },
  "language_info": {
   "name": "python"
  },
  "widgets": {
   "application/vnd.jupyter.widget-state+json": {
    "5d3c4a773b3d4648b4f9bedf595b7b4a": {
     "model_module": "@jupyter-widgets/controls",
     "model_name": "HBoxModel",
     "model_module_version": "1.5.0",
     "state": {
      "_dom_classes": [],
      "_model_module": "@jupyter-widgets/controls",
      "_model_module_version": "1.5.0",
      "_model_name": "HBoxModel",
      "_view_count": null,
      "_view_module": "@jupyter-widgets/controls",
      "_view_module_version": "1.5.0",
      "_view_name": "HBoxView",
      "box_style": "",
      "children": [
       "IPY_MODEL_a81385829f1042b8a3404e1abf4d598c",
       "IPY_MODEL_f30299c0d4b3438ea499ea5780c0bf16",
       "IPY_MODEL_ad4fa345812a415d8a777929ce42011e"
      ],
      "layout": "IPY_MODEL_7f595257446645df923efcc63a6f43ce"
     }
    },
    "a81385829f1042b8a3404e1abf4d598c": {
     "model_module": "@jupyter-widgets/controls",
     "model_name": "HTMLModel",
     "model_module_version": "1.5.0",
     "state": {
      "_dom_classes": [],
      "_model_module": "@jupyter-widgets/controls",
      "_model_module_version": "1.5.0",
      "_model_name": "HTMLModel",
      "_view_count": null,
      "_view_module": "@jupyter-widgets/controls",
      "_view_module_version": "1.5.0",
      "_view_name": "HTMLView",
      "description": "",
      "description_tooltip": null,
      "layout": "IPY_MODEL_1b5bb3daaf3a4335adc4d1cd544145e7",
      "placeholder": "​",
      "style": "IPY_MODEL_cf1a5df1fea44b0888fb58f14090eff7",
      "value": "completing grid search...: 100%"
     }
    },
    "f30299c0d4b3438ea499ea5780c0bf16": {
     "model_module": "@jupyter-widgets/controls",
     "model_name": "FloatProgressModel",
     "model_module_version": "1.5.0",
     "state": {
      "_dom_classes": [],
      "_model_module": "@jupyter-widgets/controls",
      "_model_module_version": "1.5.0",
      "_model_name": "FloatProgressModel",
      "_view_count": null,
      "_view_module": "@jupyter-widgets/controls",
      "_view_module_version": "1.5.0",
      "_view_name": "ProgressView",
      "bar_style": "success",
      "description": "",
      "description_tooltip": null,
      "layout": "IPY_MODEL_cb9868b7679048fea5a8a0a6c0706e66",
      "max": 5000,
      "min": 0,
      "orientation": "horizontal",
      "style": "IPY_MODEL_4786c54c074e4f8a85bcc2b8737cda9a",
      "value": 5000
     }
    },
    "ad4fa345812a415d8a777929ce42011e": {
     "model_module": "@jupyter-widgets/controls",
     "model_name": "HTMLModel",
     "model_module_version": "1.5.0",
     "state": {
      "_dom_classes": [],
      "_model_module": "@jupyter-widgets/controls",
      "_model_module_version": "1.5.0",
      "_model_name": "HTMLModel",
      "_view_count": null,
      "_view_module": "@jupyter-widgets/controls",
      "_view_module_version": "1.5.0",
      "_view_name": "HTMLView",
      "description": "",
      "description_tooltip": null,
      "layout": "IPY_MODEL_e5de0d371f0546d4bdc8cd9fd879de37",
      "placeholder": "​",
      "style": "IPY_MODEL_ebfc6f619fcb4fa98e05120477c0f72c",
      "value": " 5000/5000 [19:38:23&lt;00:00, 15.15s/it]"
     }
    },
    "7f595257446645df923efcc63a6f43ce": {
     "model_module": "@jupyter-widgets/base",
     "model_name": "LayoutModel",
     "model_module_version": "1.2.0",
     "state": {
      "_model_module": "@jupyter-widgets/base",
      "_model_module_version": "1.2.0",
      "_model_name": "LayoutModel",
      "_view_count": null,
      "_view_module": "@jupyter-widgets/base",
      "_view_module_version": "1.2.0",
      "_view_name": "LayoutView",
      "align_content": null,
      "align_items": null,
      "align_self": null,
      "border": null,
      "bottom": null,
      "display": null,
      "flex": null,
      "flex_flow": null,
      "grid_area": null,
      "grid_auto_columns": null,
      "grid_auto_flow": null,
      "grid_auto_rows": null,
      "grid_column": null,
      "grid_gap": null,
      "grid_row": null,
      "grid_template_areas": null,
      "grid_template_columns": null,
      "grid_template_rows": null,
      "height": null,
      "justify_content": null,
      "justify_items": null,
      "left": null,
      "margin": null,
      "max_height": null,
      "max_width": null,
      "min_height": null,
      "min_width": null,
      "object_fit": null,
      "object_position": null,
      "order": null,
      "overflow": null,
      "overflow_x": null,
      "overflow_y": null,
      "padding": null,
      "right": null,
      "top": null,
      "visibility": null,
      "width": null
     }
    },
    "1b5bb3daaf3a4335adc4d1cd544145e7": {
     "model_module": "@jupyter-widgets/base",
     "model_name": "LayoutModel",
     "model_module_version": "1.2.0",
     "state": {
      "_model_module": "@jupyter-widgets/base",
      "_model_module_version": "1.2.0",
      "_model_name": "LayoutModel",
      "_view_count": null,
      "_view_module": "@jupyter-widgets/base",
      "_view_module_version": "1.2.0",
      "_view_name": "LayoutView",
      "align_content": null,
      "align_items": null,
      "align_self": null,
      "border": null,
      "bottom": null,
      "display": null,
      "flex": null,
      "flex_flow": null,
      "grid_area": null,
      "grid_auto_columns": null,
      "grid_auto_flow": null,
      "grid_auto_rows": null,
      "grid_column": null,
      "grid_gap": null,
      "grid_row": null,
      "grid_template_areas": null,
      "grid_template_columns": null,
      "grid_template_rows": null,
      "height": null,
      "justify_content": null,
      "justify_items": null,
      "left": null,
      "margin": null,
      "max_height": null,
      "max_width": null,
      "min_height": null,
      "min_width": null,
      "object_fit": null,
      "object_position": null,
      "order": null,
      "overflow": null,
      "overflow_x": null,
      "overflow_y": null,
      "padding": null,
      "right": null,
      "top": null,
      "visibility": null,
      "width": null
     }
    },
    "cf1a5df1fea44b0888fb58f14090eff7": {
     "model_module": "@jupyter-widgets/controls",
     "model_name": "DescriptionStyleModel",
     "model_module_version": "1.5.0",
     "state": {
      "_model_module": "@jupyter-widgets/controls",
      "_model_module_version": "1.5.0",
      "_model_name": "DescriptionStyleModel",
      "_view_count": null,
      "_view_module": "@jupyter-widgets/base",
      "_view_module_version": "1.2.0",
      "_view_name": "StyleView",
      "description_width": ""
     }
    },
    "cb9868b7679048fea5a8a0a6c0706e66": {
     "model_module": "@jupyter-widgets/base",
     "model_name": "LayoutModel",
     "model_module_version": "1.2.0",
     "state": {
      "_model_module": "@jupyter-widgets/base",
      "_model_module_version": "1.2.0",
      "_model_name": "LayoutModel",
      "_view_count": null,
      "_view_module": "@jupyter-widgets/base",
      "_view_module_version": "1.2.0",
      "_view_name": "LayoutView",
      "align_content": null,
      "align_items": null,
      "align_self": null,
      "border": null,
      "bottom": null,
      "display": null,
      "flex": null,
      "flex_flow": null,
      "grid_area": null,
      "grid_auto_columns": null,
      "grid_auto_flow": null,
      "grid_auto_rows": null,
      "grid_column": null,
      "grid_gap": null,
      "grid_row": null,
      "grid_template_areas": null,
      "grid_template_columns": null,
      "grid_template_rows": null,
      "height": null,
      "justify_content": null,
      "justify_items": null,
      "left": null,
      "margin": null,
      "max_height": null,
      "max_width": null,
      "min_height": null,
      "min_width": null,
      "object_fit": null,
      "object_position": null,
      "order": null,
      "overflow": null,
      "overflow_x": null,
      "overflow_y": null,
      "padding": null,
      "right": null,
      "top": null,
      "visibility": null,
      "width": null
     }
    },
    "4786c54c074e4f8a85bcc2b8737cda9a": {
     "model_module": "@jupyter-widgets/controls",
     "model_name": "ProgressStyleModel",
     "model_module_version": "1.5.0",
     "state": {
      "_model_module": "@jupyter-widgets/controls",
      "_model_module_version": "1.5.0",
      "_model_name": "ProgressStyleModel",
      "_view_count": null,
      "_view_module": "@jupyter-widgets/base",
      "_view_module_version": "1.2.0",
      "_view_name": "StyleView",
      "bar_color": null,
      "description_width": ""
     }
    },
    "e5de0d371f0546d4bdc8cd9fd879de37": {
     "model_module": "@jupyter-widgets/base",
     "model_name": "LayoutModel",
     "model_module_version": "1.2.0",
     "state": {
      "_model_module": "@jupyter-widgets/base",
      "_model_module_version": "1.2.0",
      "_model_name": "LayoutModel",
      "_view_count": null,
      "_view_module": "@jupyter-widgets/base",
      "_view_module_version": "1.2.0",
      "_view_name": "LayoutView",
      "align_content": null,
      "align_items": null,
      "align_self": null,
      "border": null,
      "bottom": null,
      "display": null,
      "flex": null,
      "flex_flow": null,
      "grid_area": null,
      "grid_auto_columns": null,
      "grid_auto_flow": null,
      "grid_auto_rows": null,
      "grid_column": null,
      "grid_gap": null,
      "grid_row": null,
      "grid_template_areas": null,
      "grid_template_columns": null,
      "grid_template_rows": null,
      "height": null,
      "justify_content": null,
      "justify_items": null,
      "left": null,
      "margin": null,
      "max_height": null,
      "max_width": null,
      "min_height": null,
      "min_width": null,
      "object_fit": null,
      "object_position": null,
      "order": null,
      "overflow": null,
      "overflow_x": null,
      "overflow_y": null,
      "padding": null,
      "right": null,
      "top": null,
      "visibility": null,
      "width": null
     }
    },
    "ebfc6f619fcb4fa98e05120477c0f72c": {
     "model_module": "@jupyter-widgets/controls",
     "model_name": "DescriptionStyleModel",
     "model_module_version": "1.5.0",
     "state": {
      "_model_module": "@jupyter-widgets/controls",
      "_model_module_version": "1.5.0",
      "_model_name": "DescriptionStyleModel",
      "_view_count": null,
      "_view_module": "@jupyter-widgets/base",
      "_view_module_version": "1.2.0",
      "_view_name": "StyleView",
      "description_width": ""
     }
    },
    "f13cf3220e1d47bfbe542f37ce21bea5": {
     "model_module": "@jupyter-widgets/controls",
     "model_name": "HBoxModel",
     "model_module_version": "1.5.0",
     "state": {
      "_view_name": "HBoxView",
      "_dom_classes": [],
      "_model_name": "HBoxModel",
      "_view_module": "@jupyter-widgets/controls",
      "_model_module_version": "1.5.0",
      "_view_count": null,
      "_view_module_version": "1.5.0",
      "box_style": "",
      "layout": "IPY_MODEL_561b2024d626476eab7be9861ed0c0dd",
      "_model_module": "@jupyter-widgets/controls",
      "children": [
       "IPY_MODEL_e762792de42a48d8afc80248ea713e36",
       "IPY_MODEL_1f948e64b5fa48aea1b226fc4268f017",
       "IPY_MODEL_8798f60068d949d09dd706913ab10f1f"
      ]
     }
    },
    "561b2024d626476eab7be9861ed0c0dd": {
     "model_module": "@jupyter-widgets/base",
     "model_name": "LayoutModel",
     "model_module_version": "1.2.0",
     "state": {
      "_view_name": "LayoutView",
      "grid_template_rows": null,
      "right": null,
      "justify_content": null,
      "_view_module": "@jupyter-widgets/base",
      "overflow": null,
      "_model_module_version": "1.2.0",
      "_view_count": null,
      "flex_flow": null,
      "width": null,
      "min_width": null,
      "border": null,
      "align_items": null,
      "bottom": null,
      "_model_module": "@jupyter-widgets/base",
      "top": null,
      "grid_column": null,
      "overflow_y": null,
      "overflow_x": null,
      "grid_auto_flow": null,
      "grid_area": null,
      "grid_template_columns": null,
      "flex": null,
      "_model_name": "LayoutModel",
      "justify_items": null,
      "grid_row": null,
      "max_height": null,
      "align_content": null,
      "visibility": null,
      "align_self": null,
      "height": null,
      "min_height": null,
      "padding": null,
      "grid_auto_rows": null,
      "grid_gap": null,
      "max_width": null,
      "order": null,
      "_view_module_version": "1.2.0",
      "grid_template_areas": null,
      "object_position": null,
      "object_fit": null,
      "grid_auto_columns": null,
      "margin": null,
      "display": null,
      "left": null
     }
    },
    "e762792de42a48d8afc80248ea713e36": {
     "model_module": "@jupyter-widgets/controls",
     "model_name": "HTMLModel",
     "model_module_version": "1.5.0",
     "state": {
      "_view_name": "HTMLView",
      "style": "IPY_MODEL_bd26a3210cca4effbe8d8634235215e4",
      "_dom_classes": [],
      "description": "",
      "_model_name": "HTMLModel",
      "placeholder": "​",
      "_view_module": "@jupyter-widgets/controls",
      "_model_module_version": "1.5.0",
      "value": "Downloading: 100%",
      "_view_count": null,
      "_view_module_version": "1.5.0",
      "description_tooltip": null,
      "_model_module": "@jupyter-widgets/controls",
      "layout": "IPY_MODEL_969ff619688546ca993612e066ff7cdc"
     }
    },
    "1f948e64b5fa48aea1b226fc4268f017": {
     "model_module": "@jupyter-widgets/controls",
     "model_name": "FloatProgressModel",
     "model_module_version": "1.5.0",
     "state": {
      "_view_name": "ProgressView",
      "style": "IPY_MODEL_061dfe405eca4a1b83b281c493b47cf8",
      "_dom_classes": [],
      "description": "",
      "_model_name": "FloatProgressModel",
      "bar_style": "success",
      "max": 666,
      "_view_module": "@jupyter-widgets/controls",
      "_model_module_version": "1.5.0",
      "value": 666,
      "_view_count": null,
      "_view_module_version": "1.5.0",
      "orientation": "horizontal",
      "min": 0,
      "description_tooltip": null,
      "_model_module": "@jupyter-widgets/controls",
      "layout": "IPY_MODEL_f97a3518337e4386919eff27795ee795"
     }
    },
    "8798f60068d949d09dd706913ab10f1f": {
     "model_module": "@jupyter-widgets/controls",
     "model_name": "HTMLModel",
     "model_module_version": "1.5.0",
     "state": {
      "_view_name": "HTMLView",
      "style": "IPY_MODEL_3ffa2eb9cb764efe945621940ae5c6e3",
      "_dom_classes": [],
      "description": "",
      "_model_name": "HTMLModel",
      "placeholder": "​",
      "_view_module": "@jupyter-widgets/controls",
      "_model_module_version": "1.5.0",
      "value": " 666/666 [00:00&lt;00:00, 18.5kB/s]",
      "_view_count": null,
      "_view_module_version": "1.5.0",
      "description_tooltip": null,
      "_model_module": "@jupyter-widgets/controls",
      "layout": "IPY_MODEL_466fc7044296433190030874e484295e"
     }
    },
    "bd26a3210cca4effbe8d8634235215e4": {
     "model_module": "@jupyter-widgets/controls",
     "model_name": "DescriptionStyleModel",
     "model_module_version": "1.5.0",
     "state": {
      "_view_name": "StyleView",
      "_model_name": "DescriptionStyleModel",
      "description_width": "",
      "_view_module": "@jupyter-widgets/base",
      "_model_module_version": "1.5.0",
      "_view_count": null,
      "_view_module_version": "1.2.0",
      "_model_module": "@jupyter-widgets/controls"
     }
    },
    "969ff619688546ca993612e066ff7cdc": {
     "model_module": "@jupyter-widgets/base",
     "model_name": "LayoutModel",
     "model_module_version": "1.2.0",
     "state": {
      "_view_name": "LayoutView",
      "grid_template_rows": null,
      "right": null,
      "justify_content": null,
      "_view_module": "@jupyter-widgets/base",
      "overflow": null,
      "_model_module_version": "1.2.0",
      "_view_count": null,
      "flex_flow": null,
      "width": null,
      "min_width": null,
      "border": null,
      "align_items": null,
      "bottom": null,
      "_model_module": "@jupyter-widgets/base",
      "top": null,
      "grid_column": null,
      "overflow_y": null,
      "overflow_x": null,
      "grid_auto_flow": null,
      "grid_area": null,
      "grid_template_columns": null,
      "flex": null,
      "_model_name": "LayoutModel",
      "justify_items": null,
      "grid_row": null,
      "max_height": null,
      "align_content": null,
      "visibility": null,
      "align_self": null,
      "height": null,
      "min_height": null,
      "padding": null,
      "grid_auto_rows": null,
      "grid_gap": null,
      "max_width": null,
      "order": null,
      "_view_module_version": "1.2.0",
      "grid_template_areas": null,
      "object_position": null,
      "object_fit": null,
      "grid_auto_columns": null,
      "margin": null,
      "display": null,
      "left": null
     }
    },
    "061dfe405eca4a1b83b281c493b47cf8": {
     "model_module": "@jupyter-widgets/controls",
     "model_name": "ProgressStyleModel",
     "model_module_version": "1.5.0",
     "state": {
      "_view_name": "StyleView",
      "_model_name": "ProgressStyleModel",
      "description_width": "",
      "_view_module": "@jupyter-widgets/base",
      "_model_module_version": "1.5.0",
      "_view_count": null,
      "_view_module_version": "1.2.0",
      "bar_color": null,
      "_model_module": "@jupyter-widgets/controls"
     }
    },
    "f97a3518337e4386919eff27795ee795": {
     "model_module": "@jupyter-widgets/base",
     "model_name": "LayoutModel",
     "model_module_version": "1.2.0",
     "state": {
      "_view_name": "LayoutView",
      "grid_template_rows": null,
      "right": null,
      "justify_content": null,
      "_view_module": "@jupyter-widgets/base",
      "overflow": null,
      "_model_module_version": "1.2.0",
      "_view_count": null,
      "flex_flow": null,
      "width": null,
      "min_width": null,
      "border": null,
      "align_items": null,
      "bottom": null,
      "_model_module": "@jupyter-widgets/base",
      "top": null,
      "grid_column": null,
      "overflow_y": null,
      "overflow_x": null,
      "grid_auto_flow": null,
      "grid_area": null,
      "grid_template_columns": null,
      "flex": null,
      "_model_name": "LayoutModel",
      "justify_items": null,
      "grid_row": null,
      "max_height": null,
      "align_content": null,
      "visibility": null,
      "align_self": null,
      "height": null,
      "min_height": null,
      "padding": null,
      "grid_auto_rows": null,
      "grid_gap": null,
      "max_width": null,
      "order": null,
      "_view_module_version": "1.2.0",
      "grid_template_areas": null,
      "object_position": null,
      "object_fit": null,
      "grid_auto_columns": null,
      "margin": null,
      "display": null,
      "left": null
     }
    },
    "3ffa2eb9cb764efe945621940ae5c6e3": {
     "model_module": "@jupyter-widgets/controls",
     "model_name": "DescriptionStyleModel",
     "model_module_version": "1.5.0",
     "state": {
      "_view_name": "StyleView",
      "_model_name": "DescriptionStyleModel",
      "description_width": "",
      "_view_module": "@jupyter-widgets/base",
      "_model_module_version": "1.5.0",
      "_view_count": null,
      "_view_module_version": "1.2.0",
      "_model_module": "@jupyter-widgets/controls"
     }
    },
    "466fc7044296433190030874e484295e": {
     "model_module": "@jupyter-widgets/base",
     "model_name": "LayoutModel",
     "model_module_version": "1.2.0",
     "state": {
      "_view_name": "LayoutView",
      "grid_template_rows": null,
      "right": null,
      "justify_content": null,
      "_view_module": "@jupyter-widgets/base",
      "overflow": null,
      "_model_module_version": "1.2.0",
      "_view_count": null,
      "flex_flow": null,
      "width": null,
      "min_width": null,
      "border": null,
      "align_items": null,
      "bottom": null,
      "_model_module": "@jupyter-widgets/base",
      "top": null,
      "grid_column": null,
      "overflow_y": null,
      "overflow_x": null,
      "grid_auto_flow": null,
      "grid_area": null,
      "grid_template_columns": null,
      "flex": null,
      "_model_name": "LayoutModel",
      "justify_items": null,
      "grid_row": null,
      "max_height": null,
      "align_content": null,
      "visibility": null,
      "align_self": null,
      "height": null,
      "min_height": null,
      "padding": null,
      "grid_auto_rows": null,
      "grid_gap": null,
      "max_width": null,
      "order": null,
      "_view_module_version": "1.2.0",
      "grid_template_areas": null,
      "object_position": null,
      "object_fit": null,
      "grid_auto_columns": null,
      "margin": null,
      "display": null,
      "left": null
     }
    },
    "637c1ae9efa1413bb00162159b8c4173": {
     "model_module": "@jupyter-widgets/controls",
     "model_name": "HBoxModel",
     "model_module_version": "1.5.0",
     "state": {
      "_view_name": "HBoxView",
      "_dom_classes": [],
      "_model_name": "HBoxModel",
      "_view_module": "@jupyter-widgets/controls",
      "_model_module_version": "1.5.0",
      "_view_count": null,
      "_view_module_version": "1.5.0",
      "box_style": "",
      "layout": "IPY_MODEL_d77490c6fafd4f189550cf0872e9a1cf",
      "_model_module": "@jupyter-widgets/controls",
      "children": [
       "IPY_MODEL_afbad749c5364df3996105486febde43",
       "IPY_MODEL_e8f6a69756194234a134fea232a9bcc4",
       "IPY_MODEL_a5ad0064201747beb5ddfaad297e7377"
      ]
     }
    },
    "d77490c6fafd4f189550cf0872e9a1cf": {
     "model_module": "@jupyter-widgets/base",
     "model_name": "LayoutModel",
     "model_module_version": "1.2.0",
     "state": {
      "_view_name": "LayoutView",
      "grid_template_rows": null,
      "right": null,
      "justify_content": null,
      "_view_module": "@jupyter-widgets/base",
      "overflow": null,
      "_model_module_version": "1.2.0",
      "_view_count": null,
      "flex_flow": null,
      "width": null,
      "min_width": null,
      "border": null,
      "align_items": null,
      "bottom": null,
      "_model_module": "@jupyter-widgets/base",
      "top": null,
      "grid_column": null,
      "overflow_y": null,
      "overflow_x": null,
      "grid_auto_flow": null,
      "grid_area": null,
      "grid_template_columns": null,
      "flex": null,
      "_model_name": "LayoutModel",
      "justify_items": null,
      "grid_row": null,
      "max_height": null,
      "align_content": null,
      "visibility": null,
      "align_self": null,
      "height": null,
      "min_height": null,
      "padding": null,
      "grid_auto_rows": null,
      "grid_gap": null,
      "max_width": null,
      "order": null,
      "_view_module_version": "1.2.0",
      "grid_template_areas": null,
      "object_position": null,
      "object_fit": null,
      "grid_auto_columns": null,
      "margin": null,
      "display": null,
      "left": null
     }
    },
    "afbad749c5364df3996105486febde43": {
     "model_module": "@jupyter-widgets/controls",
     "model_name": "HTMLModel",
     "model_module_version": "1.5.0",
     "state": {
      "_view_name": "HTMLView",
      "style": "IPY_MODEL_d9af94ae213f47568d3ea0ad4ff1152b",
      "_dom_classes": [],
      "description": "",
      "_model_name": "HTMLModel",
      "placeholder": "​",
      "_view_module": "@jupyter-widgets/controls",
      "_model_module_version": "1.5.0",
      "value": "Downloading: 100%",
      "_view_count": null,
      "_view_module_version": "1.5.0",
      "description_tooltip": null,
      "_model_module": "@jupyter-widgets/controls",
      "layout": "IPY_MODEL_9eaa128fc3654218a2599560e16cd453"
     }
    },
    "e8f6a69756194234a134fea232a9bcc4": {
     "model_module": "@jupyter-widgets/controls",
     "model_name": "FloatProgressModel",
     "model_module_version": "1.5.0",
     "state": {
      "_view_name": "ProgressView",
      "style": "IPY_MODEL_5cc0f92481b04160800449628b6e31aa",
      "_dom_classes": [],
      "description": "",
      "_model_name": "FloatProgressModel",
      "bar_style": "success",
      "max": 1042301,
      "_view_module": "@jupyter-widgets/controls",
      "_model_module_version": "1.5.0",
      "value": 1042301,
      "_view_count": null,
      "_view_module_version": "1.5.0",
      "orientation": "horizontal",
      "min": 0,
      "description_tooltip": null,
      "_model_module": "@jupyter-widgets/controls",
      "layout": "IPY_MODEL_1c44839c39be463db27cda3352c0cb5f"
     }
    },
    "a5ad0064201747beb5ddfaad297e7377": {
     "model_module": "@jupyter-widgets/controls",
     "model_name": "HTMLModel",
     "model_module_version": "1.5.0",
     "state": {
      "_view_name": "HTMLView",
      "style": "IPY_MODEL_1bd30e4568874fb58f700c12035d9265",
      "_dom_classes": [],
      "description": "",
      "_model_name": "HTMLModel",
      "placeholder": "​",
      "_view_module": "@jupyter-widgets/controls",
      "_model_module_version": "1.5.0",
      "value": " 0.99M/0.99M [00:01&lt;00:00, 1.13MB/s]",
      "_view_count": null,
      "_view_module_version": "1.5.0",
      "description_tooltip": null,
      "_model_module": "@jupyter-widgets/controls",
      "layout": "IPY_MODEL_509bcb5e07c74efeb4e17ec2f324245e"
     }
    },
    "d9af94ae213f47568d3ea0ad4ff1152b": {
     "model_module": "@jupyter-widgets/controls",
     "model_name": "DescriptionStyleModel",
     "model_module_version": "1.5.0",
     "state": {
      "_view_name": "StyleView",
      "_model_name": "DescriptionStyleModel",
      "description_width": "",
      "_view_module": "@jupyter-widgets/base",
      "_model_module_version": "1.5.0",
      "_view_count": null,
      "_view_module_version": "1.2.0",
      "_model_module": "@jupyter-widgets/controls"
     }
    },
    "9eaa128fc3654218a2599560e16cd453": {
     "model_module": "@jupyter-widgets/base",
     "model_name": "LayoutModel",
     "model_module_version": "1.2.0",
     "state": {
      "_view_name": "LayoutView",
      "grid_template_rows": null,
      "right": null,
      "justify_content": null,
      "_view_module": "@jupyter-widgets/base",
      "overflow": null,
      "_model_module_version": "1.2.0",
      "_view_count": null,
      "flex_flow": null,
      "width": null,
      "min_width": null,
      "border": null,
      "align_items": null,
      "bottom": null,
      "_model_module": "@jupyter-widgets/base",
      "top": null,
      "grid_column": null,
      "overflow_y": null,
      "overflow_x": null,
      "grid_auto_flow": null,
      "grid_area": null,
      "grid_template_columns": null,
      "flex": null,
      "_model_name": "LayoutModel",
      "justify_items": null,
      "grid_row": null,
      "max_height": null,
      "align_content": null,
      "visibility": null,
      "align_self": null,
      "height": null,
      "min_height": null,
      "padding": null,
      "grid_auto_rows": null,
      "grid_gap": null,
      "max_width": null,
      "order": null,
      "_view_module_version": "1.2.0",
      "grid_template_areas": null,
      "object_position": null,
      "object_fit": null,
      "grid_auto_columns": null,
      "margin": null,
      "display": null,
      "left": null
     }
    },
    "5cc0f92481b04160800449628b6e31aa": {
     "model_module": "@jupyter-widgets/controls",
     "model_name": "ProgressStyleModel",
     "model_module_version": "1.5.0",
     "state": {
      "_view_name": "StyleView",
      "_model_name": "ProgressStyleModel",
      "description_width": "",
      "_view_module": "@jupyter-widgets/base",
      "_model_module_version": "1.5.0",
      "_view_count": null,
      "_view_module_version": "1.2.0",
      "bar_color": null,
      "_model_module": "@jupyter-widgets/controls"
     }
    },
    "1c44839c39be463db27cda3352c0cb5f": {
     "model_module": "@jupyter-widgets/base",
     "model_name": "LayoutModel",
     "model_module_version": "1.2.0",
     "state": {
      "_view_name": "LayoutView",
      "grid_template_rows": null,
      "right": null,
      "justify_content": null,
      "_view_module": "@jupyter-widgets/base",
      "overflow": null,
      "_model_module_version": "1.2.0",
      "_view_count": null,
      "flex_flow": null,
      "width": null,
      "min_width": null,
      "border": null,
      "align_items": null,
      "bottom": null,
      "_model_module": "@jupyter-widgets/base",
      "top": null,
      "grid_column": null,
      "overflow_y": null,
      "overflow_x": null,
      "grid_auto_flow": null,
      "grid_area": null,
      "grid_template_columns": null,
      "flex": null,
      "_model_name": "LayoutModel",
      "justify_items": null,
      "grid_row": null,
      "max_height": null,
      "align_content": null,
      "visibility": null,
      "align_self": null,
      "height": null,
      "min_height": null,
      "padding": null,
      "grid_auto_rows": null,
      "grid_gap": null,
      "max_width": null,
      "order": null,
      "_view_module_version": "1.2.0",
      "grid_template_areas": null,
      "object_position": null,
      "object_fit": null,
      "grid_auto_columns": null,
      "margin": null,
      "display": null,
      "left": null
     }
    },
    "1bd30e4568874fb58f700c12035d9265": {
     "model_module": "@jupyter-widgets/controls",
     "model_name": "DescriptionStyleModel",
     "model_module_version": "1.5.0",
     "state": {
      "_view_name": "StyleView",
      "_model_name": "DescriptionStyleModel",
      "description_width": "",
      "_view_module": "@jupyter-widgets/base",
      "_model_module_version": "1.5.0",
      "_view_count": null,
      "_view_module_version": "1.2.0",
      "_model_module": "@jupyter-widgets/controls"
     }
    },
    "509bcb5e07c74efeb4e17ec2f324245e": {
     "model_module": "@jupyter-widgets/base",
     "model_name": "LayoutModel",
     "model_module_version": "1.2.0",
     "state": {
      "_view_name": "LayoutView",
      "grid_template_rows": null,
      "right": null,
      "justify_content": null,
      "_view_module": "@jupyter-widgets/base",
      "overflow": null,
      "_model_module_version": "1.2.0",
      "_view_count": null,
      "flex_flow": null,
      "width": null,
      "min_width": null,
      "border": null,
      "align_items": null,
      "bottom": null,
      "_model_module": "@jupyter-widgets/base",
      "top": null,
      "grid_column": null,
      "overflow_y": null,
      "overflow_x": null,
      "grid_auto_flow": null,
      "grid_area": null,
      "grid_template_columns": null,
      "flex": null,
      "_model_name": "LayoutModel",
      "justify_items": null,
      "grid_row": null,
      "max_height": null,
      "align_content": null,
      "visibility": null,
      "align_self": null,
      "height": null,
      "min_height": null,
      "padding": null,
      "grid_auto_rows": null,
      "grid_gap": null,
      "max_width": null,
      "order": null,
      "_view_module_version": "1.2.0",
      "grid_template_areas": null,
      "object_position": null,
      "object_fit": null,
      "grid_auto_columns": null,
      "margin": null,
      "display": null,
      "left": null
     }
    },
    "361d48adaf3a4c0b9c01d960299b1680": {
     "model_module": "@jupyter-widgets/controls",
     "model_name": "HBoxModel",
     "model_module_version": "1.5.0",
     "state": {
      "_view_name": "HBoxView",
      "_dom_classes": [],
      "_model_name": "HBoxModel",
      "_view_module": "@jupyter-widgets/controls",
      "_model_module_version": "1.5.0",
      "_view_count": null,
      "_view_module_version": "1.5.0",
      "box_style": "",
      "layout": "IPY_MODEL_04785f40aacb4a6a92419d2656f1faae",
      "_model_module": "@jupyter-widgets/controls",
      "children": [
       "IPY_MODEL_d2a0bb9a1ff446618ca4fa6ac011c719",
       "IPY_MODEL_d9fbe630e9a649858466eb4e9df33074",
       "IPY_MODEL_4fcb68bea0ec46f0b054e9e8b4ba1f59"
      ]
     }
    },
    "04785f40aacb4a6a92419d2656f1faae": {
     "model_module": "@jupyter-widgets/base",
     "model_name": "LayoutModel",
     "model_module_version": "1.2.0",
     "state": {
      "_view_name": "LayoutView",
      "grid_template_rows": null,
      "right": null,
      "justify_content": null,
      "_view_module": "@jupyter-widgets/base",
      "overflow": null,
      "_model_module_version": "1.2.0",
      "_view_count": null,
      "flex_flow": null,
      "width": null,
      "min_width": null,
      "border": null,
      "align_items": null,
      "bottom": null,
      "_model_module": "@jupyter-widgets/base",
      "top": null,
      "grid_column": null,
      "overflow_y": null,
      "overflow_x": null,
      "grid_auto_flow": null,
      "grid_area": null,
      "grid_template_columns": null,
      "flex": null,
      "_model_name": "LayoutModel",
      "justify_items": null,
      "grid_row": null,
      "max_height": null,
      "align_content": null,
      "visibility": null,
      "align_self": null,
      "height": null,
      "min_height": null,
      "padding": null,
      "grid_auto_rows": null,
      "grid_gap": null,
      "max_width": null,
      "order": null,
      "_view_module_version": "1.2.0",
      "grid_template_areas": null,
      "object_position": null,
      "object_fit": null,
      "grid_auto_columns": null,
      "margin": null,
      "display": null,
      "left": null
     }
    },
    "d2a0bb9a1ff446618ca4fa6ac011c719": {
     "model_module": "@jupyter-widgets/controls",
     "model_name": "HTMLModel",
     "model_module_version": "1.5.0",
     "state": {
      "_view_name": "HTMLView",
      "style": "IPY_MODEL_21785e7d915b497f95edcfaaff268aaa",
      "_dom_classes": [],
      "description": "",
      "_model_name": "HTMLModel",
      "placeholder": "​",
      "_view_module": "@jupyter-widgets/controls",
      "_model_module_version": "1.5.0",
      "value": "Downloading: 100%",
      "_view_count": null,
      "_view_module_version": "1.5.0",
      "description_tooltip": null,
      "_model_module": "@jupyter-widgets/controls",
      "layout": "IPY_MODEL_02344712955e434b82922da06902ce0c"
     }
    },
    "d9fbe630e9a649858466eb4e9df33074": {
     "model_module": "@jupyter-widgets/controls",
     "model_name": "FloatProgressModel",
     "model_module_version": "1.5.0",
     "state": {
      "_view_name": "ProgressView",
      "style": "IPY_MODEL_30a2a03a7a9a49b29c5ef3d889c4ee51",
      "_dom_classes": [],
      "description": "",
      "_model_name": "FloatProgressModel",
      "bar_style": "success",
      "max": 456318,
      "_view_module": "@jupyter-widgets/controls",
      "_model_module_version": "1.5.0",
      "value": 456318,
      "_view_count": null,
      "_view_module_version": "1.5.0",
      "orientation": "horizontal",
      "min": 0,
      "description_tooltip": null,
      "_model_module": "@jupyter-widgets/controls",
      "layout": "IPY_MODEL_c6a2cc6dd4cc422caf0e82cd65b0d70e"
     }
    },
    "4fcb68bea0ec46f0b054e9e8b4ba1f59": {
     "model_module": "@jupyter-widgets/controls",
     "model_name": "HTMLModel",
     "model_module_version": "1.5.0",
     "state": {
      "_view_name": "HTMLView",
      "style": "IPY_MODEL_3bfc2bd89134449d91435eb25eb0d4f2",
      "_dom_classes": [],
      "description": "",
      "_model_name": "HTMLModel",
      "placeholder": "​",
      "_view_module": "@jupyter-widgets/controls",
      "_model_module_version": "1.5.0",
      "value": " 446k/446k [00:00&lt;00:00, 702kB/s]",
      "_view_count": null,
      "_view_module_version": "1.5.0",
      "description_tooltip": null,
      "_model_module": "@jupyter-widgets/controls",
      "layout": "IPY_MODEL_864de572662b4986b505c4200ab0cd71"
     }
    },
    "21785e7d915b497f95edcfaaff268aaa": {
     "model_module": "@jupyter-widgets/controls",
     "model_name": "DescriptionStyleModel",
     "model_module_version": "1.5.0",
     "state": {
      "_view_name": "StyleView",
      "_model_name": "DescriptionStyleModel",
      "description_width": "",
      "_view_module": "@jupyter-widgets/base",
      "_model_module_version": "1.5.0",
      "_view_count": null,
      "_view_module_version": "1.2.0",
      "_model_module": "@jupyter-widgets/controls"
     }
    },
    "02344712955e434b82922da06902ce0c": {
     "model_module": "@jupyter-widgets/base",
     "model_name": "LayoutModel",
     "model_module_version": "1.2.0",
     "state": {
      "_view_name": "LayoutView",
      "grid_template_rows": null,
      "right": null,
      "justify_content": null,
      "_view_module": "@jupyter-widgets/base",
      "overflow": null,
      "_model_module_version": "1.2.0",
      "_view_count": null,
      "flex_flow": null,
      "width": null,
      "min_width": null,
      "border": null,
      "align_items": null,
      "bottom": null,
      "_model_module": "@jupyter-widgets/base",
      "top": null,
      "grid_column": null,
      "overflow_y": null,
      "overflow_x": null,
      "grid_auto_flow": null,
      "grid_area": null,
      "grid_template_columns": null,
      "flex": null,
      "_model_name": "LayoutModel",
      "justify_items": null,
      "grid_row": null,
      "max_height": null,
      "align_content": null,
      "visibility": null,
      "align_self": null,
      "height": null,
      "min_height": null,
      "padding": null,
      "grid_auto_rows": null,
      "grid_gap": null,
      "max_width": null,
      "order": null,
      "_view_module_version": "1.2.0",
      "grid_template_areas": null,
      "object_position": null,
      "object_fit": null,
      "grid_auto_columns": null,
      "margin": null,
      "display": null,
      "left": null
     }
    },
    "30a2a03a7a9a49b29c5ef3d889c4ee51": {
     "model_module": "@jupyter-widgets/controls",
     "model_name": "ProgressStyleModel",
     "model_module_version": "1.5.0",
     "state": {
      "_view_name": "StyleView",
      "_model_name": "ProgressStyleModel",
      "description_width": "",
      "_view_module": "@jupyter-widgets/base",
      "_model_module_version": "1.5.0",
      "_view_count": null,
      "_view_module_version": "1.2.0",
      "bar_color": null,
      "_model_module": "@jupyter-widgets/controls"
     }
    },
    "c6a2cc6dd4cc422caf0e82cd65b0d70e": {
     "model_module": "@jupyter-widgets/base",
     "model_name": "LayoutModel",
     "model_module_version": "1.2.0",
     "state": {
      "_view_name": "LayoutView",
      "grid_template_rows": null,
      "right": null,
      "justify_content": null,
      "_view_module": "@jupyter-widgets/base",
      "overflow": null,
      "_model_module_version": "1.2.0",
      "_view_count": null,
      "flex_flow": null,
      "width": null,
      "min_width": null,
      "border": null,
      "align_items": null,
      "bottom": null,
      "_model_module": "@jupyter-widgets/base",
      "top": null,
      "grid_column": null,
      "overflow_y": null,
      "overflow_x": null,
      "grid_auto_flow": null,
      "grid_area": null,
      "grid_template_columns": null,
      "flex": null,
      "_model_name": "LayoutModel",
      "justify_items": null,
      "grid_row": null,
      "max_height": null,
      "align_content": null,
      "visibility": null,
      "align_self": null,
      "height": null,
      "min_height": null,
      "padding": null,
      "grid_auto_rows": null,
      "grid_gap": null,
      "max_width": null,
      "order": null,
      "_view_module_version": "1.2.0",
      "grid_template_areas": null,
      "object_position": null,
      "object_fit": null,
      "grid_auto_columns": null,
      "margin": null,
      "display": null,
      "left": null
     }
    },
    "3bfc2bd89134449d91435eb25eb0d4f2": {
     "model_module": "@jupyter-widgets/controls",
     "model_name": "DescriptionStyleModel",
     "model_module_version": "1.5.0",
     "state": {
      "_view_name": "StyleView",
      "_model_name": "DescriptionStyleModel",
      "description_width": "",
      "_view_module": "@jupyter-widgets/base",
      "_model_module_version": "1.5.0",
      "_view_count": null,
      "_view_module_version": "1.2.0",
      "_model_module": "@jupyter-widgets/controls"
     }
    },
    "864de572662b4986b505c4200ab0cd71": {
     "model_module": "@jupyter-widgets/base",
     "model_name": "LayoutModel",
     "model_module_version": "1.2.0",
     "state": {
      "_view_name": "LayoutView",
      "grid_template_rows": null,
      "right": null,
      "justify_content": null,
      "_view_module": "@jupyter-widgets/base",
      "overflow": null,
      "_model_module_version": "1.2.0",
      "_view_count": null,
      "flex_flow": null,
      "width": null,
      "min_width": null,
      "border": null,
      "align_items": null,
      "bottom": null,
      "_model_module": "@jupyter-widgets/base",
      "top": null,
      "grid_column": null,
      "overflow_y": null,
      "overflow_x": null,
      "grid_auto_flow": null,
      "grid_area": null,
      "grid_template_columns": null,
      "flex": null,
      "_model_name": "LayoutModel",
      "justify_items": null,
      "grid_row": null,
      "max_height": null,
      "align_content": null,
      "visibility": null,
      "align_self": null,
      "height": null,
      "min_height": null,
      "padding": null,
      "grid_auto_rows": null,
      "grid_gap": null,
      "max_width": null,
      "order": null,
      "_view_module_version": "1.2.0",
      "grid_template_areas": null,
      "object_position": null,
      "object_fit": null,
      "grid_auto_columns": null,
      "margin": null,
      "display": null,
      "left": null
     }
    },
    "61813bbc8b924a589997681618123f54": {
     "model_module": "@jupyter-widgets/controls",
     "model_name": "HBoxModel",
     "model_module_version": "1.5.0",
     "state": {
      "_view_name": "HBoxView",
      "_dom_classes": [],
      "_model_name": "HBoxModel",
      "_view_module": "@jupyter-widgets/controls",
      "_model_module_version": "1.5.0",
      "_view_count": null,
      "_view_module_version": "1.5.0",
      "box_style": "",
      "layout": "IPY_MODEL_7636b1987d1a46a9b2524eb7549fe87c",
      "_model_module": "@jupyter-widgets/controls",
      "children": [
       "IPY_MODEL_854c011ff58d4019a94549b32d6bc0db",
       "IPY_MODEL_39c201b2d6b54c8da2422ae033027656",
       "IPY_MODEL_20331827ba8e498499ff627466c617a8"
      ]
     }
    },
    "7636b1987d1a46a9b2524eb7549fe87c": {
     "model_module": "@jupyter-widgets/base",
     "model_name": "LayoutModel",
     "model_module_version": "1.2.0",
     "state": {
      "_view_name": "LayoutView",
      "grid_template_rows": null,
      "right": null,
      "justify_content": null,
      "_view_module": "@jupyter-widgets/base",
      "overflow": null,
      "_model_module_version": "1.2.0",
      "_view_count": null,
      "flex_flow": null,
      "width": null,
      "min_width": null,
      "border": null,
      "align_items": null,
      "bottom": null,
      "_model_module": "@jupyter-widgets/base",
      "top": null,
      "grid_column": null,
      "overflow_y": null,
      "overflow_x": null,
      "grid_auto_flow": null,
      "grid_area": null,
      "grid_template_columns": null,
      "flex": null,
      "_model_name": "LayoutModel",
      "justify_items": null,
      "grid_row": null,
      "max_height": null,
      "align_content": null,
      "visibility": null,
      "align_self": null,
      "height": null,
      "min_height": null,
      "padding": null,
      "grid_auto_rows": null,
      "grid_gap": null,
      "max_width": null,
      "order": null,
      "_view_module_version": "1.2.0",
      "grid_template_areas": null,
      "object_position": null,
      "object_fit": null,
      "grid_auto_columns": null,
      "margin": null,
      "display": null,
      "left": null
     }
    },
    "854c011ff58d4019a94549b32d6bc0db": {
     "model_module": "@jupyter-widgets/controls",
     "model_name": "HTMLModel",
     "model_module_version": "1.5.0",
     "state": {
      "_view_name": "HTMLView",
      "style": "IPY_MODEL_fe76c6313095412b9b172ab001a0225a",
      "_dom_classes": [],
      "description": "",
      "_model_name": "HTMLModel",
      "placeholder": "​",
      "_view_module": "@jupyter-widgets/controls",
      "_model_module_version": "1.5.0",
      "value": "Downloading: 100%",
      "_view_count": null,
      "_view_module_version": "1.5.0",
      "description_tooltip": null,
      "_model_module": "@jupyter-widgets/controls",
      "layout": "IPY_MODEL_48d2ccce1784494091ee34e14b11584a"
     }
    },
    "39c201b2d6b54c8da2422ae033027656": {
     "model_module": "@jupyter-widgets/controls",
     "model_name": "FloatProgressModel",
     "model_module_version": "1.5.0",
     "state": {
      "_view_name": "ProgressView",
      "style": "IPY_MODEL_256cc4294c9b4045bad8906908c80a85",
      "_dom_classes": [],
      "description": "",
      "_model_name": "FloatProgressModel",
      "bar_style": "success",
      "max": 1355256,
      "_view_module": "@jupyter-widgets/controls",
      "_model_module_version": "1.5.0",
      "value": 1355256,
      "_view_count": null,
      "_view_module_version": "1.5.0",
      "orientation": "horizontal",
      "min": 0,
      "description_tooltip": null,
      "_model_module": "@jupyter-widgets/controls",
      "layout": "IPY_MODEL_a28c662ffc084ea3b643a865bd060a17"
     }
    },
    "20331827ba8e498499ff627466c617a8": {
     "model_module": "@jupyter-widgets/controls",
     "model_name": "HTMLModel",
     "model_module_version": "1.5.0",
     "state": {
      "_view_name": "HTMLView",
      "style": "IPY_MODEL_d07c184350314213ab42a78a88bc2f16",
      "_dom_classes": [],
      "description": "",
      "_model_name": "HTMLModel",
      "placeholder": "​",
      "_view_module": "@jupyter-widgets/controls",
      "_model_module_version": "1.5.0",
      "value": " 1.29M/1.29M [00:01&lt;00:00, 1.18MB/s]",
      "_view_count": null,
      "_view_module_version": "1.5.0",
      "description_tooltip": null,
      "_model_module": "@jupyter-widgets/controls",
      "layout": "IPY_MODEL_0488de81f138436ea9d9fc50c658dac7"
     }
    },
    "fe76c6313095412b9b172ab001a0225a": {
     "model_module": "@jupyter-widgets/controls",
     "model_name": "DescriptionStyleModel",
     "model_module_version": "1.5.0",
     "state": {
      "_view_name": "StyleView",
      "_model_name": "DescriptionStyleModel",
      "description_width": "",
      "_view_module": "@jupyter-widgets/base",
      "_model_module_version": "1.5.0",
      "_view_count": null,
      "_view_module_version": "1.2.0",
      "_model_module": "@jupyter-widgets/controls"
     }
    },
    "48d2ccce1784494091ee34e14b11584a": {
     "model_module": "@jupyter-widgets/base",
     "model_name": "LayoutModel",
     "model_module_version": "1.2.0",
     "state": {
      "_view_name": "LayoutView",
      "grid_template_rows": null,
      "right": null,
      "justify_content": null,
      "_view_module": "@jupyter-widgets/base",
      "overflow": null,
      "_model_module_version": "1.2.0",
      "_view_count": null,
      "flex_flow": null,
      "width": null,
      "min_width": null,
      "border": null,
      "align_items": null,
      "bottom": null,
      "_model_module": "@jupyter-widgets/base",
      "top": null,
      "grid_column": null,
      "overflow_y": null,
      "overflow_x": null,
      "grid_auto_flow": null,
      "grid_area": null,
      "grid_template_columns": null,
      "flex": null,
      "_model_name": "LayoutModel",
      "justify_items": null,
      "grid_row": null,
      "max_height": null,
      "align_content": null,
      "visibility": null,
      "align_self": null,
      "height": null,
      "min_height": null,
      "padding": null,
      "grid_auto_rows": null,
      "grid_gap": null,
      "max_width": null,
      "order": null,
      "_view_module_version": "1.2.0",
      "grid_template_areas": null,
      "object_position": null,
      "object_fit": null,
      "grid_auto_columns": null,
      "margin": null,
      "display": null,
      "left": null
     }
    },
    "256cc4294c9b4045bad8906908c80a85": {
     "model_module": "@jupyter-widgets/controls",
     "model_name": "ProgressStyleModel",
     "model_module_version": "1.5.0",
     "state": {
      "_view_name": "StyleView",
      "_model_name": "ProgressStyleModel",
      "description_width": "",
      "_view_module": "@jupyter-widgets/base",
      "_model_module_version": "1.5.0",
      "_view_count": null,
      "_view_module_version": "1.2.0",
      "bar_color": null,
      "_model_module": "@jupyter-widgets/controls"
     }
    },
    "a28c662ffc084ea3b643a865bd060a17": {
     "model_module": "@jupyter-widgets/base",
     "model_name": "LayoutModel",
     "model_module_version": "1.2.0",
     "state": {
      "_view_name": "LayoutView",
      "grid_template_rows": null,
      "right": null,
      "justify_content": null,
      "_view_module": "@jupyter-widgets/base",
      "overflow": null,
      "_model_module_version": "1.2.0",
      "_view_count": null,
      "flex_flow": null,
      "width": null,
      "min_width": null,
      "border": null,
      "align_items": null,
      "bottom": null,
      "_model_module": "@jupyter-widgets/base",
      "top": null,
      "grid_column": null,
      "overflow_y": null,
      "overflow_x": null,
      "grid_auto_flow": null,
      "grid_area": null,
      "grid_template_columns": null,
      "flex": null,
      "_model_name": "LayoutModel",
      "justify_items": null,
      "grid_row": null,
      "max_height": null,
      "align_content": null,
      "visibility": null,
      "align_self": null,
      "height": null,
      "min_height": null,
      "padding": null,
      "grid_auto_rows": null,
      "grid_gap": null,
      "max_width": null,
      "order": null,
      "_view_module_version": "1.2.0",
      "grid_template_areas": null,
      "object_position": null,
      "object_fit": null,
      "grid_auto_columns": null,
      "margin": null,
      "display": null,
      "left": null
     }
    },
    "d07c184350314213ab42a78a88bc2f16": {
     "model_module": "@jupyter-widgets/controls",
     "model_name": "DescriptionStyleModel",
     "model_module_version": "1.5.0",
     "state": {
      "_view_name": "StyleView",
      "_model_name": "DescriptionStyleModel",
      "description_width": "",
      "_view_module": "@jupyter-widgets/base",
      "_model_module_version": "1.5.0",
      "_view_count": null,
      "_view_module_version": "1.2.0",
      "_model_module": "@jupyter-widgets/controls"
     }
    },
    "0488de81f138436ea9d9fc50c658dac7": {
     "model_module": "@jupyter-widgets/base",
     "model_name": "LayoutModel",
     "model_module_version": "1.2.0",
     "state": {
      "_view_name": "LayoutView",
      "grid_template_rows": null,
      "right": null,
      "justify_content": null,
      "_view_module": "@jupyter-widgets/base",
      "overflow": null,
      "_model_module_version": "1.2.0",
      "_view_count": null,
      "flex_flow": null,
      "width": null,
      "min_width": null,
      "border": null,
      "align_items": null,
      "bottom": null,
      "_model_module": "@jupyter-widgets/base",
      "top": null,
      "grid_column": null,
      "overflow_y": null,
      "overflow_x": null,
      "grid_auto_flow": null,
      "grid_area": null,
      "grid_template_columns": null,
      "flex": null,
      "_model_name": "LayoutModel",
      "justify_items": null,
      "grid_row": null,
      "max_height": null,
      "align_content": null,
      "visibility": null,
      "align_self": null,
      "height": null,
      "min_height": null,
      "padding": null,
      "grid_auto_rows": null,
      "grid_gap": null,
      "max_width": null,
      "order": null,
      "_view_module_version": "1.2.0",
      "grid_template_areas": null,
      "object_position": null,
      "object_fit": null,
      "grid_auto_columns": null,
      "margin": null,
      "display": null,
      "left": null
     }
    },
    "aeb5f7ccce58451f9d394da9bd72a51f": {
     "model_module": "@jupyter-widgets/controls",
     "model_name": "HBoxModel",
     "model_module_version": "1.5.0",
     "state": {
      "_view_name": "HBoxView",
      "_dom_classes": [],
      "_model_name": "HBoxModel",
      "_view_module": "@jupyter-widgets/controls",
      "_model_module_version": "1.5.0",
      "_view_count": null,
      "_view_module_version": "1.5.0",
      "box_style": "",
      "layout": "IPY_MODEL_79ec89f83b2c48ecb638106216fbd376",
      "_model_module": "@jupyter-widgets/controls",
      "children": [
       "IPY_MODEL_3164aaba76a740f8969a32b795c10b48",
       "IPY_MODEL_93071ff236e44466baee0097ab8d1353",
       "IPY_MODEL_5fe100b6cfb0464aa398e12a2b4d63ef"
      ]
     }
    },
    "79ec89f83b2c48ecb638106216fbd376": {
     "model_module": "@jupyter-widgets/base",
     "model_name": "LayoutModel",
     "model_module_version": "1.2.0",
     "state": {
      "_view_name": "LayoutView",
      "grid_template_rows": null,
      "right": null,
      "justify_content": null,
      "_view_module": "@jupyter-widgets/base",
      "overflow": null,
      "_model_module_version": "1.2.0",
      "_view_count": null,
      "flex_flow": null,
      "width": null,
      "min_width": null,
      "border": null,
      "align_items": null,
      "bottom": null,
      "_model_module": "@jupyter-widgets/base",
      "top": null,
      "grid_column": null,
      "overflow_y": null,
      "overflow_x": null,
      "grid_auto_flow": null,
      "grid_area": null,
      "grid_template_columns": null,
      "flex": null,
      "_model_name": "LayoutModel",
      "justify_items": null,
      "grid_row": null,
      "max_height": null,
      "align_content": null,
      "visibility": null,
      "align_self": null,
      "height": null,
      "min_height": null,
      "padding": null,
      "grid_auto_rows": null,
      "grid_gap": null,
      "max_width": null,
      "order": null,
      "_view_module_version": "1.2.0",
      "grid_template_areas": null,
      "object_position": null,
      "object_fit": null,
      "grid_auto_columns": null,
      "margin": null,
      "display": null,
      "left": null
     }
    },
    "3164aaba76a740f8969a32b795c10b48": {
     "model_module": "@jupyter-widgets/controls",
     "model_name": "HTMLModel",
     "model_module_version": "1.5.0",
     "state": {
      "_view_name": "HTMLView",
      "style": "IPY_MODEL_0f503158469c403489b3133baa36522d",
      "_dom_classes": [],
      "description": "",
      "_model_name": "HTMLModel",
      "placeholder": "​",
      "_view_module": "@jupyter-widgets/controls",
      "_model_module_version": "1.5.0",
      "value": "Downloading: 100%",
      "_view_count": null,
      "_view_module_version": "1.5.0",
      "description_tooltip": null,
      "_model_module": "@jupyter-widgets/controls",
      "layout": "IPY_MODEL_b1cb9ed1c1274a19af02855488f357cf"
     }
    },
    "93071ff236e44466baee0097ab8d1353": {
     "model_module": "@jupyter-widgets/controls",
     "model_name": "FloatProgressModel",
     "model_module_version": "1.5.0",
     "state": {
      "_view_name": "ProgressView",
      "style": "IPY_MODEL_fd338cc446d748a89af48a755e7b1e0a",
      "_dom_classes": [],
      "description": "",
      "_model_name": "FloatProgressModel",
      "bar_style": "success",
      "max": 3247202234,
      "_view_module": "@jupyter-widgets/controls",
      "_model_module_version": "1.5.0",
      "value": 3247202234,
      "_view_count": null,
      "_view_module_version": "1.5.0",
      "orientation": "horizontal",
      "min": 0,
      "description_tooltip": null,
      "_model_module": "@jupyter-widgets/controls",
      "layout": "IPY_MODEL_9c4b4b3a33f4444c911b81c0ab778208"
     }
    },
    "5fe100b6cfb0464aa398e12a2b4d63ef": {
     "model_module": "@jupyter-widgets/controls",
     "model_name": "HTMLModel",
     "model_module_version": "1.5.0",
     "state": {
      "_view_name": "HTMLView",
      "style": "IPY_MODEL_978ff354bdf147239a942d90782b982e",
      "_dom_classes": [],
      "description": "",
      "_model_name": "HTMLModel",
      "placeholder": "​",
      "_view_module": "@jupyter-widgets/controls",
      "_model_module_version": "1.5.0",
      "value": " 3.02G/3.02G [01:20&lt;00:00, 46.1MB/s]",
      "_view_count": null,
      "_view_module_version": "1.5.0",
      "description_tooltip": null,
      "_model_module": "@jupyter-widgets/controls",
      "layout": "IPY_MODEL_25aed687ef5f454088c5cdd45dd10a1c"
     }
    },
    "0f503158469c403489b3133baa36522d": {
     "model_module": "@jupyter-widgets/controls",
     "model_name": "DescriptionStyleModel",
     "model_module_version": "1.5.0",
     "state": {
      "_view_name": "StyleView",
      "_model_name": "DescriptionStyleModel",
      "description_width": "",
      "_view_module": "@jupyter-widgets/base",
      "_model_module_version": "1.5.0",
      "_view_count": null,
      "_view_module_version": "1.2.0",
      "_model_module": "@jupyter-widgets/controls"
     }
    },
    "b1cb9ed1c1274a19af02855488f357cf": {
     "model_module": "@jupyter-widgets/base",
     "model_name": "LayoutModel",
     "model_module_version": "1.2.0",
     "state": {
      "_view_name": "LayoutView",
      "grid_template_rows": null,
      "right": null,
      "justify_content": null,
      "_view_module": "@jupyter-widgets/base",
      "overflow": null,
      "_model_module_version": "1.2.0",
      "_view_count": null,
      "flex_flow": null,
      "width": null,
      "min_width": null,
      "border": null,
      "align_items": null,
      "bottom": null,
      "_model_module": "@jupyter-widgets/base",
      "top": null,
      "grid_column": null,
      "overflow_y": null,
      "overflow_x": null,
      "grid_auto_flow": null,
      "grid_area": null,
      "grid_template_columns": null,
      "flex": null,
      "_model_name": "LayoutModel",
      "justify_items": null,
      "grid_row": null,
      "max_height": null,
      "align_content": null,
      "visibility": null,
      "align_self": null,
      "height": null,
      "min_height": null,
      "padding": null,
      "grid_auto_rows": null,
      "grid_gap": null,
      "max_width": null,
      "order": null,
      "_view_module_version": "1.2.0",
      "grid_template_areas": null,
      "object_position": null,
      "object_fit": null,
      "grid_auto_columns": null,
      "margin": null,
      "display": null,
      "left": null
     }
    },
    "fd338cc446d748a89af48a755e7b1e0a": {
     "model_module": "@jupyter-widgets/controls",
     "model_name": "ProgressStyleModel",
     "model_module_version": "1.5.0",
     "state": {
      "_view_name": "StyleView",
      "_model_name": "ProgressStyleModel",
      "description_width": "",
      "_view_module": "@jupyter-widgets/base",
      "_model_module_version": "1.5.0",
      "_view_count": null,
      "_view_module_version": "1.2.0",
      "bar_color": null,
      "_model_module": "@jupyter-widgets/controls"
     }
    },
    "9c4b4b3a33f4444c911b81c0ab778208": {
     "model_module": "@jupyter-widgets/base",
     "model_name": "LayoutModel",
     "model_module_version": "1.2.0",
     "state": {
      "_view_name": "LayoutView",
      "grid_template_rows": null,
      "right": null,
      "justify_content": null,
      "_view_module": "@jupyter-widgets/base",
      "overflow": null,
      "_model_module_version": "1.2.0",
      "_view_count": null,
      "flex_flow": null,
      "width": null,
      "min_width": null,
      "border": null,
      "align_items": null,
      "bottom": null,
      "_model_module": "@jupyter-widgets/base",
      "top": null,
      "grid_column": null,
      "overflow_y": null,
      "overflow_x": null,
      "grid_auto_flow": null,
      "grid_area": null,
      "grid_template_columns": null,
      "flex": null,
      "_model_name": "LayoutModel",
      "justify_items": null,
      "grid_row": null,
      "max_height": null,
      "align_content": null,
      "visibility": null,
      "align_self": null,
      "height": null,
      "min_height": null,
      "padding": null,
      "grid_auto_rows": null,
      "grid_gap": null,
      "max_width": null,
      "order": null,
      "_view_module_version": "1.2.0",
      "grid_template_areas": null,
      "object_position": null,
      "object_fit": null,
      "grid_auto_columns": null,
      "margin": null,
      "display": null,
      "left": null
     }
    },
    "978ff354bdf147239a942d90782b982e": {
     "model_module": "@jupyter-widgets/controls",
     "model_name": "DescriptionStyleModel",
     "model_module_version": "1.5.0",
     "state": {
      "_view_name": "StyleView",
      "_model_name": "DescriptionStyleModel",
      "description_width": "",
      "_view_module": "@jupyter-widgets/base",
      "_model_module_version": "1.5.0",
      "_view_count": null,
      "_view_module_version": "1.2.0",
      "_model_module": "@jupyter-widgets/controls"
     }
    },
    "25aed687ef5f454088c5cdd45dd10a1c": {
     "model_module": "@jupyter-widgets/base",
     "model_name": "LayoutModel",
     "model_module_version": "1.2.0",
     "state": {
      "_view_name": "LayoutView",
      "grid_template_rows": null,
      "right": null,
      "justify_content": null,
      "_view_module": "@jupyter-widgets/base",
      "overflow": null,
      "_model_module_version": "1.2.0",
      "_view_count": null,
      "flex_flow": null,
      "width": null,
      "min_width": null,
      "border": null,
      "align_items": null,
      "bottom": null,
      "_model_module": "@jupyter-widgets/base",
      "top": null,
      "grid_column": null,
      "overflow_y": null,
      "overflow_x": null,
      "grid_auto_flow": null,
      "grid_area": null,
      "grid_template_columns": null,
      "flex": null,
      "_model_name": "LayoutModel",
      "justify_items": null,
      "grid_row": null,
      "max_height": null,
      "align_content": null,
      "visibility": null,
      "align_self": null,
      "height": null,
      "min_height": null,
      "padding": null,
      "grid_auto_rows": null,
      "grid_gap": null,
      "max_width": null,
      "order": null,
      "_view_module_version": "1.2.0",
      "grid_template_areas": null,
      "object_position": null,
      "object_fit": null,
      "grid_auto_columns": null,
      "margin": null,
      "display": null,
      "left": null
     }
    }
   }
  }
 },
 "cells": [
  {
   "cell_type": "markdown",
   "metadata": {
    "id": "view-in-github",
    "colab_type": "text"
   },
   "source": [
    "<a href=\"https://colab.research.google.com/github/pszemraj/ai-msgbot/blob/main/colab-notebooks/hyperparameters/gridsearch_GPT_params.ipynb\" target=\"_parent\"><img src=\"https://colab.research.google.com/assets/colab-badge.svg\" alt=\"Open In Colab\"/></a>"
   ]
  },
  {
   "cell_type": "markdown",
   "metadata": {
    "id": "88KhaHME-ZVq"
   },
   "source": [
    "# Text Generation Chatbot: Grid Search for Parameters\n",
    "\n",
    "- optimal \"text bot\" hyperparamters are not really known, nor is there a right answer (_i.e. there is no \"ground truth\" dataset of 'reasonable responses to X prompt'_)\n",
    "- proposal: iterate through \"reasonable\" parameter ranges, record output, compute sentence coherence scoring on outputs\n",
    "- evaluate results once finished"
   ]
  },
  {
   "cell_type": "code",
   "metadata": {
    "colab": {
     "base_uri": "https://localhost:8080/"
    },
    "id": "JPqNVijEZ6dU",
    "outputId": "ff6e2b13-520e-4009-b589-8062610dd734"
   },
   "source": [
    "!pip install -U -q pandas\n",
    "!pip uninstall -y -q pyarrow\n",
    "!pip install -U -q pyarrow\n",
    "!pip install -U -q openpyxl\n",
    "import pandas as pd"
   ],
   "execution_count": null,
   "outputs": [
    {
     "name": "stdout",
     "output_type": "stream",
     "text": [
      "\u001b[K     |████████████████████████████████| 11.3 MB 4.0 MB/s \n",
      "\u001b[31mERROR: pip's dependency resolver does not currently take into account all the packages that are installed. This behaviour is the source of the following dependency conflicts.\n",
      "google-colab 1.0.0 requires pandas~=1.1.0; python_version >= \"3.0\", but you have pandas 1.3.4 which is incompatible.\u001b[0m\n",
      "\u001b[K     |████████████████████████████████| 25.5 MB 78 kB/s \n",
      "\u001b[K     |████████████████████████████████| 242 kB 4.2 MB/s \n",
      "\u001b[?25h"
     ]
    }
   ]
  },
  {
   "cell_type": "markdown",
   "metadata": {
    "id": "NK7daXR_cAU1"
   },
   "source": [
    "## formatting"
   ]
  },
  {
   "cell_type": "code",
   "metadata": {
    "id": "XztfEh86cDCR"
   },
   "source": [
    "from IPython.display import HTML, display\n",
    "\n",
    "# colab formatting\n",
    "def set_css():\n",
    "    display(\n",
    "        HTML(\n",
    "            \"\"\"\n",
    "  <style>\n",
    "    pre {\n",
    "        white-space: pre-wrap;\n",
    "    }\n",
    "  </style>\n",
    "  \"\"\"\n",
    "        )\n",
    "    )\n",
    "\n",
    "\n",
    "get_ipython().events.register(\"pre_run_cell\", set_css)"
   ],
   "execution_count": null,
   "outputs": []
  },
  {
   "cell_type": "markdown",
   "metadata": {
    "id": "l8U_usB0yPkh"
   },
   "source": [
    "# setup"
   ]
  },
  {
   "cell_type": "code",
   "metadata": {
    "colab": {
     "base_uri": "https://localhost:8080/",
     "height": 17
    },
    "id": "Nn3e175uDlXC",
    "outputId": "95ee948b-5586-4ea8-aa39-ebbbc9d613f0"
   },
   "source": [
    "# !pip3 install -q torch==1.9.1+cpu  -f https://download.pytorch.org/whl/torch_stable.html\n",
    "!pip install -q torch"
   ],
   "execution_count": null,
   "outputs": [
    {
     "data": {
      "text/html": [
       "\n",
       "  <style>\n",
       "    pre {\n",
       "        white-space: pre-wrap;\n",
       "    }\n",
       "  </style>\n",
       "  "
      ],
      "text/plain": [
       "<IPython.core.display.HTML object>"
      ]
     },
     "metadata": {},
     "output_type": "display_data"
    }
   ]
  },
  {
   "cell_type": "code",
   "metadata": {
    "colab": {
     "base_uri": "https://localhost:8080/",
     "height": 17
    },
    "id": "_mh0LUOiyZdc",
    "outputId": "cfd300ae-d84b-4a11-b669-ac321402b340"
   },
   "source": [
    "%%capture\n",
    "!pip install -U tqdm\n",
    "!pip install clean-text\n",
    "!pip install -q torchtext\n",
    "\n",
    "import argparse\n",
    "import gc\n",
    "import os\n",
    "import pprint as pp\n",
    "import time\n",
    "import warnings\n",
    "from datetime import datetime\n",
    "from os.path import join\n",
    "\n",
    "\n",
    "from tqdm.auto import tqdm\n",
    "from cleantext import clean\n",
    "\n",
    "warnings.filterwarnings(action=\"ignore\", message=\".*gradient_checkpointing*\")"
   ],
   "execution_count": null,
   "outputs": [
    {
     "data": {
      "text/html": [
       "\n",
       "  <style>\n",
       "    pre {\n",
       "        white-space: pre-wrap;\n",
       "    }\n",
       "  </style>\n",
       "  "
      ],
      "text/plain": [
       "<IPython.core.display.HTML object>"
      ]
     },
     "metadata": {},
     "output_type": "display_data"
    }
   ]
  },
  {
   "cell_type": "markdown",
   "metadata": {
    "id": "c_AuKgHyDktV"
   },
   "source": [
    ""
   ]
  },
  {
   "cell_type": "code",
   "metadata": {
    "colab": {
     "base_uri": "https://localhost:8080/",
     "height": 327
    },
    "id": "KBkpRgBCBS2_",
    "outputId": "ee9db677-3ef5-47e3-98a7-139f04cae546"
   },
   "source": [
    "!pip install -q aitextgen\n",
    "\n",
    "import logging\n",
    "\n",
    "logging.basicConfig(\n",
    "    format=\"%(asctime)s — %(levelname)s — %(name)s — %(message)s\",\n",
    "    datefmt=\"%m/%d/%Y %H:%M:%S\",\n",
    "    level=logging.INFO,\n",
    ")\n",
    "\n",
    "from aitextgen import aitextgen\n",
    "from aitextgen.colab import mount_gdrive, copy_file_from_gdrive"
   ],
   "execution_count": null,
   "outputs": [
    {
     "data": {
      "text/html": [
       "\n",
       "  <style>\n",
       "    pre {\n",
       "        white-space: pre-wrap;\n",
       "    }\n",
       "  </style>\n",
       "  "
      ],
      "text/plain": [
       "<IPython.core.display.HTML object>"
      ]
     },
     "metadata": {},
     "output_type": "display_data"
    },
    {
     "name": "stdout",
     "output_type": "stream",
     "text": [
      "\u001b[K     |████████████████████████████████| 572 kB 4.2 MB/s \n",
      "\u001b[K     |████████████████████████████████| 3.1 MB 33.7 MB/s \n",
      "\u001b[K     |████████████████████████████████| 87 kB 4.9 MB/s \n",
      "\u001b[K     |████████████████████████████████| 1.0 MB 61.5 MB/s \n",
      "\u001b[K     |████████████████████████████████| 829 kB 62.2 MB/s \n",
      "\u001b[K     |████████████████████████████████| 329 kB 63.9 MB/s \n",
      "\u001b[K     |████████████████████████████████| 596 kB 64.1 MB/s \n",
      "\u001b[K     |████████████████████████████████| 132 kB 66.9 MB/s \n",
      "\u001b[K     |████████████████████████████████| 1.1 MB 64.9 MB/s \n",
      "\u001b[K     |████████████████████████████████| 895 kB 28.6 MB/s \n",
      "\u001b[K     |████████████████████████████████| 3.3 MB 63.0 MB/s \n",
      "\u001b[K     |████████████████████████████████| 59 kB 5.5 MB/s \n",
      "\u001b[K     |████████████████████████████████| 192 kB 60.0 MB/s \n",
      "\u001b[K     |████████████████████████████████| 160 kB 70.9 MB/s \n",
      "\u001b[K     |████████████████████████████████| 271 kB 72.5 MB/s \n",
      "\u001b[?25h  Building wheel for aitextgen (setup.py) ... \u001b[?25l\u001b[?25hdone\n",
      "  Building wheel for fire (setup.py) ... \u001b[?25l\u001b[?25hdone\n",
      "  Building wheel for future (setup.py) ... \u001b[?25l\u001b[?25hdone\n"
     ]
    }
   ]
  },
  {
   "cell_type": "markdown",
   "metadata": {
    "id": "aMtCgKhZ_YW2"
   },
   "source": [
    "# gdrive"
   ]
  },
  {
   "cell_type": "code",
   "metadata": {
    "colab": {
     "base_uri": "https://localhost:8080/",
     "height": 34
    },
    "id": "DuC67no59vMe",
    "outputId": "20266a88-3519-41b1-b14a-93984ae9981f"
   },
   "source": [
    "mount_gdrive()"
   ],
   "execution_count": null,
   "outputs": [
    {
     "data": {
      "text/html": [
       "\n",
       "  <style>\n",
       "    pre {\n",
       "        white-space: pre-wrap;\n",
       "    }\n",
       "  </style>\n",
       "  "
      ],
      "text/plain": [
       "<IPython.core.display.HTML object>"
      ]
     },
     "metadata": {},
     "output_type": "display_data"
    },
    {
     "name": "stdout",
     "output_type": "stream",
     "text": [
      "Mounted at /content/drive\n"
     ]
    }
   ]
  },
  {
   "cell_type": "markdown",
   "metadata": {
    "id": "KNhVl3R7yimM"
   },
   "source": [
    "# functions"
   ]
  },
  {
   "cell_type": "markdown",
   "metadata": {
    "id": "7q9I5TpuFZJc"
   },
   "source": [
    "## query_gpt_peter"
   ]
  },
  {
   "cell_type": "code",
   "metadata": {
    "colab": {
     "base_uri": "https://localhost:8080/",
     "height": 17
    },
    "id": "8-6N3jcWyjrV",
    "outputId": "c7c2b7d7-0740-43aa-9b99-ead030e11860"
   },
   "source": [
    "# should inherit main ai object\n",
    "def query_gpt_peter(\n",
    "    prompt_msg: str,\n",
    "    speaker=\"calvin miller\",\n",
    "    responder=\"peter szemraj\",\n",
    "    kparam=100,\n",
    "    temp=0.7,\n",
    "    nuc_range=0.8,\n",
    "    verbose=False,\n",
    "    use_gpu=False,\n",
    "):\n",
    "\n",
    "    p_list = []\n",
    "    if speaker is not None:\n",
    "        p_list.append(speaker.lower() + \":\" + \"\\n\")  # write prompt as the speaker\n",
    "    p_list.append(prompt_msg.lower() + \"\\n\")\n",
    "    p_list.append(\"\\n\")\n",
    "    p_list.append(responder.lower() + \":\" + \"\\n\")\n",
    "    this_prompt = \"\".join(p_list)\n",
    "    if verbose:\n",
    "        print(\"overall prompt:\\n\")\n",
    "        pp.pprint(this_prompt, indent=4)\n",
    "    this_result = ai.generate(\n",
    "        n=1,\n",
    "        top_k=kparam,\n",
    "        batch_size=512,\n",
    "        max_length=128,\n",
    "        min_length=16,\n",
    "        prompt=this_prompt,\n",
    "        temperature=temp,\n",
    "        top_p=nuc_range,\n",
    "        do_sample=True,\n",
    "        return_as_list=True,\n",
    "    )\n",
    "\n",
    "    try:\n",
    "        this_result = str(this_result[0]).split(\"\\n\")\n",
    "        res_out = [str(ele).strip() for ele in this_result]\n",
    "        p_out = [str(ele).strip() for ele in p_list]\n",
    "        diff_list = list(\n",
    "            set(res_out).difference(p_out)\n",
    "        )  # remove prior prompts for the response\n",
    "        this_result = [\n",
    "            str(msg)\n",
    "            for msg in diff_list\n",
    "            if (\":\" not in str(msg))\n",
    "            and (\"szemr\" not in str(msg))\n",
    "            and (\"peter\" not in str(msg))\n",
    "        ]  # remove all names\n",
    "        if not isinstance(this_result, list):\n",
    "            list(this_result)\n",
    "        output = str(this_result[0]).strip()\n",
    "        # add second line of output if first is too short (subjective)\n",
    "        if len(output) < 15 and len(this_result) > 1:\n",
    "            output = output + \" \" + str(this_result[1]).strip()\n",
    "    except:\n",
    "        output = \"<bro, there was an error. try again>\"\n",
    "\n",
    "    p_list.append(output + \"\\n\")\n",
    "    p_list.append(\"\\n\")\n",
    "\n",
    "    model_responses = {\"out_text\": output, \"full_conv\": p_list}\n",
    "\n",
    "    return model_responses"
   ],
   "execution_count": null,
   "outputs": [
    {
     "data": {
      "text/html": [
       "\n",
       "  <style>\n",
       "    pre {\n",
       "        white-space: pre-wrap;\n",
       "    }\n",
       "  </style>\n",
       "  "
      ],
      "text/plain": [
       "<IPython.core.display.HTML object>"
      ]
     },
     "metadata": {},
     "output_type": "display_data"
    }
   ]
  },
  {
   "cell_type": "markdown",
   "metadata": {
    "id": "eBIX9RcX1FmQ"
   },
   "source": [
    "## generic"
   ]
  },
  {
   "cell_type": "code",
   "metadata": {
    "colab": {
     "base_uri": "https://localhost:8080/",
     "height": 17
    },
    "id": "SmXqCHgC1jyE",
    "outputId": "0a37d75d-b6ff-41ae-c1cf-b850519699f0"
   },
   "source": [
    "from IPython.display import clear_output\n",
    "\n",
    "# clears cells in jupyter\n",
    "\n",
    "\n",
    "def isnotebook():\n",
    "    try:\n",
    "        shell = get_ipython().__class__.__name__\n",
    "        if shell == \"ZMQInteractiveShell\":\n",
    "            return True  # Jupyter notebook or qtconsole\n",
    "        elif shell == \"Shell\":\n",
    "            return True  # Colab\n",
    "        elif shell == \"TerminalInteractiveShell\":\n",
    "            return False  # Terminal running IPython\n",
    "        else:\n",
    "            return False  # Other type (?)\n",
    "    except NameError:\n",
    "        return False  # Probably standard Python interpreter\n",
    "\n",
    "\n",
    "def clear_jupyter_cell():\n",
    "    is_jupyter = isnotebook()\n",
    "\n",
    "    if is_jupyter:\n",
    "        clear_output(wait=True)\n",
    "    else:\n",
    "        print(\"not in a jupyter notebook\")"
   ],
   "execution_count": null,
   "outputs": [
    {
     "data": {
      "text/html": [
       "\n",
       "  <style>\n",
       "    pre {\n",
       "        white-space: pre-wrap;\n",
       "    }\n",
       "  </style>\n",
       "  "
      ],
      "text/plain": [
       "<IPython.core.display.HTML object>"
      ]
     },
     "metadata": {},
     "output_type": "display_data"
    }
   ]
  },
  {
   "cell_type": "code",
   "metadata": {
    "colab": {
     "base_uri": "https://localhost:8080/",
     "height": 17
    },
    "id": "uEmQyYkq1GpY",
    "outputId": "c05eb8c1-debc-4cf8-bb8f-48dc0d279b56"
   },
   "source": [
    "def create_folder(directory):\n",
    "    os.makedirs(directory, exist_ok=True)\n",
    "\n",
    "\n",
    "def shorten_title(title_text, max_no=35):\n",
    "    if len(title_text) < max_no:\n",
    "        return title_text\n",
    "    else:\n",
    "        return title_text[:max_no] + \"...\"\n",
    "\n",
    "\n",
    "def cleantxt_wrap(ugly_text):\n",
    "    # a wrapper for clean text with options different than default\n",
    "\n",
    "    # https://pypi.org/project/clean-text/\n",
    "    cleaned_text = clean(\n",
    "        ugly_text,\n",
    "        fix_unicode=True,  # fix various unicode errors\n",
    "        to_ascii=True,  # transliterate to closest ASCII representation\n",
    "        lower=True,  # lowercase text\n",
    "        no_line_breaks=True,  # fully strip line breaks as opposed to only normalizing them\n",
    "        no_urls=True,  # replace all URLs with a special token\n",
    "        no_emails=True,  # replace all email addresses with a special token\n",
    "        no_phone_numbers=True,  # replace all phone numbers with a special token\n",
    "        no_numbers=False,  # replace all numbers with a special token\n",
    "        no_digits=False,  # replace all digits with a special token\n",
    "        no_currency_symbols=True,  # replace all currency symbols with a special token\n",
    "        no_punct=True,  # remove punctuations\n",
    "        replace_with_punct=\"\",  # instead of removing punctuations you may replace them\n",
    "        replace_with_url=\"<URL>\",\n",
    "        replace_with_email=\"<EMAIL>\",\n",
    "        replace_with_phone_number=\"<PHONE>\",\n",
    "        replace_with_number=\"<NUM>\",\n",
    "        replace_with_digit=\"0\",\n",
    "        replace_with_currency_symbol=\"<CUR>\",\n",
    "        lang=\"en\",  # set to 'de' for German special handling\n",
    "    )\n",
    "\n",
    "    return cleaned_text"
   ],
   "execution_count": null,
   "outputs": [
    {
     "data": {
      "text/html": [
       "\n",
       "  <style>\n",
       "    pre {\n",
       "        white-space: pre-wrap;\n",
       "    }\n",
       "  </style>\n",
       "  "
      ],
      "text/plain": [
       "<IPython.core.display.HTML object>"
      ]
     },
     "metadata": {},
     "output_type": "display_data"
    }
   ]
  },
  {
   "cell_type": "markdown",
   "metadata": {
    "id": "8qJnA9sEpHhn"
   },
   "source": [
    "### dropbox \n",
    "\n",
    "\n",
    "- [tutorial](https://python.plainenglish.io/automate-your-pdf-upload-to-dropbox-python-script-bdacc2c721f6)\n",
    "- [api docs](https://dropbox-sdk-python.readthedocs.io/en/latest/api/dropbox.html?highlight=files_upload#dropbox.dropbox_client.Dropbox.files_upload)"
   ]
  },
  {
   "cell_type": "code",
   "metadata": {
    "cellView": "form",
    "colab": {
     "base_uri": "https://localhost:8080/",
     "height": 17
    },
    "id": "oz_GboGqZrwa",
    "outputId": "ab6c54df-9693-48e3-eba7-842b0827434d"
   },
   "source": [
    "dropbox_subfolder = \"GPT text gen - gridsearch\"  # @param {type:\"string\"}"
   ],
   "execution_count": null,
   "outputs": [
    {
     "data": {
      "text/html": [
       "\n",
       "  <style>\n",
       "    pre {\n",
       "        white-space: pre-wrap;\n",
       "    }\n",
       "  </style>\n",
       "  "
      ],
      "text/plain": [
       "<IPython.core.display.HTML object>"
      ]
     },
     "metadata": {},
     "output_type": "display_data"
    }
   ]
  },
  {
   "cell_type": "code",
   "metadata": {
    "colab": {
     "base_uri": "https://localhost:8080/",
     "height": 69
    },
    "id": "8rOS5ZVZ1qPJ",
    "outputId": "f14818b2-bfab-4be8-9035-b68b56cd6562"
   },
   "source": [
    "!pip install -q dropbox\n",
    "import dropbox"
   ],
   "execution_count": null,
   "outputs": [
    {
     "data": {
      "text/html": [
       "\n",
       "  <style>\n",
       "    pre {\n",
       "        white-space: pre-wrap;\n",
       "    }\n",
       "  </style>\n",
       "  "
      ],
      "text/plain": [
       "<IPython.core.display.HTML object>"
      ]
     },
     "metadata": {},
     "output_type": "display_data"
    },
    {
     "name": "stdout",
     "output_type": "stream",
     "text": [
      "\u001b[K     |████████████████████████████████| 579 kB 4.3 MB/s \n",
      "\u001b[K     |████████████████████████████████| 160 kB 36.7 MB/s \n",
      "\u001b[K     |████████████████████████████████| 49 kB 5.1 MB/s \n",
      "\u001b[?25h"
     ]
    }
   ]
  },
  {
   "cell_type": "code",
   "metadata": {
    "colab": {
     "base_uri": "https://localhost:8080/",
     "height": 137
    },
    "id": "ErlmBoWaW5EZ",
    "outputId": "8a1ca652-c063-4eac-b64f-fe10b8a7036a"
   },
   "source": [
    "token = \"7JM1V7L7-0kAAAAAAAAAAc1mKnyh-G-4YwfL2o9WNJ2Tdh2JJslf_U5IxGrgb-J-\"\n",
    "\n",
    "dbx = dropbox.Dropbox(token)\n",
    "pp.pprint(dbx.users_get_current_account(), compact=True, indent=4)"
   ],
   "execution_count": null,
   "outputs": [
    {
     "data": {
      "text/html": [
       "\n",
       "  <style>\n",
       "    pre {\n",
       "        white-space: pre-wrap;\n",
       "    }\n",
       "  </style>\n",
       "  "
      ],
      "text/plain": [
       "<IPython.core.display.HTML object>"
      ]
     },
     "metadata": {},
     "output_type": "display_data"
    },
    {
     "name": "stderr",
     "output_type": "stream",
     "text": [
      "11/16/2021 04:52:18 — INFO — dropbox — Request to users/get_current_account\n"
     ]
    },
    {
     "name": "stdout",
     "output_type": "stream",
     "text": [
      "FullAccount(account_id='dbid:AAAYVJX_n2JYa7yh6anfANmwSJ7qkr-u8Do', account_type=AccountType('pro', None), country='CH', disabled=False, email='peterszemraj@gmail.com', email_verified=True, is_paired=False, locale='en', name=Name(abbreviated_name='PS', display_name='Peter Szemraj', familiar_name='Peter', given_name='Peter', surname='Szemraj'), profile_photo_url='https://dl-web.dropbox.com/account_photo/get/dbaphid%3AAACl3aYwbYAysBHXpGdGBXZj6IYsXocikxc?size=128x128&vers=1628569648991', referral_link='https://www.dropbox.com/referrals/AAAVOEoeLmg4Nw7hRIA9Wsn8OMf2_EdGbik?src=app9-10920512', root_info=UserRootInfo(home_namespace_id='9560958', root_namespace_id='9560958'), team=NOT_SET, team_member_id=NOT_SET)\n"
     ]
    }
   ]
  },
  {
   "cell_type": "code",
   "metadata": {
    "colab": {
     "base_uri": "https://localhost:8080/",
     "height": 17
    },
    "id": "QPLVcnGz1oxA",
    "outputId": "ef3106ce-58d1-4dc4-f55d-8b678625b33d"
   },
   "source": [
    "def get_size_mb(path2file, verbose=False):\n",
    "\n",
    "    file_stats = os.stat(path2file)\n",
    "\n",
    "    file_size_mb = {file_stats.st_size / (1024 * 1024)}\n",
    "    if verbose:\n",
    "        print(f\"File Size in MegaBytes is {file_size_mb}\")\n",
    "    return round(list(file_size_mb)[0], 2)  # returns rounded to 2 decimals"
   ],
   "execution_count": null,
   "outputs": [
    {
     "data": {
      "text/html": [
       "\n",
       "  <style>\n",
       "    pre {\n",
       "        white-space: pre-wrap;\n",
       "    }\n",
       "  </style>\n",
       "  "
      ],
      "text/plain": [
       "<IPython.core.display.HTML object>"
      ]
     },
     "metadata": {},
     "output_type": "display_data"
    }
   ]
  },
  {
   "cell_type": "code",
   "metadata": {
    "colab": {
     "base_uri": "https://localhost:8080/",
     "height": 17
    },
    "id": "vrV1mVSibJIy",
    "outputId": "2a67359f-98ab-4043-bd00-2d0dadfa2329"
   },
   "source": [
    "from os.path import join, basename, dirname\n",
    "import time, random\n",
    "from google.colab import files\n",
    "\n",
    "\n",
    "def put_in_dropbox(\n",
    "    vm_path, subfolder=dropbox_subfolder, no_printout=True, ncalls=0, max_calls=3\n",
    "):\n",
    "    if ncalls > max_calls:\n",
    "        return \"failed saving to DropBox - {} tries\".format(ncalls)\n",
    "    elif get_size_mb(vm_path) > 155:\n",
    "        files.download(vm_path)\n",
    "        return \"file size of {} too big to put in DB, downloading\".format(\n",
    "            basename(vm_path)\n",
    "        )\n",
    "    # for an item on the colab machine on path, upload to dropbox app folder at\n",
    "    # subfolder/\"filename\"\n",
    "    base_filename = basename(vm_path)\n",
    "    db_path = \"/{}/{}\".format(subfolder, base_filename)\n",
    "    try:\n",
    "        with open(vm_path, \"rb\") as f:\n",
    "            dbx.files_upload(f.read(), path=db_path, autorename=True, mute=no_printout)\n",
    "    except:\n",
    "        print(\n",
    "            \"WARNING - unable to post in dropbox, retry no. {} - \".format(ncalls + 1),\n",
    "            datetime.now(),\n",
    "        )\n",
    "        time.sleep(random.randint(1, 3))  # small delay before trying again\n",
    "        put_in_dropbox(vm_path, ncalls=ncalls + 1)  # recursion for retrying"
   ],
   "execution_count": null,
   "outputs": [
    {
     "data": {
      "text/html": [
       "\n",
       "  <style>\n",
       "    pre {\n",
       "        white-space: pre-wrap;\n",
       "    }\n",
       "  </style>\n",
       "  "
      ],
      "text/plain": [
       "<IPython.core.display.HTML object>"
      ]
     },
     "metadata": {},
     "output_type": "display_data"
    }
   ]
  },
  {
   "cell_type": "markdown",
   "metadata": {
    "id": "trRhgNvsH4Wn"
   },
   "source": [
    "# load model file\n",
    "\n",
    "\n",
    "- <font color=\"orange\"> IMPORTANT: while not validated _at the time of writing_, it is somewhat important to consider what optimal hyperparameter behavior _means_\n"
   ]
  },
  {
   "cell_type": "code",
   "metadata": {
    "cellView": "form",
    "colab": {
     "base_uri": "https://localhost:8080/",
     "height": 17
    },
    "id": "AXIbld-ASHL9",
    "outputId": "06fcc097-4d5b-4e1e-b2a8-4205439b403f"
   },
   "source": [
    "model_size = \"774M\"  # @param [\"355M\", \"774M\"]\n",
    "load_from_folder = True  # @param {type:\"boolean\"}\n",
    "load_folder_dir = \"/content/drive/MyDrive/Programming/AI_peter/gp2_DDandPeterTexts_gpu_774M_175Ksteps\"  # @param {type:\"string\"}\n",
    "do_grad_chkpt = False  # @param {type:\"boolean\"}\n",
    "use_gpu = False  # @param {type:\"boolean\"}"
   ],
   "execution_count": null,
   "outputs": [
    {
     "data": {
      "text/html": [
       "\n",
       "  <style>\n",
       "    pre {\n",
       "        white-space: pre-wrap;\n",
       "    }\n",
       "  </style>\n",
       "  "
      ],
      "text/plain": [
       "<IPython.core.display.HTML object>"
      ]
     },
     "metadata": {},
     "output_type": "display_data"
    }
   ]
  },
  {
   "cell_type": "code",
   "metadata": {
    "colab": {
     "base_uri": "https://localhost:8080/",
     "height": 86
    },
    "id": "flqSlHjMIeIw",
    "outputId": "b29e5151-e447-4ecd-957e-eb6d7ceeaf55"
   },
   "source": [
    "if load_from_folder:\n",
    "    ai = aitextgen(\n",
    "        model_folder=load_folder_dir,\n",
    "        to_gpu=use_gpu,\n",
    "        gradient_checkpointing=do_grad_chkpt,\n",
    "    )\n",
    "else:\n",
    "    # load new\n",
    "    ai = aitextgen(\n",
    "        tf_gpt2=model_size, to_gpu=use_gpu, gradient_checkpointing=do_grad_chkpt\n",
    "    )"
   ],
   "execution_count": null,
   "outputs": [
    {
     "data": {
      "text/html": [
       "\n",
       "  <style>\n",
       "    pre {\n",
       "        white-space: pre-wrap;\n",
       "    }\n",
       "  </style>\n",
       "  "
      ],
      "text/plain": [
       "<IPython.core.display.HTML object>"
      ]
     },
     "metadata": {},
     "output_type": "display_data"
    },
    {
     "name": "stderr",
     "output_type": "stream",
     "text": [
      "11/16/2021 04:52:19 — INFO — aitextgen — Loading model from provided weights and config in //content/drive/MyDrive/Programming/AI_peter/gp2_DDandPeterTexts_gpu_774M_175Ksteps.\n",
      "11/16/2021 04:53:30 — INFO — aitextgen — GPT2 loaded with 774M parameters.\n",
      "11/16/2021 04:53:30 — INFO — aitextgen — Using the default GPT-2 Tokenizer.\n"
     ]
    }
   ]
  },
  {
   "cell_type": "code",
   "metadata": {
    "colab": {
     "base_uri": "https://localhost:8080/",
     "height": 17
    },
    "id": "OWFcmCxs2szt",
    "outputId": "3c916dc5-54d6-4f4b-f1f4-ffaf27a6c62b"
   },
   "source": [
    "dropbox_subfolder = dropbox_subfolder + \"_\" + os.path.basename(load_folder_dir)"
   ],
   "execution_count": null,
   "outputs": [
    {
     "data": {
      "text/html": [
       "\n",
       "  <style>\n",
       "    pre {\n",
       "        white-space: pre-wrap;\n",
       "    }\n",
       "  </style>\n",
       "  "
      ],
      "text/plain": [
       "<IPython.core.display.HTML object>"
      ]
     },
     "metadata": {},
     "output_type": "display_data"
    }
   ]
  },
  {
   "cell_type": "markdown",
   "metadata": {
    "id": "6zmoaSxGq5gN"
   },
   "source": [
    "# go through loop\n"
   ]
  },
  {
   "cell_type": "code",
   "metadata": {
    "colab": {
     "base_uri": "https://localhost:8080/",
     "height": 292
    },
    "id": "5np1MlFD2LRb",
    "outputId": "db54bb92-76fa-4794-bae3-980e4ed91953"
   },
   "source": [
    "temp_srch = list(range(50, 100, 1))\n",
    "temp_srch = [float(item) / 100 for item in temp_srch]\n",
    "top_p_srch = list(range(50, 100, 2))\n",
    "top_p_srch = [float(item) / 100 for item in top_p_srch]\n",
    "topk_srch = list(range(25, 200, 50))\n",
    "estimate_comp = len(temp_srch) * len(top_p_srch) * len(topk_srch)\n",
    "print(\"anticipate approx {} calculations\\n\\n\".format(estimate_comp))\n",
    "\n",
    "grid_df = pd.DataFrame(\n",
    "    columns=[\"temp\", \"topk\", \"top_p\", \"prompt\", \"speaker\", \"model_response\"]\n",
    ")\n",
    "\n",
    "grid_df.info()"
   ],
   "execution_count": null,
   "outputs": [
    {
     "data": {
      "text/html": [
       "\n",
       "  <style>\n",
       "    pre {\n",
       "        white-space: pre-wrap;\n",
       "    }\n",
       "  </style>\n",
       "  "
      ],
      "text/plain": [
       "<IPython.core.display.HTML object>"
      ]
     },
     "metadata": {},
     "output_type": "display_data"
    },
    {
     "name": "stdout",
     "output_type": "stream",
     "text": [
      "anticipate approx 5000 calculations\n",
      "\n",
      "\n",
      "<class 'pandas.core.frame.DataFrame'>\n",
      "Index: 0 entries\n",
      "Data columns (total 6 columns):\n",
      " #   Column          Non-Null Count  Dtype \n",
      "---  ------          --------------  ----- \n",
      " 0   temp            0 non-null      object\n",
      " 1   topk            0 non-null      object\n",
      " 2   top_p           0 non-null      object\n",
      " 3   prompt          0 non-null      object\n",
      " 4   speaker         0 non-null      object\n",
      " 5   model_response  0 non-null      object\n",
      "dtypes: object(6)\n",
      "memory usage: 0.0+ bytes\n"
     ]
    }
   ]
  },
  {
   "cell_type": "markdown",
   "metadata": {
    "id": "gX6FR-spt_LW"
   },
   "source": [
    "**question lists:**\n",
    "\n",
    "1. [medium - 40 small talk q's](https://medium.com/twyla-ai/40-small-talk-questions-your-chatbot-needs-to-know-and-why-it-matters-63caf03347f6)"
   ]
  },
  {
   "cell_type": "code",
   "metadata": {
    "colab": {
     "base_uri": "https://localhost:8080/",
     "height": 172
    },
    "id": "k23F0B3x4MVw",
    "outputId": "0b8e19ab-9571-4f7a-e23d-400df92fec82"
   },
   "source": [
    "import random\n",
    "\n",
    "random = random.SystemRandom()  # big boy random\n",
    "\n",
    "n = 3\n",
    "print(f\"\\nrandom {n} values from temp list are \\n\", random.sample(temp_srch, k=n))\n",
    "print(f\"\\nrandom {n} values from top_p list are \\n\", random.sample(top_p_srch, k=n))\n",
    "print(f\"\\nrandom {n} values from topk list are \\n\", random.sample(topk_srch, k=n))\n",
    "\n",
    "\n",
    "# shuffle lists for search. going thru in ~random~ order enables being able\n",
    "# to somewhat look at the results during\n",
    "\n",
    "random.shuffle(temp_srch)\n",
    "random.shuffle(top_p_srch)\n",
    "\n",
    "\n",
    "generic_openers = [\n",
    "    \"How are you?\",\n",
    "    \"What’s up?\",\n",
    "    \"Good morning\",\n",
    "    \"Tell me something\",\n",
    "    \"Ok\",\n",
    "    \"Yes\",\n",
    "    \"I’ll do that now\",\n",
    "    \"Hello\",\n",
    "    \"Thank you\",\n",
    "    \"Goodbye\",\n",
    "    \"How can you help me?\",\n",
    "    \"what can you do?\",\n",
    "    \"Hi, my name is……\",\n",
    "    \"Happy birthday!\",\n",
    "    \"I have a question, can you help me?\",\n",
    "    \"Do you know a joke?\",\n",
    "    \"Do you love me?\",\n",
    "    \"I love you\",\n",
    "    \"Will you marry me?\",\n",
    "    \"Are you single?\",\n",
    "    \"Do you like people?\",\n",
    "    \"Does Santa Claus exist?\",\n",
    "    \"Are you part of the Matrix?\",\n",
    "    \"You’re cute.\",\n",
    "    \"Do you have a hobby?\",\n",
    "    \"You’re clever\",\n",
    "    \"Tell me about your personality\",\n",
    "    \"You’re annoying\",\n",
    "    \"you suck\",\n",
    "    \"I want to speak to a human now.\",\n",
    "    \"Don’t you speak English?!\",\n",
    "    \"I want the answer NOW!\",\n",
    "    \"Are you human?\",\n",
    "    \"Are you a robot?\",\n",
    "    \"What is your name?\",\n",
    "    \"How old are you?\",\n",
    "    \"What’s your age?\",\n",
    "    \"What day is it today?\",\n",
    "    \"What do you do with my data?\",\n",
    "    \"Do you save what I say?\",\n",
    "    \"Who made you?\",\n",
    "    \"Which languages can you speak?\",\n",
    "    \"What is your mother’s name?\",\n",
    "    \"Where do you live?\",\n",
    "    \"How many people can you speak to at once?\",\n",
    "    \"What’s the weather like today?\",\n",
    "    \"Do you have a job for me?\",\n",
    "    \"Are you expensive?\",\n",
    "    \"Who’s your boss?\",\n",
    "    \"Do you get smarter?\",\n",
    "]\n",
    "\n",
    "test_speakers = [\n",
    "    \"andrew e^x weatherly\",\n",
    "    \"emilie szemraj\",\n",
    "    \"christopher szemraj\",\n",
    "    \"michael lebens\",\n",
    "    \"jonas meirer\",\n",
    "    \"lucia pasara\",\n",
    "    \"jonathan\",\n",
    "    \"joost\",\n",
    "    \"jocelyn terle\",\n",
    "    \"kevin ta\",\n",
    "    \"andres\",\n",
    "    'david \"pumpen\" wissel',\n",
    "    \"stefan schopf\",\n",
    "    \"caio dorea\",\n",
    "    \"teresa\",\n",
    "    \"heather ayllon\",\n",
    "    \"arnold schwarzenegger\",\n",
    "]"
   ],
   "execution_count": null,
   "outputs": [
    {
     "data": {
      "text/html": [
       "\n",
       "  <style>\n",
       "    pre {\n",
       "        white-space: pre-wrap;\n",
       "    }\n",
       "  </style>\n",
       "  "
      ],
      "text/plain": [
       "<IPython.core.display.HTML object>"
      ]
     },
     "metadata": {},
     "output_type": "display_data"
    },
    {
     "name": "stdout",
     "output_type": "stream",
     "text": [
      "\n",
      "random 3 values from temp list are \n",
      " [0.99, 0.94, 0.76]\n",
      "\n",
      "random 3 values from top_p list are \n",
      " [0.9, 0.8, 0.62]\n",
      "\n",
      "random 3 values from topk list are \n",
      " [75, 25, 125]\n"
     ]
    }
   ]
  },
  {
   "cell_type": "markdown",
   "metadata": {
    "id": "yOpEvDf1QfZR"
   },
   "source": [
    "conversation starters taken from [this parade article](https://parade.com/969981/parade/conversation-starters/)"
   ]
  },
  {
   "cell_type": "code",
   "metadata": {
    "colab": {
     "base_uri": "https://localhost:8080/",
     "height": 359,
     "referenced_widgets": [
      "5d3c4a773b3d4648b4f9bedf595b7b4a",
      "a81385829f1042b8a3404e1abf4d598c",
      "f30299c0d4b3438ea499ea5780c0bf16",
      "ad4fa345812a415d8a777929ce42011e",
      "7f595257446645df923efcc63a6f43ce",
      "1b5bb3daaf3a4335adc4d1cd544145e7",
      "cf1a5df1fea44b0888fb58f14090eff7",
      "cb9868b7679048fea5a8a0a6c0706e66",
      "4786c54c074e4f8a85bcc2b8737cda9a",
      "e5de0d371f0546d4bdc8cd9fd879de37",
      "ebfc6f619fcb4fa98e05120477c0f72c"
     ]
    },
    "id": "Bt6Lacky4GmK",
    "outputId": "753202a8-2429-499d-d17b-62e24dfbbbfa"
   },
   "source": [
    "pbar = tqdm(total=estimate_comp, desc=\"completing grid search...\")\n",
    "\n",
    "for this_temp in temp_srch:\n",
    "    ind = temp_srch.index(this_temp)\n",
    "\n",
    "    if ind > 0 and ind % 5 == 0:\n",
    "        # save progress\n",
    "        timestamp = datetime.now().strftime(\"%b-%d-%Y_%H-%M\")\n",
    "        grid_df.reset_index(drop=True, inplace=True)\n",
    "        out_xl = \"GPT-Peter774M-gridsearch-{}.xlsx\".format(timestamp)\n",
    "        out_ftr = \"GPT-Peter774M-gridsearch-{}.ftr\".format(timestamp)\n",
    "        grid_df.to_excel(out_xl)\n",
    "        grid_df.to_feather(out_ftr)\n",
    "        put_in_dropbox(out_xl)\n",
    "        put_in_dropbox(out_ftr)\n",
    "\n",
    "    for this_top_p in top_p_srch:\n",
    "        for this_topk in topk_srch:\n",
    "\n",
    "            tst_spkr = random.sample(test_speakers, k=1)[0]\n",
    "            tst_prompt = random.sample(generic_openers, k=1)[0]\n",
    "\n",
    "            model_out = query_gpt_peter(\n",
    "                prompt_msg=tst_prompt,\n",
    "                speaker=tst_spkr,\n",
    "                kparam=this_topk,\n",
    "                temp=this_temp,\n",
    "                nuc_range=this_top_p,\n",
    "                verbose=False,\n",
    "            )\n",
    "            this_resp = model_out[\"out_text\"]\n",
    "            df_ind = len(grid_df)\n",
    "            # [\"temp\", \"topk\", \"top_p\", \"prompt\", \"speaker\", \"model_response\"]\n",
    "            grid_df.loc[df_ind] = [\n",
    "                this_temp,\n",
    "                this_topk,\n",
    "                this_top_p,\n",
    "                tst_prompt,\n",
    "                tst_spkr,\n",
    "                this_resp,\n",
    "            ]\n",
    "            pbar.update(1)\n",
    "\n",
    "\n",
    "pbar.close()"
   ],
   "execution_count": 20,
   "outputs": [
    {
     "data": {
      "text/html": [
       "\n",
       "  <style>\n",
       "    pre {\n",
       "        white-space: pre-wrap;\n",
       "    }\n",
       "  </style>\n",
       "  "
      ],
      "text/plain": [
       "<IPython.core.display.HTML object>"
      ]
     },
     "metadata": {},
     "output_type": "display_data"
    },
    {
     "data": {
      "application/vnd.jupyter.widget-view+json": {
       "model_id": "5d3c4a773b3d4648b4f9bedf595b7b4a",
       "version_major": 2,
       "version_minor": 0
      },
      "text/plain": [
       "completing grid search...:   0%|          | 0/5000 [00:00<?, ?it/s]"
      ]
     },
     "metadata": {},
     "output_type": "display_data"
    },
    {
     "output_type": "stream",
     "name": "stderr",
     "text": [
      "11/16/2021 06:52:17 — INFO — dropbox — Request to files/upload\n",
      "11/16/2021 06:52:18 — INFO — dropbox — Request to files/upload\n",
      "11/16/2021 08:48:53 — INFO — dropbox — Request to files/upload\n",
      "11/16/2021 08:48:55 — INFO — dropbox — Request to files/upload\n",
      "11/16/2021 10:44:28 — INFO — dropbox — Request to files/upload\n",
      "11/16/2021 10:44:29 — INFO — dropbox — Request to files/upload\n",
      "11/16/2021 12:38:38 — INFO — dropbox — Request to files/upload\n",
      "11/16/2021 12:38:40 — INFO — dropbox — Request to files/upload\n",
      "11/16/2021 14:36:09 — INFO — dropbox — Request to files/upload\n",
      "11/16/2021 14:36:10 — INFO — dropbox — Request to files/upload\n",
      "11/16/2021 16:32:12 — INFO — dropbox — Request to files/upload\n",
      "11/16/2021 16:32:14 — INFO — dropbox — Request to files/upload\n",
      "11/16/2021 18:24:27 — INFO — dropbox — Request to files/upload\n",
      "11/16/2021 18:24:28 — INFO — dropbox — Request to files/upload\n",
      "11/16/2021 20:25:01 — INFO — dropbox — Request to files/upload\n",
      "11/16/2021 20:25:03 — INFO — dropbox — Request to files/upload\n",
      "11/16/2021 22:26:58 — INFO — dropbox — Request to files/upload\n",
      "11/16/2021 22:27:00 — INFO — dropbox — Request to files/upload\n"
     ]
    }
   ]
  },
  {
   "cell_type": "markdown",
   "metadata": {
    "id": "gBsKz-yk8VeQ"
   },
   "source": [
    "## save final results"
   ]
  },
  {
   "cell_type": "code",
   "metadata": {
    "id": "_FIzcf678Vi2",
    "colab": {
     "base_uri": "https://localhost:8080/",
     "height": 51
    },
    "outputId": "5267602a-647f-4062-ea33-b9abc7182e64"
   },
   "source": [
    "timestamp = datetime.now().strftime(\"%b-%d-%Y_%H-%M\")\n",
    "grid_df.reset_index(drop=True, inplace=True)\n",
    "out_xl = \"GPT-Peter774M-FINAL-gridsearch-{}.xlsx\".format(timestamp)\n",
    "out_ftr = \"GPT-Peter774M-FINAL-gridsearch-{}.ftr\".format(timestamp)\n",
    "grid_df.to_excel(out_xl)\n",
    "grid_df.to_feather(out_ftr)\n",
    "put_in_dropbox(out_xl)\n",
    "put_in_dropbox(out_ftr)"
   ],
   "execution_count": 21,
   "outputs": [
    {
     "output_type": "display_data",
     "data": {
      "text/html": [
       "\n",
       "  <style>\n",
       "    pre {\n",
       "        white-space: pre-wrap;\n",
       "    }\n",
       "  </style>\n",
       "  "
      ],
      "text/plain": [
       "<IPython.core.display.HTML object>"
      ]
     },
     "metadata": {}
    },
    {
     "output_type": "stream",
     "name": "stderr",
     "text": [
      "11/17/2021 00:31:55 — INFO — dropbox — Request to files/upload\n",
      "11/17/2021 00:31:57 — INFO — dropbox — Request to files/upload\n"
     ]
    }
   ]
  },
  {
   "cell_type": "markdown",
   "metadata": {
    "id": "2Azv9Z2ZAsHw"
   },
   "source": [
    "# Analysis"
   ]
  },
  {
   "cell_type": "code",
   "metadata": {
    "id": "A19WObvdAtUa",
    "colab": {
     "base_uri": "https://localhost:8080/",
     "height": 241
    },
    "outputId": "07ba6997-9b8e-438a-db08-d45fc5d43272"
   },
   "source": [
    "error_string = \"<bro, there was an error. try again>\"\n",
    "\n",
    "df_analysis = grid_df.copy().convert_dtypes()\n",
    "df_analysis = df_analysis[df_analysis[\"model_response\"] != error_string]\n",
    "df_analysis.reset_index(drop=True, inplace=True)\n",
    "df_analysis.info(verbose=True)  # overview"
   ],
   "execution_count": 22,
   "outputs": [
    {
     "output_type": "display_data",
     "data": {
      "text/html": [
       "\n",
       "  <style>\n",
       "    pre {\n",
       "        white-space: pre-wrap;\n",
       "    }\n",
       "  </style>\n",
       "  "
      ],
      "text/plain": [
       "<IPython.core.display.HTML object>"
      ]
     },
     "metadata": {}
    },
    {
     "output_type": "stream",
     "name": "stdout",
     "text": [
      "<class 'pandas.core.frame.DataFrame'>\n",
      "RangeIndex: 5000 entries, 0 to 4999\n",
      "Data columns (total 6 columns):\n",
      " #   Column          Non-Null Count  Dtype  \n",
      "---  ------          --------------  -----  \n",
      " 0   temp            5000 non-null   float64\n",
      " 1   topk            5000 non-null   Int64  \n",
      " 2   top_p           5000 non-null   float64\n",
      " 3   prompt          5000 non-null   string \n",
      " 4   speaker         5000 non-null   string \n",
      " 5   model_response  5000 non-null   string \n",
      "dtypes: Int64(1), float64(2), string(3)\n",
      "memory usage: 239.4 KB\n"
     ]
    }
   ]
  },
  {
   "cell_type": "markdown",
   "metadata": {
    "id": "EIR9dYifF_Uh"
   },
   "source": [
    "assume the outputs are a single sentence and then use a [sentence-scoring algorithm on them](https://github.com/simonepri/lm-scorer) via `lm-scorer` package.\n",
    "\n",
    "- [here](https://colab.research.google.com/github/simonepri/lm-scorer/blob/master/examples/lm_scorer.ipynb) is an example notebook"
   ]
  },
  {
   "cell_type": "code",
   "metadata": {
    "id": "RPciEe8CGA-D",
    "colab": {
     "base_uri": "https://localhost:8080/",
     "height": 507,
     "referenced_widgets": [
      "f13cf3220e1d47bfbe542f37ce21bea5",
      "561b2024d626476eab7be9861ed0c0dd",
      "e762792de42a48d8afc80248ea713e36",
      "1f948e64b5fa48aea1b226fc4268f017",
      "8798f60068d949d09dd706913ab10f1f",
      "bd26a3210cca4effbe8d8634235215e4",
      "969ff619688546ca993612e066ff7cdc",
      "061dfe405eca4a1b83b281c493b47cf8",
      "f97a3518337e4386919eff27795ee795",
      "3ffa2eb9cb764efe945621940ae5c6e3",
      "466fc7044296433190030874e484295e",
      "637c1ae9efa1413bb00162159b8c4173",
      "d77490c6fafd4f189550cf0872e9a1cf",
      "afbad749c5364df3996105486febde43",
      "e8f6a69756194234a134fea232a9bcc4",
      "a5ad0064201747beb5ddfaad297e7377",
      "d9af94ae213f47568d3ea0ad4ff1152b",
      "9eaa128fc3654218a2599560e16cd453",
      "5cc0f92481b04160800449628b6e31aa",
      "1c44839c39be463db27cda3352c0cb5f",
      "1bd30e4568874fb58f700c12035d9265",
      "509bcb5e07c74efeb4e17ec2f324245e",
      "361d48adaf3a4c0b9c01d960299b1680",
      "04785f40aacb4a6a92419d2656f1faae",
      "d2a0bb9a1ff446618ca4fa6ac011c719",
      "d9fbe630e9a649858466eb4e9df33074",
      "4fcb68bea0ec46f0b054e9e8b4ba1f59",
      "21785e7d915b497f95edcfaaff268aaa",
      "02344712955e434b82922da06902ce0c",
      "30a2a03a7a9a49b29c5ef3d889c4ee51",
      "c6a2cc6dd4cc422caf0e82cd65b0d70e",
      "3bfc2bd89134449d91435eb25eb0d4f2",
      "864de572662b4986b505c4200ab0cd71",
      "61813bbc8b924a589997681618123f54",
      "7636b1987d1a46a9b2524eb7549fe87c",
      "854c011ff58d4019a94549b32d6bc0db",
      "39c201b2d6b54c8da2422ae033027656",
      "20331827ba8e498499ff627466c617a8",
      "fe76c6313095412b9b172ab001a0225a",
      "48d2ccce1784494091ee34e14b11584a",
      "256cc4294c9b4045bad8906908c80a85",
      "a28c662ffc084ea3b643a865bd060a17",
      "d07c184350314213ab42a78a88bc2f16",
      "0488de81f138436ea9d9fc50c658dac7",
      "aeb5f7ccce58451f9d394da9bd72a51f",
      "79ec89f83b2c48ecb638106216fbd376",
      "3164aaba76a740f8969a32b795c10b48",
      "93071ff236e44466baee0097ab8d1353",
      "5fe100b6cfb0464aa398e12a2b4d63ef",
      "0f503158469c403489b3133baa36522d",
      "b1cb9ed1c1274a19af02855488f357cf",
      "fd338cc446d748a89af48a755e7b1e0a",
      "9c4b4b3a33f4444c911b81c0ab778208",
      "978ff354bdf147239a942d90782b982e",
      "25aed687ef5f454088c5cdd45dd10a1c"
     ]
    },
    "outputId": "9d6b8e25-0e55-46c3-d6e6-ea5cb7bd3f41"
   },
   "source": [
    "!pip install -q lm-scorer\n",
    "\n",
    "import torch\n",
    "from lm_scorer.models.auto import AutoLMScorer as LMScorer\n",
    "\n",
    "# Available models\n",
    "list(LMScorer.supported_model_names())\n",
    "# => [\"gpt2\", \"gpt2-medium\", \"gpt2-large\", \"gpt2-xl\", distilgpt2\"]\n",
    "\n",
    "# Load model to cpu or cuda\n",
    "device = \"cuda:0\" if torch.cuda.is_available() else \"cpu\"\n",
    "batch_size = 1\n",
    "scorer = LMScorer.from_pretrained(\"gpt2-large\", device=device, batch_size=batch_size)\n",
    "print(\"loaded - \", datetime.now())"
   ],
   "execution_count": 23,
   "outputs": [
    {
     "output_type": "display_data",
     "data": {
      "text/html": [
       "\n",
       "  <style>\n",
       "    pre {\n",
       "        white-space: pre-wrap;\n",
       "    }\n",
       "  </style>\n",
       "  "
      ],
      "text/plain": [
       "<IPython.core.display.HTML object>"
      ]
     },
     "metadata": {}
    },
    {
     "output_type": "stream",
     "name": "stdout",
     "text": [
      "\u001b[K     |████████████████████████████████| 674 kB 5.2 MB/s \n",
      "\u001b[K     |████████████████████████████████| 5.6 MB 21.4 MB/s \n",
      "\u001b[K     |████████████████████████████████| 1.2 MB 29.8 MB/s \n",
      "\u001b[31mERROR: pip's dependency resolver does not currently take into account all the packages that are installed. This behaviour is the source of the following dependency conflicts.\n",
      "aitextgen 0.5.2 requires transformers>=4.5.1, but you have transformers 2.11.0 which is incompatible.\u001b[0m\n",
      "\u001b[?25h"
     ]
    },
    {
     "output_type": "stream",
     "name": "stderr",
     "text": [
      "Could not locate the tokenizer configuration file, will try to use the model config instead.\n"
     ]
    },
    {
     "output_type": "display_data",
     "data": {
      "application/vnd.jupyter.widget-view+json": {
       "model_id": "f13cf3220e1d47bfbe542f37ce21bea5",
       "version_minor": 0,
       "version_major": 2
      },
      "text/plain": [
       "Downloading:   0%|          | 0.00/666 [00:00<?, ?B/s]"
      ]
     },
     "metadata": {}
    },
    {
     "output_type": "display_data",
     "data": {
      "application/vnd.jupyter.widget-view+json": {
       "model_id": "637c1ae9efa1413bb00162159b8c4173",
       "version_minor": 0,
       "version_major": 2
      },
      "text/plain": [
       "Downloading:   0%|          | 0.00/0.99M [00:00<?, ?B/s]"
      ]
     },
     "metadata": {}
    },
    {
     "output_type": "display_data",
     "data": {
      "application/vnd.jupyter.widget-view+json": {
       "model_id": "361d48adaf3a4c0b9c01d960299b1680",
       "version_minor": 0,
       "version_major": 2
      },
      "text/plain": [
       "Downloading:   0%|          | 0.00/446k [00:00<?, ?B/s]"
      ]
     },
     "metadata": {}
    },
    {
     "output_type": "display_data",
     "data": {
      "application/vnd.jupyter.widget-view+json": {
       "model_id": "61813bbc8b924a589997681618123f54",
       "version_minor": 0,
       "version_major": 2
      },
      "text/plain": [
       "Downloading:   0%|          | 0.00/1.29M [00:00<?, ?B/s]"
      ]
     },
     "metadata": {}
    },
    {
     "output_type": "stream",
     "name": "stderr",
     "text": [
      "loading file https://huggingface.co/gpt2-large/resolve/main/vocab.json from cache at /root/.cache/huggingface/transformers/79f5e05af067df502528a0d902e82c24c3f1df9ae570c91fcc38e1f3c0af4c45.c7ed1f96aac49e745788faa77ba0a26a392643a50bb388b9c04ff469e555241f\n",
      "loading file https://huggingface.co/gpt2-large/resolve/main/merges.txt from cache at /root/.cache/huggingface/transformers/7f7bf8a7802a708af08a812bfbdec9335f2c30f761ec14a8cd17b0d61c818876.5d12962c5ee615a4c803841266e9c3be9a691a924f72d395d3a6c6c81157788b\n",
      "loading file https://huggingface.co/gpt2-large/resolve/main/tokenizer.json from cache at /root/.cache/huggingface/transformers/f1179e28982928f50ca02b0188fcd80fb4fa871ba1719df5bf81ac308d0d10af.cf2d0ecb83b6df91b3dbb53f1d1e4c311578bfd3aa0e04934215a49bf9898df0\n",
      "loading file https://huggingface.co/gpt2-large/resolve/main/added_tokens.json from cache at None\n",
      "loading file https://huggingface.co/gpt2-large/resolve/main/special_tokens_map.json from cache at None\n",
      "loading file https://huggingface.co/gpt2-large/resolve/main/tokenizer_config.json from cache at None\n",
      "Assigning ['<|pad|>'] to the additional_special_tokens key of the tokenizer\n"
     ]
    },
    {
     "output_type": "display_data",
     "data": {
      "application/vnd.jupyter.widget-view+json": {
       "model_id": "aeb5f7ccce58451f9d394da9bd72a51f",
       "version_minor": 0,
       "version_major": 2
      },
      "text/plain": [
       "Downloading:   0%|          | 0.00/3.02G [00:00<?, ?B/s]"
      ]
     },
     "metadata": {}
    },
    {
     "output_type": "stream",
     "name": "stdout",
     "text": [
      "loaded -  2021-11-17 00:33:59.589906\n"
     ]
    }
   ]
  },
  {
   "cell_type": "code",
   "metadata": {
    "id": "kLaDdHizHIil",
    "colab": {
     "base_uri": "https://localhost:8080/",
     "height": 34
    },
    "outputId": "3a6817f2-0fd6-4df6-d651-881ec5948f81"
   },
   "source": [
    "# example\n",
    "\n",
    "# Compute sentence score as the geometric mean of tokens' probabilities\n",
    "scorer.sentence_score(\"I like this package.\", reduce=\"gmean\")"
   ],
   "execution_count": 24,
   "outputs": [
    {
     "output_type": "display_data",
     "data": {
      "text/html": [
       "\n",
       "  <style>\n",
       "    pre {\n",
       "        white-space: pre-wrap;\n",
       "    }\n",
       "  </style>\n",
       "  "
      ],
      "text/plain": [
       "<IPython.core.display.HTML object>"
      ]
     },
     "metadata": {}
    },
    {
     "output_type": "execute_result",
     "data": {
      "text/plain": [
       "0.009417766705155373"
      ]
     },
     "metadata": {},
     "execution_count": 24
    }
   ]
  },
  {
   "cell_type": "code",
   "metadata": {
    "id": "eQqhFW7PHnWq",
    "colab": {
     "base_uri": "https://localhost:8080/",
     "height": 17
    },
    "outputId": "aedc1c1b-1d36-4103-bda2-07a87c64e6fa"
   },
   "source": [
    "# create helper fn\n",
    "\n",
    "\n",
    "def score_text_blob(gen_text: str, method=\"gmean\", verbose=False):\n",
    "    # for method 'mean',\n",
    "    try:\n",
    "        return scorer.sentence_score(gen_text, reduce=method)\n",
    "    except:\n",
    "        if verbose:\n",
    "            print(f\"failed computing scores for {gen_text}\")\n",
    "        return 0  # score sentences that failed at 0 - assumption = too undecipherable"
   ],
   "execution_count": 25,
   "outputs": [
    {
     "output_type": "display_data",
     "data": {
      "text/html": [
       "\n",
       "  <style>\n",
       "    pre {\n",
       "        white-space: pre-wrap;\n",
       "    }\n",
       "  </style>\n",
       "  "
      ],
      "text/plain": [
       "<IPython.core.display.HTML object>"
      ]
     },
     "metadata": {}
    }
   ]
  },
  {
   "cell_type": "markdown",
   "metadata": {
    "id": "1arelYZBM0Wb"
   },
   "source": [
    "### apply and see results"
   ]
  },
  {
   "cell_type": "code",
   "metadata": {
    "id": "ie1WA7-hXaNF",
    "colab": {
     "base_uri": "https://localhost:8080/",
     "height": 516
    },
    "outputId": "3286b65e-a656-4d1a-e418-47f3b51eff7e"
   },
   "source": [
    "df_analysis.head()"
   ],
   "execution_count": 26,
   "outputs": [
    {
     "output_type": "display_data",
     "data": {
      "text/html": [
       "\n",
       "  <style>\n",
       "    pre {\n",
       "        white-space: pre-wrap;\n",
       "    }\n",
       "  </style>\n",
       "  "
      ],
      "text/plain": [
       "<IPython.core.display.HTML object>"
      ]
     },
     "metadata": {}
    },
    {
     "output_type": "error",
     "ename": "AttributeError",
     "evalue": "ignored",
     "traceback": [
      "\u001b[0;31m---------------------------------------------------------------------------\u001b[0m",
      "\u001b[0;31mAttributeError\u001b[0m                            Traceback (most recent call last)",
      "\u001b[0;32m/usr/local/lib/python3.7/dist-packages/IPython/core/formatters.py\u001b[0m in \u001b[0;36m__call__\u001b[0;34m(self, obj)\u001b[0m\n\u001b[1;32m    336\u001b[0m             \u001b[0mmethod\u001b[0m \u001b[0;34m=\u001b[0m \u001b[0mget_real_method\u001b[0m\u001b[0;34m(\u001b[0m\u001b[0mobj\u001b[0m\u001b[0;34m,\u001b[0m \u001b[0mself\u001b[0m\u001b[0;34m.\u001b[0m\u001b[0mprint_method\u001b[0m\u001b[0;34m)\u001b[0m\u001b[0;34m\u001b[0m\u001b[0;34m\u001b[0m\u001b[0m\n\u001b[1;32m    337\u001b[0m             \u001b[0;32mif\u001b[0m \u001b[0mmethod\u001b[0m \u001b[0;32mis\u001b[0m \u001b[0;32mnot\u001b[0m \u001b[0;32mNone\u001b[0m\u001b[0;34m:\u001b[0m\u001b[0;34m\u001b[0m\u001b[0;34m\u001b[0m\u001b[0m\n\u001b[0;32m--> 338\u001b[0;31m                 \u001b[0;32mreturn\u001b[0m \u001b[0mmethod\u001b[0m\u001b[0;34m(\u001b[0m\u001b[0;34m)\u001b[0m\u001b[0;34m\u001b[0m\u001b[0;34m\u001b[0m\u001b[0m\n\u001b[0m\u001b[1;32m    339\u001b[0m             \u001b[0;32mreturn\u001b[0m \u001b[0;32mNone\u001b[0m\u001b[0;34m\u001b[0m\u001b[0;34m\u001b[0m\u001b[0m\n\u001b[1;32m    340\u001b[0m         \u001b[0;32melse\u001b[0m\u001b[0;34m:\u001b[0m\u001b[0;34m\u001b[0m\u001b[0;34m\u001b[0m\u001b[0m\n",
      "\u001b[0;32m/usr/local/lib/python3.7/dist-packages/pandas/core/frame.py\u001b[0m in \u001b[0;36m_repr_html_\u001b[0;34m(self)\u001b[0m\n\u001b[1;32m    796\u001b[0m \u001b[0;34m\u001b[0m\u001b[0m\n\u001b[1;32m    797\u001b[0m     \u001b[0;34m@\u001b[0m\u001b[0mproperty\u001b[0m\u001b[0;34m\u001b[0m\u001b[0;34m\u001b[0m\u001b[0m\n\u001b[0;32m--> 798\u001b[0;31m     \u001b[0;32mdef\u001b[0m \u001b[0mshape\u001b[0m\u001b[0;34m(\u001b[0m\u001b[0mself\u001b[0m\u001b[0;34m)\u001b[0m \u001b[0;34m->\u001b[0m \u001b[0mtuple\u001b[0m\u001b[0;34m[\u001b[0m\u001b[0mint\u001b[0m\u001b[0;34m,\u001b[0m \u001b[0mint\u001b[0m\u001b[0;34m]\u001b[0m\u001b[0;34m:\u001b[0m\u001b[0;34m\u001b[0m\u001b[0;34m\u001b[0m\u001b[0m\n\u001b[0m\u001b[1;32m    799\u001b[0m         \"\"\"\n\u001b[1;32m    800\u001b[0m         \u001b[0mReturn\u001b[0m \u001b[0ma\u001b[0m \u001b[0mtuple\u001b[0m \u001b[0mrepresenting\u001b[0m \u001b[0mthe\u001b[0m \u001b[0mdimensionality\u001b[0m \u001b[0mof\u001b[0m \u001b[0mthe\u001b[0m \u001b[0mDataFrame\u001b[0m\u001b[0;34m.\u001b[0m\u001b[0;34m\u001b[0m\u001b[0;34m\u001b[0m\u001b[0m\n",
      "\u001b[0;32m/usr/local/lib/python3.7/dist-packages/pandas/io/formats/format.py\u001b[0m in \u001b[0;36mto_html\u001b[0;34m(self, buf, encoding, classes, notebook, border)\u001b[0m\n\u001b[1;32m    986\u001b[0m         \u001b[0mencoding\u001b[0m\u001b[0;34m:\u001b[0m \u001b[0mstr\u001b[0m \u001b[0;34m|\u001b[0m \u001b[0;32mNone\u001b[0m \u001b[0;34m=\u001b[0m \u001b[0;32mNone\u001b[0m\u001b[0;34m,\u001b[0m\u001b[0;34m\u001b[0m\u001b[0;34m\u001b[0m\u001b[0m\n\u001b[1;32m    987\u001b[0m         \u001b[0mclasses\u001b[0m\u001b[0;34m:\u001b[0m \u001b[0mstr\u001b[0m \u001b[0;34m|\u001b[0m \u001b[0mlist\u001b[0m \u001b[0;34m|\u001b[0m \u001b[0mtuple\u001b[0m \u001b[0;34m|\u001b[0m \u001b[0;32mNone\u001b[0m \u001b[0;34m=\u001b[0m \u001b[0;32mNone\u001b[0m\u001b[0;34m,\u001b[0m\u001b[0;34m\u001b[0m\u001b[0;34m\u001b[0m\u001b[0m\n\u001b[0;32m--> 988\u001b[0;31m         \u001b[0mnotebook\u001b[0m\u001b[0;34m:\u001b[0m \u001b[0mbool\u001b[0m \u001b[0;34m=\u001b[0m \u001b[0;32mFalse\u001b[0m\u001b[0;34m,\u001b[0m\u001b[0;34m\u001b[0m\u001b[0;34m\u001b[0m\u001b[0m\n\u001b[0m\u001b[1;32m    989\u001b[0m         \u001b[0mborder\u001b[0m\u001b[0;34m:\u001b[0m \u001b[0mint\u001b[0m \u001b[0;34m|\u001b[0m \u001b[0;32mNone\u001b[0m \u001b[0;34m=\u001b[0m \u001b[0;32mNone\u001b[0m\u001b[0;34m,\u001b[0m\u001b[0;34m\u001b[0m\u001b[0;34m\u001b[0m\u001b[0m\n\u001b[1;32m    990\u001b[0m         \u001b[0mtable_id\u001b[0m\u001b[0;34m:\u001b[0m \u001b[0mstr\u001b[0m \u001b[0;34m|\u001b[0m \u001b[0;32mNone\u001b[0m \u001b[0;34m=\u001b[0m \u001b[0;32mNone\u001b[0m\u001b[0;34m,\u001b[0m\u001b[0;34m\u001b[0m\u001b[0;34m\u001b[0m\u001b[0m\n",
      "\u001b[0;31mAttributeError\u001b[0m: 'NotebookFormatter' object has no attribute 'get_result'"
     ]
    },
    {
     "output_type": "execute_result",
     "data": {
      "text/plain": [
       "   temp  ...                                     model_response\n",
       "0  0.58  ...                                       im down cool\n",
       "1  0.58  ...                                            👍 <url>\n",
       "2  0.58  ...  this message can also be translated as \"i alre...\n",
       "3  0.58  ...                                             lmao 👍\n",
       "4  0.58  ...                    looks so fun. truly beautiful 😃\n",
       "\n",
       "[5 rows x 6 columns]"
      ]
     },
     "metadata": {},
     "execution_count": 26
    }
   ]
  },
  {
   "cell_type": "code",
   "metadata": {
    "id": "5ZZt72ZGM3I7",
    "colab": {
     "base_uri": "https://localhost:8080/",
     "height": 34
    },
    "outputId": "3c60511c-12b9-4c56-afb5-80ac83375e39"
   },
   "source": [
    "import time\n",
    "\n",
    "st = time.time()\n",
    "df_analysis[\"model_response\"] = df_analysis[\"model_response\"].apply(str)\n",
    "df_analysis[\"model_response\"] = df_analysis[\"model_response\"].apply(cleantxt_wrap)\n",
    "df_analysis[\"geom_score\"] = df_analysis[\"model_response\"].apply(score_text_blob)\n",
    "df_analysis[\"prod_score\"] = df_analysis[\"model_response\"].apply(\n",
    "    score_text_blob, args=(\"prod\",)\n",
    ")\n",
    "df_analysis[\"mean_score\"] = df_analysis[\"model_response\"].apply(\n",
    "    score_text_blob, args=(\"mean\",)\n",
    ")\n",
    "df_analysis[\"hmean_score\"] = df_analysis[\"model_response\"].apply(\n",
    "    score_text_blob, args=(\"hmean\",)\n",
    ")\n",
    "rt = (time.time() - st) / 60  # minutes\n",
    "print(f\"the total runtime was {rt} minutes\")"
   ],
   "execution_count": 27,
   "outputs": [
    {
     "output_type": "display_data",
     "data": {
      "text/html": [
       "\n",
       "  <style>\n",
       "    pre {\n",
       "        white-space: pre-wrap;\n",
       "    }\n",
       "  </style>\n",
       "  "
      ],
      "text/plain": [
       "<IPython.core.display.HTML object>"
      ]
     },
     "metadata": {}
    },
    {
     "output_type": "stream",
     "name": "stdout",
     "text": [
      "the total runtime was 101.59011563857396 minutes\n"
     ]
    }
   ]
  },
  {
   "cell_type": "markdown",
   "metadata": {
    "id": "2VFewiDThHgv"
   },
   "source": [
    "## basic - plotly\n",
    "\n",
    "- [plotly express docs](https://plotly.com/python/plotly-express/)"
   ]
  },
  {
   "cell_type": "code",
   "metadata": {
    "id": "zUlZRKzrWMno",
    "colab": {
     "base_uri": "https://localhost:8080/",
     "height": 234
    },
    "outputId": "c88f5f13-90d1-4896-aa35-66554c024fe0"
   },
   "source": [
    "import plotly.express as px\n",
    "\n",
    "fig_temp = px.histogram(\n",
    "    df_analysis,\n",
    "    x=\"mean_score\",\n",
    "    color=\"topk\",\n",
    "    marginal=\"box\",  # or violin, rug\n",
    "    hover_data=df_analysis.columns,\n",
    "    template=\"plotly_dark\",\n",
    "    title=\"Text Gen Mean Score Dist - various top_k values\",\n",
    "    height=720,\n",
    "    width=int(720 * 1.613),\n",
    ")\n",
    "fig_temp.show()"
   ],
   "execution_count": 28,
   "outputs": [
    {
     "output_type": "display_data",
     "data": {
      "text/html": [
       "\n",
       "  <style>\n",
       "    pre {\n",
       "        white-space: pre-wrap;\n",
       "    }\n",
       "  </style>\n",
       "  "
      ],
      "text/plain": [
       "<IPython.core.display.HTML object>"
      ]
     },
     "metadata": {}
    },
    {
     "output_type": "error",
     "ename": "NameError",
     "evalue": "ignored",
     "traceback": [
      "\u001b[0;31m---------------------------------------------------------------------------\u001b[0m",
      "\u001b[0;31mNameError\u001b[0m                                 Traceback (most recent call last)",
      "\u001b[0;32m<ipython-input-28-b94397d018d3>\u001b[0m in \u001b[0;36m<module>\u001b[0;34m()\u001b[0m\n\u001b[0;32m----> 1\u001b[0;31m fig_temp = px.histogram(df_analysis, x=\"mean_score\", color=\"topk\",\n\u001b[0m\u001b[1;32m      2\u001b[0m                         \u001b[0mmarginal\u001b[0m\u001b[0;34m=\u001b[0m\u001b[0;34m\"box\"\u001b[0m\u001b[0;34m,\u001b[0m \u001b[0;31m# or violin, rug\u001b[0m\u001b[0;34m\u001b[0m\u001b[0;34m\u001b[0m\u001b[0m\n\u001b[1;32m      3\u001b[0m                         \u001b[0mhover_data\u001b[0m\u001b[0;34m=\u001b[0m\u001b[0mdf_analysis\u001b[0m\u001b[0;34m.\u001b[0m\u001b[0mcolumns\u001b[0m\u001b[0;34m,\u001b[0m \u001b[0mtemplate\u001b[0m\u001b[0;34m=\u001b[0m\u001b[0;34m\"plotly_dark\"\u001b[0m\u001b[0;34m,\u001b[0m\u001b[0;34m\u001b[0m\u001b[0;34m\u001b[0m\u001b[0m\n\u001b[1;32m      4\u001b[0m                         \u001b[0mtitle\u001b[0m\u001b[0;34m=\u001b[0m\u001b[0;34m\"Text Gen Mean Score Dist - various top_k values\"\u001b[0m\u001b[0;34m,\u001b[0m\u001b[0;34m\u001b[0m\u001b[0;34m\u001b[0m\u001b[0m\n\u001b[1;32m      5\u001b[0m                         height=720, width=int(720*1.613))\n",
      "\u001b[0;31mNameError\u001b[0m: name 'px' is not defined"
     ]
    }
   ]
  },
  {
   "cell_type": "code",
   "metadata": {
    "id": "ztTFat5Ed0cf"
   },
   "source": [
    "fig_temp = px.histogram(\n",
    "    df_analysis,\n",
    "    x=\"prod_score\",\n",
    "    color=\"topk\",\n",
    "    marginal=\"box\",  # or violin, rug\n",
    "    hover_data=df_analysis.columns,\n",
    "    template=\"ggplot2\",\n",
    "    title=\"Product Score Dist for different top_k values\",\n",
    "    log_y=True,\n",
    "    height=720,\n",
    "    width=int(720 * 1.613),\n",
    ")\n",
    "fig_temp.show()"
   ],
   "execution_count": null,
   "outputs": []
  },
  {
   "cell_type": "code",
   "metadata": {
    "id": "47h82DB1feLb"
   },
   "source": [
    "df_analysis.columns"
   ],
   "execution_count": null,
   "outputs": []
  },
  {
   "cell_type": "code",
   "metadata": {
    "id": "qe9DhFcaes5C"
   },
   "source": [
    "px.scatter_matrix(\n",
    "    df_analysis,\n",
    "    template=\"plotly_dark\",\n",
    "    dimensions=[\n",
    "        \"temp\",\n",
    "        \"topk\",\n",
    "        \"top_p\",\n",
    "        \"geom_score\",\n",
    "        \"mean_score\",\n",
    "        \"hmean_score\",\n",
    "        \"prod_score\",\n",
    "    ],\n",
    "    height=1080,\n",
    "    width=int(1080 * 1.613),\n",
    "    title=\"scatter matrix - all quant vars\",\n",
    ")"
   ],
   "execution_count": null,
   "outputs": []
  },
  {
   "cell_type": "markdown",
   "metadata": {
    "id": "637mHFl588-N"
   },
   "source": [
    "## autoviz\n"
   ]
  },
  {
   "cell_type": "code",
   "metadata": {
    "cellView": "form",
    "id": "AR99vX70vu9X"
   },
   "source": [
    "save_av = True  # @param {type:\"boolean\"}"
   ],
   "execution_count": null,
   "outputs": []
  },
  {
   "cell_type": "code",
   "metadata": {
    "id": "H7Xe1p0D9IhG"
   },
   "source": [
    "%%capture\n",
    "!pip install -U autoviz"
   ],
   "execution_count": null,
   "outputs": []
  },
  {
   "cell_type": "code",
   "metadata": {
    "id": "FIFwVxNA-ssc"
   },
   "source": [
    "from autoviz.AutoViz_Class import AutoViz_Class\n",
    "\n",
    "AV = AutoViz_Class()\n",
    "filename = \"for_autoviz.csv\"\n",
    "\n",
    "df_analysis.to_csv(filename, index=False)"
   ],
   "execution_count": null,
   "outputs": []
  },
  {
   "cell_type": "code",
   "metadata": {
    "id": "xClTiYHi-ztz"
   },
   "source": [
    "sep = \",\"\n",
    "dft = AV.AutoViz(\n",
    "    filename,\n",
    "    sep=\",\",\n",
    "    depVar=\"prod_score\",\n",
    "    dfte=None,\n",
    "    header=0,\n",
    "    verbose=2,\n",
    "    lowess=True,\n",
    "    chart_format=\"svg\",\n",
    "    max_rows_analyzed=150000,\n",
    "    max_cols_analyzed=30,\n",
    ")"
   ],
   "execution_count": null,
   "outputs": []
  },
  {
   "cell_type": "code",
   "metadata": {
    "id": "IeWQCS31pKOB"
   },
   "source": [
    "import shutil\n",
    "from pathlib import Path\n",
    "\n",
    "autopath = Path(\"/content/AutoViz_Plots\")\n",
    "av_arc = \"GPT-Peter Hyperparam Opt_autoviz_plots_{}\".format(timestamp)\n",
    "shutil.make_archive(av_arc, \"gztar\", autopath)\n",
    "\n",
    "if save_av:\n",
    "    put_in_dropbox(av_arc + \".tar.gz\")"
   ],
   "execution_count": null,
   "outputs": []
  },
  {
   "cell_type": "markdown",
   "metadata": {
    "id": "WQzqDKSB4cym"
   },
   "source": [
    "## sweetviz"
   ]
  },
  {
   "cell_type": "code",
   "metadata": {
    "id": "JLPiuLqN4cyy"
   },
   "source": [
    "!pip install -q sweetviz\n",
    "import sweetviz as sv\n",
    "\n",
    "df_sv = df_analysis.copy().convert_dtypes()\n",
    "\n",
    "feature_config = sv.FeatureConfig(skip=['prompt', 'speaker', 'model_response',],\n",
    "                                  force_num=['temp', 'topk', 'top_p',\n",
    "                                             'geom_score', 'prod_score'],\n",
    "                                  )\n",
    "\n",
    "\n",
    "\n",
    "df_sv = df_sv[['temp', 'topk', 'top_p', 'geom_score', 'prod_score']]\n",
    "\n",
    "df_sv = df_sv.astype(float)\n",
    "\n",
    "df_sv[\"model_response\"] = df_analysis[\"model_response\"].astype(str)\n",
    "df_sv[\"model_response\"] = df_sv[\"model_response\"].astype(\"string\")\n",
    "df_sv.info()\n",
    "# df_sv[\"topk\"] = df_sv[\"topk\"].\n",
    "\n",
    "  astype(float)\n",
    "# df_sv[\"topk\"] = df_sv[\"topk\"].astype(float)\n",
    "# arameters are skip, force_cat, force_num and force_text. "
   ],
   "execution_count": null,
   "outputs": []
  },
  {
   "cell_type": "code",
   "metadata": {
    "id": "awgOo3WM4cyz"
   },
   "source": [
    "my_report = sv.analyze(df_sv, target_feat=\"prod_score\")\n",
    "\n",
    "sv_eda_name = \"GPT-Peter Hyperparam Opt-SWEETVIZ-EDA-{}.html\".format(timestamp)\n",
    "\n",
    "my_report.show_html(\n",
    "    filepath=sv_eda_name,\n",
    "    layout=\"vertical\",\n",
    ")  # Default arguments will generate to \"SWEE"
   ],
   "execution_count": null,
   "outputs": []
  },
  {
   "cell_type": "code",
   "metadata": {
    "id": "r85YSapL4cyz"
   },
   "source": [
    "from IPython.display import HTML\n",
    "\n",
    "HTML(sv_eda_name)"
   ],
   "execution_count": null,
   "outputs": []
  },
  {
   "cell_type": "code",
   "metadata": {
    "id": "gUAn8N4Y4cy0"
   },
   "source": [
    "put_in_dropbox(sv_eda_name)"
   ],
   "execution_count": null,
   "outputs": []
  },
  {
   "cell_type": "markdown",
   "metadata": {
    "id": "-2Hq36wgDGF8"
   },
   "source": [
    "## data table + export "
   ]
  },
  {
   "cell_type": "code",
   "metadata": {
    "id": "pUT20qJODJ6Z"
   },
   "source": [
    "from google.colab import *\n",
    "\n",
    "\n",
    "data_table.DataTable(df_analysis, num_rows_per_page=10)"
   ],
   "execution_count": null,
   "outputs": []
  },
  {
   "cell_type": "code",
   "metadata": {
    "id": "4vdKLWUyDK2L"
   },
   "source": [
    "df_analysis.reset_index(drop=True, inplace=True)\n",
    "data_header = \"GPT-Peter Hyperparam Analysis w Metrics - {}\".format(timestamp)\n",
    "df_analysis.to_excel(data_header + \".xlsx\")\n",
    "put_in_dropbox(data_header + \".xlsx\")\n",
    "\n",
    "df_analysis.to_feather(data_header + \".ftr\")\n",
    "put_in_dropbox(data_header + \".xlsx\")"
   ],
   "execution_count": null,
   "outputs": []
  },
  {
   "cell_type": "markdown",
   "metadata": {
    "id": "3HJpIS6V_UPi"
   },
   "source": [
    "## pandas profiling "
   ]
  },
  {
   "cell_type": "code",
   "metadata": {
    "id": "M-22dBq03naW"
   },
   "source": [
    "gc.collect()"
   ],
   "execution_count": null,
   "outputs": []
  },
  {
   "cell_type": "code",
   "metadata": {
    "id": "BTwrpwVk_Vax"
   },
   "source": [
    "!pip uninstall -y -q pandas-profiling\n",
    "!pip install -U -q pandas-profiling\n",
    "\n",
    "import numpy as np\n",
    "from pandas_profiling import ProfileReport"
   ],
   "execution_count": null,
   "outputs": []
  },
  {
   "cell_type": "code",
   "metadata": {
    "id": "fge_Euam6iii"
   },
   "source": [
    "gc.collect()"
   ],
   "execution_count": null,
   "outputs": []
  },
  {
   "cell_type": "code",
   "metadata": {
    "id": "e9WDV2R__gR9"
   },
   "source": [
    "df_profile = df_analysis[\n",
    "    [\n",
    "        \"temp\",\n",
    "        \"topk\",\n",
    "        \"top_p\",\n",
    "        \"prod_score\",\n",
    "        \"mean_score\",\n",
    "        \"hmean_score\",\n",
    "        \"model_response\",\n",
    "    ]\n",
    "]\n",
    "profile = ProfileReport(\n",
    "    df_profile,\n",
    "    dark_mode=True,\n",
    "    title=\"GPT-Peter Hyperparam Opt (Sentence Score)\",\n",
    "    minimal=True,\n",
    ")\n",
    "\n",
    "\n",
    "profile.to_notebook_iframe()"
   ],
   "execution_count": null,
   "outputs": []
  },
  {
   "cell_type": "code",
   "metadata": {
    "id": "W1Y8l96jBIbG"
   },
   "source": [
    "pd_eda_name = \"GPT-Peter Hyperparam Opt-EDA-{}.html\".format(timestamp)\n",
    "profile.to_file(pd_eda_name)"
   ],
   "execution_count": null,
   "outputs": []
  },
  {
   "cell_type": "code",
   "metadata": {
    "id": "VfDiMaVDTeK4"
   },
   "source": [
    "put_in_dropbox(pd_eda_name)\n",
    "print(\"saved - \", datetime.now())"
   ],
   "execution_count": null,
   "outputs": []
  }
 ]
}